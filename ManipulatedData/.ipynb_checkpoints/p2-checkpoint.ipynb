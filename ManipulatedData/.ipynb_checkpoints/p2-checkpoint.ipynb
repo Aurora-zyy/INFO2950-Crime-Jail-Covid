{
 "cells": [
  {
   "cell_type": "markdown",
   "metadata": {},
   "source": [
    "# PHASE 2 #\n",
    "- Team: Hangyu Zhou (hz477) , Evian Liu (yl2867) , YingYun Zhang (yz549) , Yang Zhao (yz563)\n",
    "- Github repository link: https://github.coecis.cornell.edu/yl2867/INFO2950_Project.git\n",
    "- Rubric: https://docs.google.com/document/d/1W3mPBOMhM9SD3oym2LG3NLyB78jG-Kmv9egM3B_EObg/edit"
   ]
  },
  {
   "cell_type": "markdown",
   "metadata": {},
   "source": [
    "# 1. Research question(s) #"
   ]
  },
  {
   "cell_type": "markdown",
   "metadata": {},
   "source": [
    "By comparing the metropolitan cities of East(NY) and West Coast(LA), observe how crime rate and employment of various industries behave in response to COVID pandemic intensity.\n",
    "\n",
    "**Inspiration**:\n",
    "State-level governments across the United States issued stay-at-home orders around the end of March, while it's mandatory to prevent spread of virus, people's life has been significantly impacted. Among many variables, _unemployment_ and _crime rate_ are the two that grasp our eyes as good indicator of the extent of social chaos and structual change. Unemployment is a natural result of the suspension of many on-site job, but how do different industries confront different situation? It's also common sense that when unemployment rises, (alongwith economic recession), crime rate also rises. But actually,some media mentions there has been drop in crime - as measured by _Complaints(Offense Report)_ - from the outbreak of COVID-19. \n",
    "\n",
    "Is that true? Why would that be? How stay-in-home policy potentially affect certain types of crime, or certian part of the creminal demograohic? How such unusal impact might correlate, or countereact with unemployment? \n",
    "\n",
    "**New Variable: Jail Population**:\n",
    "Later in exploration,we added a new variable:_Jail Population_. What does the jail population correlate/covariate with crime? Again, in covid period, norm is gone.Between _complaint_ to _jail_, there are multiple judiciary steps,arrest,file,charge, trial, conviction, etc. Each step the law enforcement office is often impacted by covie policy. How would that be reflected on visualization?\n",
    "\n",
    "**Covid-19 Background**\n",
    "To incoporate the COVID-19 background into the unemployment/crime populattion change, our inital thought is merely to plot the COVID cases and death rate on the same timeline. However, it appears to us later, to explore the contributing factos behind the pattern of COVID cases and unemployment/crime, essentially we should be thinking of Government's mandatory policies. For now,we are only using COVID stats as an indirect refletion to the policy changes, which might be have an explainatory 'causal' relationship with unemployment/crime. For later phase, we might include policy loosing/tightening timestamp to further test our analysis.\n",
    "\n",
    "\n",
    "**Choice of Sample City**\n",
    "In order to keep the project in manageable scope, we chose New York City,NY and the City of Les Angeles，CA, the nation's most populated cities, as our sample. Los Angeles recorde its first case of coronavirus five weeks before NYC, yet NYC sooner became the U.S.'s epicenter of the pandemic. We think it would be meaningful to map the unemployment and crime change of the two cities together, and think how COVID hit the two large metropolitic cities differently, and what might cause the difference."
   ]
  },
  {
   "cell_type": "markdown",
   "metadata": {},
   "source": [
    "# 2. Data cleaning #"
   ]
  },
  {
   "cell_type": "markdown",
   "metadata": {},
   "source": [
    "## 2.1 Preparation ##"
   ]
  },
  {
   "cell_type": "code",
   "execution_count": 1,
   "metadata": {},
   "outputs": [],
   "source": [
    "# import packages\n",
    "import pandas as pd\n",
    "import numpy as np\n",
    "import datetime\n",
    "from matplotlib import pyplot as plt"
   ]
  },
  {
   "cell_type": "code",
   "execution_count": 2,
   "metadata": {},
   "outputs": [],
   "source": [
    "# initialize time frame for final dataset\n",
    "final_data = pd.DataFrame() \n",
    "time_lst = pd.date_range(start='1/1/2020', periods=9, freq='M').tolist()\n",
    "final_data['Period'] = time_lst"
   ]
  },
  {
   "cell_type": "code",
   "execution_count": 3,
   "metadata": {},
   "outputs": [],
   "source": [
    "# Data cleaning helper function\n",
    "def DataCleaning(dataname, colname):\n",
    "    \"\"\"\n",
    "    Requires dataname: a file have only 2 rows of years, columns from \"Jan\" to \"Dec\"\n",
    "    Returns: an updated version of final_data, with <colname>\n",
    "    \"\"\"\n",
    "    # import data\n",
    "    temp_data = pd.read_csv(dataname)\n",
    "    \n",
    "    # add subset total pplt only to combine data\n",
    "    final_data[colname] = pd.Series(temp_data.loc[1, \"Jan\":\"Sep\"].tolist())"
   ]
  },
  {
   "cell_type": "markdown",
   "metadata": {},
   "source": [
    "## 2.2 Work with Individual Raw Data Sources ##"
   ]
  },
  {
   "cell_type": "markdown",
   "metadata": {},
   "source": [
    "### 2.2.1 COVID ###\n",
    "- imported datasets are manually edited to condense and format for further data cleaning, including:\n",
    "    - date colunm was manually formated to consistent date\n",
    "    - turn rest of columns datatype to numbers"
   ]
  },
  {
   "cell_type": "code",
   "execution_count": 4,
   "metadata": {},
   "outputs": [],
   "source": [
    "# import NY maniputed data\n",
    "covid_ny = pd.read_csv(\"NYC_covid.csv\")\n",
    "\n",
    "# reformate date types\n",
    "covid_ny['DATE_OF_INTEREST'] = covid_ny['DATE_OF_INTEREST'].apply(pd.to_datetime, utc=True)\n",
    "\n",
    "# obtain month and day data to help locate obtaining end-of-month rows\n",
    "covid_ny['months'] = covid_ny['DATE_OF_INTEREST'].dt.strftime('%m')"
   ]
  },
  {
   "cell_type": "code",
   "execution_count": 5,
   "metadata": {},
   "outputs": [],
   "source": [
    "# Obtain cumulative monthly data, and adjust rows for subset data\n",
    "covidNY_sum = covid_ny.groupby('months').sum()   # sum cases for cumulative monthly data\n",
    "\n",
    "new_row = pd.DataFrame({'CASE_COUNT':0, 'HOSPITALIZED_COUNT':0, 'DEATH_COUNT':0}, index =[0])\n",
    "covidNY_sum = pd.concat([new_row, covidNY_sum]).reset_index(drop = True)  # add Jan data\n",
    "covidNY_sum = covidNY_sum.loc[0:8]  # drop October incomplete data"
   ]
  },
  {
   "cell_type": "code",
   "execution_count": 6,
   "metadata": {},
   "outputs": [],
   "source": [
    "# add subset total counts to combine data\n",
    "final_data[\"TotalCasesNY\"] = covidNY_sum['CASE_COUNT']\n",
    "final_data[\"TotalDeathsNY\"] = covidNY_sum['DEATH_COUNT']\n",
    "final_data[\"DeathRateNY\"] = (final_data['TotalDeathsNY'] / final_data['TotalCasesNY']).fillna(0)"
   ]
  },
  {
   "cell_type": "markdown",
   "metadata": {},
   "source": [
    "  "
   ]
  },
  {
   "cell_type": "code",
   "execution_count": 7,
   "metadata": {},
   "outputs": [],
   "source": [
    "# import LA maniputed data\n",
    "covid_la = pd.read_csv(\"LA_county_covid.csv\")\n",
    "\n",
    "# reformate date types\n",
    "covid_la['date_use'] = covid_la['date_use'].apply(pd.to_datetime, utc=True)\n",
    "\n",
    "# obtain month and day data to help locate obtaining end-of-month rows\n",
    "covid_la['months'] = covid_la['date_use'].dt.strftime('%m')"
   ]
  },
  {
   "cell_type": "code",
   "execution_count": 8,
   "metadata": {},
   "outputs": [],
   "source": [
    "# Obtain cumulative monthly data, and adjust rows for subset data\n",
    "covidLA_sum = covid_la.groupby('months').sum()   # sum cases for cumulative monthly data\n",
    "covidLA_sum = covidLA_sum[['new_case', 'new_deaths']]  \n",
    "\n",
    "feb_row = pd.DataFrame({'new_case':147, 'new_deaths':0}, index =[0])\n",
    "covidLA_sum = pd.concat([feb_row, covidLA_sum]).reset_index(drop = True)  # add Feb data\n",
    "jan_row = pd.DataFrame({'new_case':0, 'new_deaths':0}, index =[0])\n",
    "covidLA_sum = pd.concat([jan_row, covidLA_sum]).reset_index(drop = True)  # add Jan data\n",
    "covidLA_sum = covidLA_sum.loc[0:9]               # drop October incomplete data"
   ]
  },
  {
   "cell_type": "code",
   "execution_count": 9,
   "metadata": {},
   "outputs": [],
   "source": [
    "# add subset total counts to combine data\n",
    "final_data[\"TotalCasesLA\"] = covidLA_sum['new_case']\n",
    "final_data[\"TotalDeathsLA\"] = covidLA_sum['new_deaths']\n",
    "final_data[\"DeathRateLA\"] = (final_data['TotalDeathsLA'] / final_data['TotalCasesLA']).fillna(0)"
   ]
  },
  {
   "cell_type": "code",
   "execution_count": 10,
   "metadata": {},
   "outputs": [
    {
     "data": {
      "text/html": [
       "<div>\n",
       "<style scoped>\n",
       "    .dataframe tbody tr th:only-of-type {\n",
       "        vertical-align: middle;\n",
       "    }\n",
       "\n",
       "    .dataframe tbody tr th {\n",
       "        vertical-align: top;\n",
       "    }\n",
       "\n",
       "    .dataframe thead th {\n",
       "        text-align: right;\n",
       "    }\n",
       "</style>\n",
       "<table border=\"1\" class=\"dataframe\">\n",
       "  <thead>\n",
       "    <tr style=\"text-align: right;\">\n",
       "      <th></th>\n",
       "      <th>TotalCasesNY</th>\n",
       "      <th>TotalDeathsNY</th>\n",
       "      <th>DeathRateNY</th>\n",
       "      <th>TotalCasesLA</th>\n",
       "      <th>TotalDeathsLA</th>\n",
       "      <th>DeathRateLA</th>\n",
       "    </tr>\n",
       "  </thead>\n",
       "  <tbody>\n",
       "    <tr>\n",
       "      <th>0</th>\n",
       "      <td>0.0</td>\n",
       "      <td>0.0</td>\n",
       "      <td>0.000000</td>\n",
       "      <td>0</td>\n",
       "      <td>0</td>\n",
       "      <td>0.000000</td>\n",
       "    </tr>\n",
       "    <tr>\n",
       "      <th>1</th>\n",
       "      <td>1.0</td>\n",
       "      <td>0.0</td>\n",
       "      <td>0.000000</td>\n",
       "      <td>147</td>\n",
       "      <td>0</td>\n",
       "      <td>0.000000</td>\n",
       "    </tr>\n",
       "    <tr>\n",
       "      <th>2</th>\n",
       "      <td>65213.0</td>\n",
       "      <td>2193.0</td>\n",
       "      <td>0.033628</td>\n",
       "      <td>6473</td>\n",
       "      <td>94</td>\n",
       "      <td>0.014522</td>\n",
       "    </tr>\n",
       "    <tr>\n",
       "      <th>3</th>\n",
       "      <td>109384.0</td>\n",
       "      <td>12742.0</td>\n",
       "      <td>0.116489</td>\n",
       "      <td>22006</td>\n",
       "      <td>1109</td>\n",
       "      <td>0.050395</td>\n",
       "    </tr>\n",
       "    <tr>\n",
       "      <th>4</th>\n",
       "      <td>28481.0</td>\n",
       "      <td>2834.0</td>\n",
       "      <td>0.099505</td>\n",
       "      <td>29891</td>\n",
       "      <td>1229</td>\n",
       "      <td>0.041116</td>\n",
       "    </tr>\n",
       "  </tbody>\n",
       "</table>\n",
       "</div>"
      ],
      "text/plain": [
       "   TotalCasesNY  TotalDeathsNY  DeathRateNY  TotalCasesLA  TotalDeathsLA  \\\n",
       "0           0.0            0.0     0.000000             0              0   \n",
       "1           1.0            0.0     0.000000           147              0   \n",
       "2       65213.0         2193.0     0.033628          6473             94   \n",
       "3      109384.0        12742.0     0.116489         22006           1109   \n",
       "4       28481.0         2834.0     0.099505         29891           1229   \n",
       "\n",
       "   DeathRateLA  \n",
       "0     0.000000  \n",
       "1     0.000000  \n",
       "2     0.014522  \n",
       "3     0.050395  \n",
       "4     0.041116  "
      ]
     },
     "execution_count": 10,
     "metadata": {},
     "output_type": "execute_result"
    }
   ],
   "source": [
    "final_data[ [\"TotalCasesNY\", \"TotalDeathsNY\", \"DeathRateNY\", \"TotalCasesLA\", \"TotalDeathsLA\", \"DeathRateLA\"] ].head()"
   ]
  },
  {
   "cell_type": "markdown",
   "metadata": {},
   "source": [
    "### 2.2.2 Jail ###\n",
    "- imported datasets are manually edited to condense and format for further data cleaning, including:\n",
    "    - remove historical data prior to 2019\n",
    "    - remove analysis cells besides data records\n",
    "    - remove unnames columns\n",
    "    - turn datatype to numbers"
   ]
  },
  {
   "cell_type": "code",
   "execution_count": 11,
   "metadata": {},
   "outputs": [],
   "source": [
    "# import NY maniputed data\n",
    "jail_ny = pd.read_csv(\"NYC_jail_pplt.csv\")   \n",
    "\n",
    "# add subset total pplt only to combine data\n",
    "final_data[\"JailPpltNY\"] = pd.Series(jail_ny.loc[0, \"20-Jan\":\"20-Aug\"].tolist())"
   ]
  },
  {
   "cell_type": "markdown",
   "metadata": {},
   "source": [
    "  "
   ]
  },
  {
   "cell_type": "code",
   "execution_count": 12,
   "metadata": {},
   "outputs": [],
   "source": [
    "# import LA maniputed data\n",
    "jail_la = pd.read_csv(\"LAcounty_jail_pplt.csv\")\n",
    "\n",
    "# add subset total pplt only to combine data\n",
    "final_data[\"JailPpltLA\"] = jail_la.loc[4, \"January,2020\":\"Sept, 2020\"].tolist()"
   ]
  },
  {
   "cell_type": "code",
   "execution_count": 13,
   "metadata": {},
   "outputs": [
    {
     "data": {
      "text/html": [
       "<div>\n",
       "<style scoped>\n",
       "    .dataframe tbody tr th:only-of-type {\n",
       "        vertical-align: middle;\n",
       "    }\n",
       "\n",
       "    .dataframe tbody tr th {\n",
       "        vertical-align: top;\n",
       "    }\n",
       "\n",
       "    .dataframe thead th {\n",
       "        text-align: right;\n",
       "    }\n",
       "</style>\n",
       "<table border=\"1\" class=\"dataframe\">\n",
       "  <thead>\n",
       "    <tr style=\"text-align: right;\">\n",
       "      <th></th>\n",
       "      <th>JailPpltNY</th>\n",
       "      <th>JailPpltLA</th>\n",
       "    </tr>\n",
       "  </thead>\n",
       "  <tbody>\n",
       "    <tr>\n",
       "      <th>0</th>\n",
       "      <td>5544.0</td>\n",
       "      <td>6035.0</td>\n",
       "    </tr>\n",
       "    <tr>\n",
       "      <th>1</th>\n",
       "      <td>5356.0</td>\n",
       "      <td>5960.0</td>\n",
       "    </tr>\n",
       "    <tr>\n",
       "      <th>2</th>\n",
       "      <td>5195.0</td>\n",
       "      <td>6015.0</td>\n",
       "    </tr>\n",
       "    <tr>\n",
       "      <th>3</th>\n",
       "      <td>3973.0</td>\n",
       "      <td>5798.0</td>\n",
       "    </tr>\n",
       "    <tr>\n",
       "      <th>4</th>\n",
       "      <td>3859.0</td>\n",
       "      <td>5758.0</td>\n",
       "    </tr>\n",
       "  </tbody>\n",
       "</table>\n",
       "</div>"
      ],
      "text/plain": [
       "   JailPpltNY  JailPpltLA\n",
       "0      5544.0      6035.0\n",
       "1      5356.0      5960.0\n",
       "2      5195.0      6015.0\n",
       "3      3973.0      5798.0\n",
       "4      3859.0      5758.0"
      ]
     },
     "execution_count": 13,
     "metadata": {},
     "output_type": "execute_result"
    }
   ],
   "source": [
    "final_data[ [\"JailPpltNY\", \"JailPpltLA\"] ].head()"
   ]
  },
  {
   "cell_type": "markdown",
   "metadata": {},
   "source": [
    "### 2.2.3 Unemployment ###\n",
    "- to use helper function, the dataset is manipulated into specified format"
   ]
  },
  {
   "cell_type": "code",
   "execution_count": 14,
   "metadata": {
    "scrolled": true
   },
   "outputs": [],
   "source": [
    "# import and clean NY data by calling helper function\n",
    "DataCleaning(\"NYC_unemployment.csv\", \"UnemplNY\")"
   ]
  },
  {
   "cell_type": "markdown",
   "metadata": {},
   "source": [
    "   "
   ]
  },
  {
   "cell_type": "code",
   "execution_count": 15,
   "metadata": {},
   "outputs": [],
   "source": [
    "# import and clean LA data by calling helper function\n",
    "DataCleaning(\"LA_unemployment.csv\", \"UnemplLA\")"
   ]
  },
  {
   "cell_type": "code",
   "execution_count": 16,
   "metadata": {},
   "outputs": [
    {
     "data": {
      "text/html": [
       "<div>\n",
       "<style scoped>\n",
       "    .dataframe tbody tr th:only-of-type {\n",
       "        vertical-align: middle;\n",
       "    }\n",
       "\n",
       "    .dataframe tbody tr th {\n",
       "        vertical-align: top;\n",
       "    }\n",
       "\n",
       "    .dataframe thead th {\n",
       "        text-align: right;\n",
       "    }\n",
       "</style>\n",
       "<table border=\"1\" class=\"dataframe\">\n",
       "  <thead>\n",
       "    <tr style=\"text-align: right;\">\n",
       "      <th></th>\n",
       "      <th>UnemplNY</th>\n",
       "      <th>UnemplLA</th>\n",
       "    </tr>\n",
       "  </thead>\n",
       "  <tbody>\n",
       "    <tr>\n",
       "      <th>0</th>\n",
       "      <td>3.5</td>\n",
       "      <td>4.1</td>\n",
       "    </tr>\n",
       "    <tr>\n",
       "      <th>1</th>\n",
       "      <td>3.4</td>\n",
       "      <td>4.1</td>\n",
       "    </tr>\n",
       "    <tr>\n",
       "      <th>2</th>\n",
       "      <td>4.1</td>\n",
       "      <td>5.9</td>\n",
       "    </tr>\n",
       "    <tr>\n",
       "      <th>3</th>\n",
       "      <td>15.0</td>\n",
       "      <td>18.8</td>\n",
       "    </tr>\n",
       "    <tr>\n",
       "      <th>4</th>\n",
       "      <td>18.3</td>\n",
       "      <td>19.3</td>\n",
       "    </tr>\n",
       "  </tbody>\n",
       "</table>\n",
       "</div>"
      ],
      "text/plain": [
       "   UnemplNY  UnemplLA\n",
       "0       3.5       4.1\n",
       "1       3.4       4.1\n",
       "2       4.1       5.9\n",
       "3      15.0      18.8\n",
       "4      18.3      19.3"
      ]
     },
     "execution_count": 16,
     "metadata": {},
     "output_type": "execute_result"
    }
   ],
   "source": [
    "final_data[ [\"UnemplNY\", \"UnemplLA\"] ].head()"
   ]
  },
  {
   "cell_type": "markdown",
   "metadata": {},
   "source": [
    "### 2.2.4 Weekly working Hours ###\n",
    "- to use helper function, the dataset is manipulated into specified format"
   ]
  },
  {
   "cell_type": "code",
   "execution_count": 17,
   "metadata": {},
   "outputs": [],
   "source": [
    "# import and clean data by calling helper function\n",
    "DataCleaning(\"NYC_weekly_hours.csv\", \"WorkHrNY\")\n",
    "DataCleaning(\"LA_weekly_hours.csv\", \"WorkHrLA\")"
   ]
  },
  {
   "cell_type": "code",
   "execution_count": 18,
   "metadata": {},
   "outputs": [
    {
     "data": {
      "text/html": [
       "<div>\n",
       "<style scoped>\n",
       "    .dataframe tbody tr th:only-of-type {\n",
       "        vertical-align: middle;\n",
       "    }\n",
       "\n",
       "    .dataframe tbody tr th {\n",
       "        vertical-align: top;\n",
       "    }\n",
       "\n",
       "    .dataframe thead th {\n",
       "        text-align: right;\n",
       "    }\n",
       "</style>\n",
       "<table border=\"1\" class=\"dataframe\">\n",
       "  <thead>\n",
       "    <tr style=\"text-align: right;\">\n",
       "      <th></th>\n",
       "      <th>WorkHrNY</th>\n",
       "      <th>WorkHrLA</th>\n",
       "    </tr>\n",
       "  </thead>\n",
       "  <tbody>\n",
       "    <tr>\n",
       "      <th>0</th>\n",
       "      <td>33.3</td>\n",
       "      <td>34.6</td>\n",
       "    </tr>\n",
       "    <tr>\n",
       "      <th>1</th>\n",
       "      <td>33.9</td>\n",
       "      <td>35.4</td>\n",
       "    </tr>\n",
       "    <tr>\n",
       "      <th>2</th>\n",
       "      <td>33.6</td>\n",
       "      <td>35.0</td>\n",
       "    </tr>\n",
       "    <tr>\n",
       "      <th>3</th>\n",
       "      <td>32.8</td>\n",
       "      <td>33.9</td>\n",
       "    </tr>\n",
       "    <tr>\n",
       "      <th>4</th>\n",
       "      <td>33.1</td>\n",
       "      <td>34.6</td>\n",
       "    </tr>\n",
       "  </tbody>\n",
       "</table>\n",
       "</div>"
      ],
      "text/plain": [
       "   WorkHrNY  WorkHrLA\n",
       "0      33.3      34.6\n",
       "1      33.9      35.4\n",
       "2      33.6      35.0\n",
       "3      32.8      33.9\n",
       "4      33.1      34.6"
      ]
     },
     "execution_count": 18,
     "metadata": {},
     "output_type": "execute_result"
    }
   ],
   "source": [
    "final_data[ [\"WorkHrNY\", \"WorkHrLA\"] ].head()"
   ]
  },
  {
   "cell_type": "markdown",
   "metadata": {},
   "source": [
    "### 2.2.5 Computer services employee ###\n",
    "- to use helper function, the dataset is manipulated into specified format"
   ]
  },
  {
   "cell_type": "code",
   "execution_count": 19,
   "metadata": {},
   "outputs": [],
   "source": [
    "# import and clean data by calling helper function\n",
    "DataCleaning(\"NYC_computer.csv\", \"CompEmplNY\")\n",
    "DataCleaning(\"LA_computer.csv\", \"CompEmplLA\")"
   ]
  },
  {
   "cell_type": "code",
   "execution_count": 20,
   "metadata": {},
   "outputs": [
    {
     "data": {
      "text/html": [
       "<div>\n",
       "<style scoped>\n",
       "    .dataframe tbody tr th:only-of-type {\n",
       "        vertical-align: middle;\n",
       "    }\n",
       "\n",
       "    .dataframe tbody tr th {\n",
       "        vertical-align: top;\n",
       "    }\n",
       "\n",
       "    .dataframe thead th {\n",
       "        text-align: right;\n",
       "    }\n",
       "</style>\n",
       "<table border=\"1\" class=\"dataframe\">\n",
       "  <thead>\n",
       "    <tr style=\"text-align: right;\">\n",
       "      <th></th>\n",
       "      <th>CompEmplNY</th>\n",
       "      <th>CompEmplLA</th>\n",
       "    </tr>\n",
       "  </thead>\n",
       "  <tbody>\n",
       "    <tr>\n",
       "      <th>0</th>\n",
       "      <td>72.3</td>\n",
       "      <td>63.1</td>\n",
       "    </tr>\n",
       "    <tr>\n",
       "      <th>1</th>\n",
       "      <td>73.4</td>\n",
       "      <td>64.1</td>\n",
       "    </tr>\n",
       "    <tr>\n",
       "      <th>2</th>\n",
       "      <td>73.2</td>\n",
       "      <td>63.4</td>\n",
       "    </tr>\n",
       "    <tr>\n",
       "      <th>3</th>\n",
       "      <td>69.9</td>\n",
       "      <td>62.0</td>\n",
       "    </tr>\n",
       "    <tr>\n",
       "      <th>4</th>\n",
       "      <td>69.2</td>\n",
       "      <td>61.8</td>\n",
       "    </tr>\n",
       "  </tbody>\n",
       "</table>\n",
       "</div>"
      ],
      "text/plain": [
       "   CompEmplNY  CompEmplLA\n",
       "0        72.3        63.1\n",
       "1        73.4        64.1\n",
       "2        73.2        63.4\n",
       "3        69.9        62.0\n",
       "4        69.2        61.8"
      ]
     },
     "execution_count": 20,
     "metadata": {},
     "output_type": "execute_result"
    }
   ],
   "source": [
    "final_data[ [\"CompEmplNY\", \"CompEmplLA\"] ].head()"
   ]
  },
  {
   "cell_type": "markdown",
   "metadata": {},
   "source": [
    "### 2.2.6 Local government employee ###\n",
    "- to use helper function, the dataset is manipulated into specified format"
   ]
  },
  {
   "cell_type": "code",
   "execution_count": 21,
   "metadata": {},
   "outputs": [],
   "source": [
    "# import and clean data by calling helper function\n",
    "DataCleaning(\"NYC_localgovernment.csv\", \"GovEmplNY\")\n",
    "DataCleaning(\"LA_localgovernment.csv\", \"GovEmplLA\")"
   ]
  },
  {
   "cell_type": "code",
   "execution_count": 22,
   "metadata": {},
   "outputs": [
    {
     "data": {
      "text/html": [
       "<div>\n",
       "<style scoped>\n",
       "    .dataframe tbody tr th:only-of-type {\n",
       "        vertical-align: middle;\n",
       "    }\n",
       "\n",
       "    .dataframe tbody tr th {\n",
       "        vertical-align: top;\n",
       "    }\n",
       "\n",
       "    .dataframe thead th {\n",
       "        text-align: right;\n",
       "    }\n",
       "</style>\n",
       "<table border=\"1\" class=\"dataframe\">\n",
       "  <thead>\n",
       "    <tr style=\"text-align: right;\">\n",
       "      <th></th>\n",
       "      <th>GovEmplNY</th>\n",
       "      <th>GovEmplLA</th>\n",
       "    </tr>\n",
       "  </thead>\n",
       "  <tbody>\n",
       "    <tr>\n",
       "      <th>0</th>\n",
       "      <td>489.6</td>\n",
       "      <td>578.0</td>\n",
       "    </tr>\n",
       "    <tr>\n",
       "      <th>1</th>\n",
       "      <td>499.3</td>\n",
       "      <td>588.6</td>\n",
       "    </tr>\n",
       "    <tr>\n",
       "      <th>2</th>\n",
       "      <td>503.8</td>\n",
       "      <td>593.6</td>\n",
       "    </tr>\n",
       "    <tr>\n",
       "      <th>3</th>\n",
       "      <td>486.4</td>\n",
       "      <td>572.5</td>\n",
       "    </tr>\n",
       "    <tr>\n",
       "      <th>4</th>\n",
       "      <td>477.7</td>\n",
       "      <td>558.6</td>\n",
       "    </tr>\n",
       "  </tbody>\n",
       "</table>\n",
       "</div>"
      ],
      "text/plain": [
       "   GovEmplNY  GovEmplLA\n",
       "0      489.6      578.0\n",
       "1      499.3      588.6\n",
       "2      503.8      593.6\n",
       "3      486.4      572.5\n",
       "4      477.7      558.6"
      ]
     },
     "execution_count": 22,
     "metadata": {},
     "output_type": "execute_result"
    }
   ],
   "source": [
    "final_data[ [\"GovEmplNY\", \"GovEmplLA\"] ].head()"
   ]
  },
  {
   "cell_type": "markdown",
   "metadata": {},
   "source": [
    "### 2.2.7 Hospital employee ###\n",
    "- to use helper function, the dataset is manipulated into specified format"
   ]
  },
  {
   "cell_type": "code",
   "execution_count": 23,
   "metadata": {},
   "outputs": [],
   "source": [
    "# import and clean data by calling helper function\n",
    "DataCleaning(\"NYC_hospitals.csv\", \"HospEmplNY\")\n",
    "DataCleaning(\"LA_hospitals.csv\", \"HospEmplLA\")"
   ]
  },
  {
   "cell_type": "code",
   "execution_count": 24,
   "metadata": {},
   "outputs": [
    {
     "data": {
      "text/html": [
       "<div>\n",
       "<style scoped>\n",
       "    .dataframe tbody tr th:only-of-type {\n",
       "        vertical-align: middle;\n",
       "    }\n",
       "\n",
       "    .dataframe tbody tr th {\n",
       "        vertical-align: top;\n",
       "    }\n",
       "\n",
       "    .dataframe thead th {\n",
       "        text-align: right;\n",
       "    }\n",
       "</style>\n",
       "<table border=\"1\" class=\"dataframe\">\n",
       "  <thead>\n",
       "    <tr style=\"text-align: right;\">\n",
       "      <th></th>\n",
       "      <th>HospEmplNY</th>\n",
       "      <th>HospEmplLA</th>\n",
       "    </tr>\n",
       "  </thead>\n",
       "  <tbody>\n",
       "    <tr>\n",
       "      <th>0</th>\n",
       "      <td>168.4</td>\n",
       "      <td>152.3</td>\n",
       "    </tr>\n",
       "    <tr>\n",
       "      <th>1</th>\n",
       "      <td>168.2</td>\n",
       "      <td>152.6</td>\n",
       "    </tr>\n",
       "    <tr>\n",
       "      <th>2</th>\n",
       "      <td>167.7</td>\n",
       "      <td>153.5</td>\n",
       "    </tr>\n",
       "    <tr>\n",
       "      <th>3</th>\n",
       "      <td>165.5</td>\n",
       "      <td>155.8</td>\n",
       "    </tr>\n",
       "    <tr>\n",
       "      <th>4</th>\n",
       "      <td>164.1</td>\n",
       "      <td>154.9</td>\n",
       "    </tr>\n",
       "  </tbody>\n",
       "</table>\n",
       "</div>"
      ],
      "text/plain": [
       "   HospEmplNY  HospEmplLA\n",
       "0       168.4       152.3\n",
       "1       168.2       152.6\n",
       "2       167.7       153.5\n",
       "3       165.5       155.8\n",
       "4       164.1       154.9"
      ]
     },
     "execution_count": 24,
     "metadata": {},
     "output_type": "execute_result"
    }
   ],
   "source": [
    "final_data[ [\"HospEmplNY\", \"HospEmplLA\"] ].head()"
   ]
  },
  {
   "cell_type": "markdown",
   "metadata": {},
   "source": [
    "### 2.2.8 Financial activities employee ###\n",
    "- to use helper function, the dataset is manipulated into specified format"
   ]
  },
  {
   "cell_type": "code",
   "execution_count": 25,
   "metadata": {},
   "outputs": [],
   "source": [
    "# import and clean data by calling helper function\n",
    "DataCleaning(\"NYC_financialactivities.csv\", \"FinEmplNY\")\n",
    "DataCleaning(\"LA_financialactivities.csv\", \"FinEmplLA\")"
   ]
  },
  {
   "cell_type": "code",
   "execution_count": 26,
   "metadata": {},
   "outputs": [
    {
     "data": {
      "text/html": [
       "<div>\n",
       "<style scoped>\n",
       "    .dataframe tbody tr th:only-of-type {\n",
       "        vertical-align: middle;\n",
       "    }\n",
       "\n",
       "    .dataframe tbody tr th {\n",
       "        vertical-align: top;\n",
       "    }\n",
       "\n",
       "    .dataframe thead th {\n",
       "        text-align: right;\n",
       "    }\n",
       "</style>\n",
       "<table border=\"1\" class=\"dataframe\">\n",
       "  <thead>\n",
       "    <tr style=\"text-align: right;\">\n",
       "      <th></th>\n",
       "      <th>FinEmplNY</th>\n",
       "      <th>FinEmplLA</th>\n",
       "    </tr>\n",
       "  </thead>\n",
       "  <tbody>\n",
       "    <tr>\n",
       "      <th>0</th>\n",
       "      <td>475.3</td>\n",
       "      <td>342.8</td>\n",
       "    </tr>\n",
       "    <tr>\n",
       "      <th>1</th>\n",
       "      <td>477.7</td>\n",
       "      <td>345.8</td>\n",
       "    </tr>\n",
       "    <tr>\n",
       "      <th>2</th>\n",
       "      <td>462.0</td>\n",
       "      <td>346.9</td>\n",
       "    </tr>\n",
       "    <tr>\n",
       "      <th>3</th>\n",
       "      <td>455.6</td>\n",
       "      <td>329.5</td>\n",
       "    </tr>\n",
       "    <tr>\n",
       "      <th>4</th>\n",
       "      <td>453.8</td>\n",
       "      <td>330.1</td>\n",
       "    </tr>\n",
       "  </tbody>\n",
       "</table>\n",
       "</div>"
      ],
      "text/plain": [
       "   FinEmplNY  FinEmplLA\n",
       "0      475.3      342.8\n",
       "1      477.7      345.8\n",
       "2      462.0      346.9\n",
       "3      455.6      329.5\n",
       "4      453.8      330.1"
      ]
     },
     "execution_count": 26,
     "metadata": {},
     "output_type": "execute_result"
    }
   ],
   "source": [
    "final_data[ [\"FinEmplNY\", \"FinEmplLA\"] ].head()"
   ]
  },
  {
   "cell_type": "markdown",
   "metadata": {},
   "source": [
    "### 2.2.9 Educational services employee ###\n",
    "- to use helper function, the dataset is manipulated into specified format"
   ]
  },
  {
   "cell_type": "code",
   "execution_count": 27,
   "metadata": {},
   "outputs": [],
   "source": [
    "# import and clean data by calling helper function\n",
    "DataCleaning(\"NYC_educationalservices.csv\", \"EduEmplNY\")\n",
    "DataCleaning(\"LA_educationalservices.csv\", \"EduEmplLA\")"
   ]
  },
  {
   "cell_type": "code",
   "execution_count": 28,
   "metadata": {},
   "outputs": [
    {
     "data": {
      "text/html": [
       "<div>\n",
       "<style scoped>\n",
       "    .dataframe tbody tr th:only-of-type {\n",
       "        vertical-align: middle;\n",
       "    }\n",
       "\n",
       "    .dataframe tbody tr th {\n",
       "        vertical-align: top;\n",
       "    }\n",
       "\n",
       "    .dataframe thead th {\n",
       "        text-align: right;\n",
       "    }\n",
       "</style>\n",
       "<table border=\"1\" class=\"dataframe\">\n",
       "  <thead>\n",
       "    <tr style=\"text-align: right;\">\n",
       "      <th></th>\n",
       "      <th>EduEmplNY</th>\n",
       "      <th>EduEmplLA</th>\n",
       "    </tr>\n",
       "  </thead>\n",
       "  <tbody>\n",
       "    <tr>\n",
       "      <th>0</th>\n",
       "      <td>246.3</td>\n",
       "      <td>173.6</td>\n",
       "    </tr>\n",
       "    <tr>\n",
       "      <th>1</th>\n",
       "      <td>260.7</td>\n",
       "      <td>182.1</td>\n",
       "    </tr>\n",
       "    <tr>\n",
       "      <th>2</th>\n",
       "      <td>260.2</td>\n",
       "      <td>179.5</td>\n",
       "    </tr>\n",
       "    <tr>\n",
       "      <th>3</th>\n",
       "      <td>226.7</td>\n",
       "      <td>166.8</td>\n",
       "    </tr>\n",
       "    <tr>\n",
       "      <th>4</th>\n",
       "      <td>221.8</td>\n",
       "      <td>162.7</td>\n",
       "    </tr>\n",
       "  </tbody>\n",
       "</table>\n",
       "</div>"
      ],
      "text/plain": [
       "   EduEmplNY  EduEmplLA\n",
       "0      246.3      173.6\n",
       "1      260.7      182.1\n",
       "2      260.2      179.5\n",
       "3      226.7      166.8\n",
       "4      221.8      162.7"
      ]
     },
     "execution_count": 28,
     "metadata": {},
     "output_type": "execute_result"
    }
   ],
   "source": [
    "final_data[ [\"EduEmplNY\", \"EduEmplLA\"] ].head()"
   ]
  },
  {
   "cell_type": "markdown",
   "metadata": {},
   "source": [
    "### 2.2.10 Crime ###\n",
    "- imported datasets are manually edited to condense and format for further data cleaning, including:\n",
    "    - data is shrinked by unused rows and columns to reduce file size\n",
    "    - manipulate datatype to be consistent"
   ]
  },
  {
   "cell_type": "code",
   "execution_count": 29,
   "metadata": {},
   "outputs": [],
   "source": [
    "crime_ny = pd.read_csv(\"NYC_crime.csv\")"
   ]
  },
  {
   "cell_type": "code",
   "execution_count": 30,
   "metadata": {},
   "outputs": [],
   "source": [
    "# reformate date types\n",
    "crime_ny['CMPLNT_FR_DT'] = crime_ny['CMPLNT_FR_DT'].apply(pd.to_datetime, utc=True)\n",
    "\n",
    "# obtain month and day data to help locate obtaining month rows\n",
    "crime_ny['months'] = crime_ny['CMPLNT_FR_DT'].dt.strftime('%m')"
   ]
  },
  {
   "cell_type": "code",
   "execution_count": 31,
   "metadata": {},
   "outputs": [],
   "source": [
    "# obtain monthly counts\n",
    "crimeNY_sum = crime_ny.groupby('months').count()\n",
    "crimeNY_sum = crimeNY_sum['CMPLNT_FR_DT']\n",
    "\n",
    "final_data[\"CrimeNY\"] = pd.Series(crimeNY_sum.tolist())"
   ]
  },
  {
   "cell_type": "markdown",
   "metadata": {},
   "source": [
    "   "
   ]
  },
  {
   "cell_type": "code",
   "execution_count": 32,
   "metadata": {},
   "outputs": [],
   "source": [
    "crime_la = pd.read_csv(\"LA_crime.csv\")"
   ]
  },
  {
   "cell_type": "code",
   "execution_count": 33,
   "metadata": {},
   "outputs": [],
   "source": [
    "# reformate date types\n",
    "crime_la['Date Rptd'] = crime_la['Date Rptd'].apply(pd.to_datetime, utc=True)\n",
    "\n",
    "# obtain month and day data to help locate obtaining month rows\n",
    "crime_la['months'] = crime_la['Date Rptd'].dt.strftime('%m')"
   ]
  },
  {
   "cell_type": "code",
   "execution_count": 34,
   "metadata": {},
   "outputs": [],
   "source": [
    "# obtain monthly counts\n",
    "crimeLA_sum = crime_la.groupby('months').count()\n",
    "final_data[\"CrimeLA\"] = pd.Series(crimeLA_sum['Date Rptd'].tolist())"
   ]
  },
  {
   "cell_type": "code",
   "execution_count": 35,
   "metadata": {},
   "outputs": [
    {
     "data": {
      "text/html": [
       "<div>\n",
       "<style scoped>\n",
       "    .dataframe tbody tr th:only-of-type {\n",
       "        vertical-align: middle;\n",
       "    }\n",
       "\n",
       "    .dataframe tbody tr th {\n",
       "        vertical-align: top;\n",
       "    }\n",
       "\n",
       "    .dataframe thead th {\n",
       "        text-align: right;\n",
       "    }\n",
       "</style>\n",
       "<table border=\"1\" class=\"dataframe\">\n",
       "  <thead>\n",
       "    <tr style=\"text-align: right;\">\n",
       "      <th></th>\n",
       "      <th>CrimeNY</th>\n",
       "      <th>CrimeLA</th>\n",
       "    </tr>\n",
       "  </thead>\n",
       "  <tbody>\n",
       "    <tr>\n",
       "      <th>0</th>\n",
       "      <td>38066.0</td>\n",
       "      <td>15991</td>\n",
       "    </tr>\n",
       "    <tr>\n",
       "      <th>1</th>\n",
       "      <td>34961.0</td>\n",
       "      <td>16483</td>\n",
       "    </tr>\n",
       "    <tr>\n",
       "      <th>2</th>\n",
       "      <td>31794.0</td>\n",
       "      <td>15540</td>\n",
       "    </tr>\n",
       "    <tr>\n",
       "      <th>3</th>\n",
       "      <td>24280.0</td>\n",
       "      <td>15166</td>\n",
       "    </tr>\n",
       "    <tr>\n",
       "      <th>4</th>\n",
       "      <td>31233.0</td>\n",
       "      <td>16314</td>\n",
       "    </tr>\n",
       "  </tbody>\n",
       "</table>\n",
       "</div>"
      ],
      "text/plain": [
       "   CrimeNY  CrimeLA\n",
       "0  38066.0    15991\n",
       "1  34961.0    16483\n",
       "2  31794.0    15540\n",
       "3  24280.0    15166\n",
       "4  31233.0    16314"
      ]
     },
     "execution_count": 35,
     "metadata": {},
     "output_type": "execute_result"
    }
   ],
   "source": [
    "final_data[ [\"CrimeNY\", \"CrimeLA\"] ].head()"
   ]
  },
  {
   "cell_type": "markdown",
   "metadata": {},
   "source": [
    "## III. Final Dataset ##"
   ]
  },
  {
   "cell_type": "code",
   "execution_count": 36,
   "metadata": {},
   "outputs": [
    {
     "data": {
      "text/html": [
       "<div>\n",
       "<style scoped>\n",
       "    .dataframe tbody tr th:only-of-type {\n",
       "        vertical-align: middle;\n",
       "    }\n",
       "\n",
       "    .dataframe tbody tr th {\n",
       "        vertical-align: top;\n",
       "    }\n",
       "\n",
       "    .dataframe thead th {\n",
       "        text-align: right;\n",
       "    }\n",
       "</style>\n",
       "<table border=\"1\" class=\"dataframe\">\n",
       "  <thead>\n",
       "    <tr style=\"text-align: right;\">\n",
       "      <th></th>\n",
       "      <th>Period</th>\n",
       "      <th>TotalCasesNY</th>\n",
       "      <th>TotalDeathsNY</th>\n",
       "      <th>DeathRateNY</th>\n",
       "      <th>TotalCasesLA</th>\n",
       "      <th>TotalDeathsLA</th>\n",
       "      <th>DeathRateLA</th>\n",
       "      <th>JailPpltNY</th>\n",
       "      <th>JailPpltLA</th>\n",
       "      <th>UnemplNY</th>\n",
       "      <th>...</th>\n",
       "      <th>GovEmplNY</th>\n",
       "      <th>GovEmplLA</th>\n",
       "      <th>HospEmplNY</th>\n",
       "      <th>HospEmplLA</th>\n",
       "      <th>FinEmplNY</th>\n",
       "      <th>FinEmplLA</th>\n",
       "      <th>EduEmplNY</th>\n",
       "      <th>EduEmplLA</th>\n",
       "      <th>CrimeNY</th>\n",
       "      <th>CrimeLA</th>\n",
       "    </tr>\n",
       "  </thead>\n",
       "  <tbody>\n",
       "    <tr>\n",
       "      <th>0</th>\n",
       "      <td>2020-01-31</td>\n",
       "      <td>0.0</td>\n",
       "      <td>0.0</td>\n",
       "      <td>0.000000</td>\n",
       "      <td>0</td>\n",
       "      <td>0</td>\n",
       "      <td>0.000000</td>\n",
       "      <td>5544.0</td>\n",
       "      <td>6035.0</td>\n",
       "      <td>3.5</td>\n",
       "      <td>...</td>\n",
       "      <td>489.6</td>\n",
       "      <td>578.0</td>\n",
       "      <td>168.4</td>\n",
       "      <td>152.3</td>\n",
       "      <td>475.3</td>\n",
       "      <td>342.8</td>\n",
       "      <td>246.3</td>\n",
       "      <td>173.6</td>\n",
       "      <td>38066.0</td>\n",
       "      <td>15991</td>\n",
       "    </tr>\n",
       "    <tr>\n",
       "      <th>1</th>\n",
       "      <td>2020-02-29</td>\n",
       "      <td>1.0</td>\n",
       "      <td>0.0</td>\n",
       "      <td>0.000000</td>\n",
       "      <td>147</td>\n",
       "      <td>0</td>\n",
       "      <td>0.000000</td>\n",
       "      <td>5356.0</td>\n",
       "      <td>5960.0</td>\n",
       "      <td>3.4</td>\n",
       "      <td>...</td>\n",
       "      <td>499.3</td>\n",
       "      <td>588.6</td>\n",
       "      <td>168.2</td>\n",
       "      <td>152.6</td>\n",
       "      <td>477.7</td>\n",
       "      <td>345.8</td>\n",
       "      <td>260.7</td>\n",
       "      <td>182.1</td>\n",
       "      <td>34961.0</td>\n",
       "      <td>16483</td>\n",
       "    </tr>\n",
       "    <tr>\n",
       "      <th>2</th>\n",
       "      <td>2020-03-31</td>\n",
       "      <td>65213.0</td>\n",
       "      <td>2193.0</td>\n",
       "      <td>0.033628</td>\n",
       "      <td>6473</td>\n",
       "      <td>94</td>\n",
       "      <td>0.014522</td>\n",
       "      <td>5195.0</td>\n",
       "      <td>6015.0</td>\n",
       "      <td>4.1</td>\n",
       "      <td>...</td>\n",
       "      <td>503.8</td>\n",
       "      <td>593.6</td>\n",
       "      <td>167.7</td>\n",
       "      <td>153.5</td>\n",
       "      <td>462.0</td>\n",
       "      <td>346.9</td>\n",
       "      <td>260.2</td>\n",
       "      <td>179.5</td>\n",
       "      <td>31794.0</td>\n",
       "      <td>15540</td>\n",
       "    </tr>\n",
       "    <tr>\n",
       "      <th>3</th>\n",
       "      <td>2020-04-30</td>\n",
       "      <td>109384.0</td>\n",
       "      <td>12742.0</td>\n",
       "      <td>0.116489</td>\n",
       "      <td>22006</td>\n",
       "      <td>1109</td>\n",
       "      <td>0.050395</td>\n",
       "      <td>3973.0</td>\n",
       "      <td>5798.0</td>\n",
       "      <td>15.0</td>\n",
       "      <td>...</td>\n",
       "      <td>486.4</td>\n",
       "      <td>572.5</td>\n",
       "      <td>165.5</td>\n",
       "      <td>155.8</td>\n",
       "      <td>455.6</td>\n",
       "      <td>329.5</td>\n",
       "      <td>226.7</td>\n",
       "      <td>166.8</td>\n",
       "      <td>24280.0</td>\n",
       "      <td>15166</td>\n",
       "    </tr>\n",
       "    <tr>\n",
       "      <th>4</th>\n",
       "      <td>2020-05-31</td>\n",
       "      <td>28481.0</td>\n",
       "      <td>2834.0</td>\n",
       "      <td>0.099505</td>\n",
       "      <td>29891</td>\n",
       "      <td>1229</td>\n",
       "      <td>0.041116</td>\n",
       "      <td>3859.0</td>\n",
       "      <td>5758.0</td>\n",
       "      <td>18.3</td>\n",
       "      <td>...</td>\n",
       "      <td>477.7</td>\n",
       "      <td>558.6</td>\n",
       "      <td>164.1</td>\n",
       "      <td>154.9</td>\n",
       "      <td>453.8</td>\n",
       "      <td>330.1</td>\n",
       "      <td>221.8</td>\n",
       "      <td>162.7</td>\n",
       "      <td>31233.0</td>\n",
       "      <td>16314</td>\n",
       "    </tr>\n",
       "  </tbody>\n",
       "</table>\n",
       "<p>5 rows × 25 columns</p>\n",
       "</div>"
      ],
      "text/plain": [
       "      Period  TotalCasesNY  TotalDeathsNY  DeathRateNY  TotalCasesLA  \\\n",
       "0 2020-01-31           0.0            0.0     0.000000             0   \n",
       "1 2020-02-29           1.0            0.0     0.000000           147   \n",
       "2 2020-03-31       65213.0         2193.0     0.033628          6473   \n",
       "3 2020-04-30      109384.0        12742.0     0.116489         22006   \n",
       "4 2020-05-31       28481.0         2834.0     0.099505         29891   \n",
       "\n",
       "   TotalDeathsLA  DeathRateLA  JailPpltNY  JailPpltLA  UnemplNY  ...  \\\n",
       "0              0     0.000000      5544.0      6035.0       3.5  ...   \n",
       "1              0     0.000000      5356.0      5960.0       3.4  ...   \n",
       "2             94     0.014522      5195.0      6015.0       4.1  ...   \n",
       "3           1109     0.050395      3973.0      5798.0      15.0  ...   \n",
       "4           1229     0.041116      3859.0      5758.0      18.3  ...   \n",
       "\n",
       "   GovEmplNY  GovEmplLA  HospEmplNY  HospEmplLA  FinEmplNY  FinEmplLA  \\\n",
       "0      489.6      578.0       168.4       152.3      475.3      342.8   \n",
       "1      499.3      588.6       168.2       152.6      477.7      345.8   \n",
       "2      503.8      593.6       167.7       153.5      462.0      346.9   \n",
       "3      486.4      572.5       165.5       155.8      455.6      329.5   \n",
       "4      477.7      558.6       164.1       154.9      453.8      330.1   \n",
       "\n",
       "   EduEmplNY  EduEmplLA  CrimeNY  CrimeLA  \n",
       "0      246.3      173.6  38066.0    15991  \n",
       "1      260.7      182.1  34961.0    16483  \n",
       "2      260.2      179.5  31794.0    15540  \n",
       "3      226.7      166.8  24280.0    15166  \n",
       "4      221.8      162.7  31233.0    16314  \n",
       "\n",
       "[5 rows x 25 columns]"
      ]
     },
     "execution_count": 36,
     "metadata": {},
     "output_type": "execute_result"
    }
   ],
   "source": [
    "final_data.head()"
   ]
  },
  {
   "cell_type": "markdown",
   "metadata": {},
   "source": [
    "# 3. Data description #"
   ]
  },
  {
   "cell_type": "markdown",
   "metadata": {},
   "source": [
    "### 3.1 What are the observations (rows) and the attributes (columns)? ###\n",
    "There are mainly nine rows indicating the first nine months of 2020. There are many columns covering a variety of variables that will contribute to the analysis between the two cities New York and Los Angeles:\n",
    "\n",
    "- COVID variables: \n",
    "    - TotalCasesNY: number of positive cases tested in New York per month\n",
    "    - TotalCasesLA: number of positive cases tested in Los Angeles per month\n",
    "    - TotalDeathsNY: number of deaths due to COVID in New York per month\n",
    "    - TotalDeathsLA: number of deaths due to COVID in Los Angeles per month\n",
    "    - DeathRateNY: death rate of COVID in New York per month\n",
    "    - DeathRateLA: death rate of COVID in Los Angeles per month\n",
    "- Criminal variables:\n",
    "    - JailPpltNY: number of person in jail in New York per month\n",
    "    - JailPpltLA: number of person in jail in Los Angeles per month\n",
    "    - CrimeNY: number of crime cases in New York per month\n",
    "    - CrimeLA: number of crime cases in Los Angeles per month\n",
    "- Economic variables：\n",
    "    * UnemplNY: The unemployment rate in percentage in New York per month\n",
    "    * UnemplLA: The unemployment rate in percentage in Los Angeles per month\n",
    "    * WorkHrNY: The average weekly working hour of all employees in New York per month\n",
    "    * WorkHrLA: The average weekly working hour of all employees in Los Angeles per month\n",
    "    - CompEmplNY: The number of computer services employees in thousands in New York per month\n",
    "    - CompEmplLA: The number of computer services employees in thousands in Los Angeles per month\n",
    "    - GovEmplNY: The number of local government employees in thousands in New York per month\n",
    "    - GovEmplLA: The number of local government employees in thousands in Los Angeles per month\n",
    "    - HospEmplNY: The number of hospital employees in thousands in New York per month\n",
    "    - HospEmplLA: The number of hospital employees in thousands in Los Angeles per month\n",
    "    - FinEmplNY: The number of financial activities employees in thousands in New York per month    \n",
    "    - FinEmplLA: The number of financial activities employees in thousands in Los Angeles per month\n",
    "    - EduEmplNY: The number of educational services employees in thousands in New York per month\n",
    "    - EduEmplLA: The number of educational services employees in thousands in Los Angeles per month"
   ]
  },
  {
   "cell_type": "markdown",
   "metadata": {},
   "source": [
    "### 3.2 Why was this dataset created? ###\n",
    "- COVID variables: \n",
    "    - The COVID data necessary to reflect the scale of pandemic and to inform cities and states about adequate spending in health resources. It also provided the information for citizens to stay safe and healthy.\n",
    "- Criminal variables:\n",
    "    - The crime data is a record for all valid felony, misdemeanor, and violation crimes reportded. It has details of crimes: The Address of reported occurance, the level and description of offense, the juridistiction responsible, the information of the victim and suspect, etc.\n",
    "    - The jail population tables were created to record all jail facilities and census data of population, to assist with correction and rehabilitation.\n",
    "- Economic variables：\n",
    "    - The employment rate dataset was created to track the performance in the macro economy, as unemployment and employment rate is a crucial determinant and measurement of the economy's health. \n",
    "    - The working hours dataset was helpful in recording and tracking the labor market, as an indicator of the working conditions and overall performance. "
   ]
  },
  {
   "cell_type": "markdown",
   "metadata": {},
   "source": [
    "### 3.3 Who funded the creation of the dataset? ###\n",
    "- COVID variables: \n",
    "    - COVID data are assembled by the NYC Department of Health and Mental Hygiene Incident Command System for COVID-19 Response (Surveillance and Epidemiology Branch in collaboration with Public Information Office Branch). \n",
    "    - COVID data of LA is found by County of Los Angeles Public Health\n",
    "- Criminal variables:\n",
    "    - The crime original dataset \"NYPD Complaint Data Current (Year To Date)\" is provided by New York Police Department (NYPD)\n",
    "    - The crime original dataset \"Crime Data from 2020 to Present\" is provided by Los Angeles Police Department (LAPD)\n",
    "    - The jail population dataset is Average Daily Census Month dataset from Divison of Criminal Justie Servies\n",
    "    - The jail population dataset is provided by Division of Correctional Policy Research and Internal Oversight Office of Research, California Department of Corrections and Rehabilitation.\n",
    "- Economic variables：\n",
    "    * The unemployment rate dataset in NY and LA are carried out by the U.S. Bureau of Labor Statistics (BLS).\n",
    "    * The average working hour dataset in NY and LA are carried out by the Federal Reserve Bank of St. Louis and BLS."
   ]
  },
  {
   "cell_type": "markdown",
   "metadata": {},
   "source": [
    "### 3.4 What processes might have influenced what data was observed and recorded and what was not? ###\n",
    "- Data collection was impacted by the pandemic. The data collector, U.S. Bureau of Labor Statistics(BLS) encouraged businesses to report their data electronically. About one-fifth of the data that are typically collected by the data collection centers were instead collected by web.\n",
    "* As a number of people are self-employed, thus their working hour and unemployment rate may be based on self-reporting, this status may affect the accuracy of the dateset when COVID striked the economy with missing or incomplete piece of information.\n",
    "- Jail population reports contains the latest available reliable population figures from SOMS. They have been carefully audited, but are preliminary, and therefore subject to revision."
   ]
  },
  {
   "cell_type": "markdown",
   "metadata": {},
   "source": [
    "### 3.5 What preprocessing was done, and how did the data come to be in the form that you are using? ###\n",
    "- Datesets were manually modified before importing:\n",
    "    - dropping irrelavent columns\n",
    "    - formating types of data entries\n",
    "* The original dataset regarding the unemployment rate and working hours were reported on a monthly basis, and the data cleaning process extracted data from January to August 2020.\n",
    "- For jail population data, only males and females from LAC and CCWF were combined, since they are the only prisons in LA city."
   ]
  },
  {
   "cell_type": "markdown",
   "metadata": {},
   "source": [
    "### 3.6 If people are involved, were they aware of the data collection and if so, what purpose did they expect the data to be used for? ###\n",
    "* People are expected to understand the relationship between the changes in the labor market including factors like the unemployment rate and the average working hours in both cities, in response to the pandemic. The effectiveness of the macro policies, for example QE or rate cuts can be tracked back to the performance in the lavor market. \n"
   ]
  },
  {
   "cell_type": "markdown",
   "metadata": {},
   "source": [
    "### 3.7 Where can your raw source data be found, if applicable? Provide a link to the raw data (hosted in a Cornell Google Drive or Cornell Box) . ###\n",
    "- COVID variables: \n",
    "    * COVID data can be found on \"NYC OpenData\": https://data.cityofnewyork.us/Health/COVID-19-Daily-Counts-of-Cases-Hospitalizations-an/rc75-m7u3\n",
    "    - COVID data of LA can be found on: http://dashboard.publichealth.lacounty.gov/covid19_surveillance_dashboard/\n",
    "- Criminal variables:\n",
    "    * Crime data of NY can be found on \"NYC OpenData\": https://data.cityofnewyork.us/Public-Safety/NYPD-Complaint-Data-Current-Year-To-Date-/5uac-w243\n",
    "    - Crime data of LA can be found on: https://data.lacity.org/A-Safe-City/Crime-Data-from-2020-to-Present/2nrs-mtv8\n",
    "    - Jail data can be found on \"Jail Population in New York State\": https://www.criminaljustice.ny.gov/crimnet/ojsa/jail_population.pdf\n",
    "    - Jail data of LA can be found on: https://www.cdcr.ca.gov/research/population-reports-2/\n",
    "- Economic variables：\n",
    "    * The unemployment rate can be found: https://www.bls.gov/regions/new-york-new-jersey/data/xg-tables/ro2xglausnyc.htm\n",
    "    * The unemployment rate in LA can be found: https://data.bls.gov/timeseries/LAUMT063108000000006?amp%253bdata_tool=XGtable&output_view=data&include_graphs=true\n",
    "    * The weekly working hours of LA can be found: https://fred.stlouisfed.org/series/SMU06310800500000002\n",
    "    * The average weekly working hours of all employees in NY can be found: https://fred.stlouisfed.org/series/SMU36935610500000002\n",
    "    - The source of employment data of New York: https://www.bls.gov/sae/additional-resources/list-of-published-state-and-metropolitan-area-series/new-york.htm \n",
    "    - The source of employment data of Los Angeles: https://www.bls.gov/sae/additional-resources/list-of-published-state-and-metropolitan-area-series/california.htm\n"
   ]
  },
  {
   "cell_type": "markdown",
   "metadata": {},
   "source": [
    "# 4. Data limitations #"
   ]
  },
  {
   "cell_type": "markdown",
   "metadata": {},
   "source": [
    "- Assumes the reliability/authenticity of data sources.\n",
    "- Assume zero covid cases before March 2020 due to lack of data.\n",
    "- Missing the latest data in some variables and the data period of some variables did not completely overlap with COVID, thus resulting in some empty values.\n",
    "- As we found difficulty in researching some data from the city level, we are replacing them with county level data to assist our analysis. However, the county level data might be more generalized.\n",
    "- Due to availability of data, there also might be some inconsistencies with the dataset as for example, the LA COVID data covers the LA county, excluding the Long Beach and Anaheim regions, while these two regions might be included in the other LA datasets. \n",
    "\n",
    "- Lack of daily data towards employees' number of different industries:\n",
    "    - The intensity of the COVID pandemic could change dramatically within a month. The monthly statistics cannot reveal accurately the correlation between industries' variables and pandemic situations.\n",
    "- The limiting size of industries' employees' number dataset:\n",
    "    - It makes it impossible to do regression analysis or any other quantitative analysis. For example, when I was analyzing the correlation between the number of hospital employees and the death rate of COVID, I can only describe the relation qualitatively.\n",
    "- The data of employment are not seasonally adjusted:\n",
    "    - The real pattern could possibly be covered underneath the regular, or seasonal data patterns."
   ]
  },
  {
   "cell_type": "markdown",
   "metadata": {},
   "source": [
    "# 5. Exploratory data analysis #"
   ]
  },
  {
   "cell_type": "markdown",
   "metadata": {},
   "source": [
    "## 5.1 Univariate Analysis ##"
   ]
  },
  {
   "cell_type": "markdown",
   "metadata": {},
   "source": [
    "### 5.1.1 COVID ###\n",
    "- The result shows a negative correlation between the total case number in NY and in LA. This is due to different waves of pandemic: the peak in cases of NY took place in April, while in LA the peak was in July."
   ]
  },
  {
   "cell_type": "code",
   "execution_count": 37,
   "metadata": {
    "scrolled": true
   },
   "outputs": [
    {
     "name": "stdout",
     "output_type": "stream",
     "text": [
      "Mean of death rate in NY is: 0.04\n",
      "Standard Deviation of death rate in NY is: 0.04\n",
      "Mean of death rate in LA is: 0.02\n",
      "Standard Deviation of death rate in LA is: 0.02\n",
      "Pearson correlation between case in NY and LA is -0.17\n"
     ]
    }
   ],
   "source": [
    "# Summary Statistics of COVID variable\n",
    "mean_DRNY = final_data.DeathRateNY.mean()\n",
    "std_DRNY = final_data.DeathRateNY.std()\n",
    "print('Mean of death rate in NY is: {:.2f}'.format(mean_DRNY))\n",
    "print('Standard Deviation of death rate in NY is: {:.2f}'.format(std_DRNY))\n",
    "\n",
    "mean_DRLA = final_data.DeathRateLA.mean()\n",
    "std_DRLA = final_data.DeathRateLA.std()\n",
    "print('Mean of death rate in LA is: {:.2f}'.format(mean_DRLA))\n",
    "print('Standard Deviation of death rate in LA is: {:.2f}'.format(std_DRLA))\n",
    "\n",
    "corr_case = final_data[\"TotalCasesNY\"].corr(final_data[\"TotalCasesLA\"])\n",
    "print('Pearson correlation between case in NY and LA is {:.2f}'.format(corr_case))"
   ]
  },
  {
   "cell_type": "code",
   "execution_count": 38,
   "metadata": {},
   "outputs": [
    {
     "data": {
      "image/png": "[encoded data removed]",
      "text/plain": [
       "<Figure size 432x288 with 1 Axes>"
      ]
     },
     "metadata": {
      "needs_background": "light"
     },
     "output_type": "display_data"
    }
   ],
   "source": [
    "# Plot of Covid variable\n",
    "final_data[['TotalCasesNY','TotalCasesLA']].plot.bar()\n",
    "plt.title(\"Relationship between the total COVID cases in NY and LA\")\n",
    "plt.xlabel('Time')\n",
    "plt.ylabel('Number of total cases')\n",
    "plt.show()"
   ]
  },
  {
   "cell_type": "code",
   "execution_count": 39,
   "metadata": {},
   "outputs": [
    {
     "data": {
      "text/plain": [
       "<AxesSubplot:>"
      ]
     },
     "execution_count": 39,
     "metadata": {},
     "output_type": "execute_result"
    },
    {
     "data": {
      "image/png": "[encoded data removed]",
      "text/plain": [
       "<Figure size 432x288 with 1 Axes>"
      ]
     },
     "metadata": {
      "needs_background": "light"
     },
     "output_type": "display_data"
    }
   ],
   "source": [
    "final_data.boxplot(column=['DeathRateNY', 'DeathRateLA'])"
   ]
  },
  {
   "cell_type": "markdown",
   "metadata": {},
   "source": [
    "### 5.1.2 Jail ###"
   ]
  },
  {
   "cell_type": "code",
   "execution_count": 40,
   "metadata": {},
   "outputs": [
    {
     "name": "stdout",
     "output_type": "stream",
     "text": [
      "Mean of jail population in NY is: 0.04\n",
      "Standard Deviation of jail population in NY is: 0.04\n",
      "Mean of jail population in LA is: 0.02\n",
      "Standard Deviation of jail population in LA is: 0.02\n"
     ]
    }
   ],
   "source": [
    "# Summary Statistics of JailPply variable\n",
    "mean_JPNY = final_data.JailPpltNY.mean()\n",
    "std_JPNY = final_data.JailPpltNY.std()\n",
    "print('Mean of jail population in NY is: {:.2f}'.format(mean_DRNY))\n",
    "print('Standard Deviation of jail population in NY is: {:.2f}'.format(std_DRNY))\n",
    "\n",
    "mean_JPLA = final_data.JailPpltLA.mean()\n",
    "std_JPLA = final_data.JailPpltLA.std()\n",
    "print('Mean of jail population in LA is: {:.2f}'.format(mean_DRLA))\n",
    "print('Standard Deviation of jail population in LA is: {:.2f}'.format(std_DRLA))"
   ]
  },
  {
   "cell_type": "code",
   "execution_count": 41,
   "metadata": {},
   "outputs": [
    {
     "data": {
      "image/png": "[encoded data removed]",
      "text/plain": [
       "<Figure size 432x288 with 1 Axes>"
      ]
     },
     "metadata": {
      "needs_background": "light"
     },
     "output_type": "display_data"
    }
   ],
   "source": [
    "# Plot of Covid variable\n",
    "plt.plot(final_data['Period'].dt.strftime('%m-%d'), final_data['JailPpltNY'],'c--',label = 'NYC Jail Ppl')\n",
    "plt.plot(final_data['Period'].dt.strftime('%m-%d'), final_data['JailPpltLA'],'r--',label = 'LA Jail Ppl')\n",
    "\n",
    "plt.title('Jail Population: NYC & LA,2020')\n",
    "plt.xlabel('Period-Month')\n",
    "plt.ylabel('Jail Population')\n",
    "plt.legend()\n",
    "plt.show()"
   ]
  },
  {
   "cell_type": "markdown",
   "metadata": {},
   "source": [
    "### 5.1.3 Unemployment ###\n",
    "- Mean and standard deviationof unemployment rate in LA is higher than NY\n",
    "- There is a positive correlation between unemployment rate in NY and LA from January to August 2020. The unemployment rate began surging in March and maintained at a relatively high level. It shows a decreasing trend beginning with June."
   ]
  },
  {
   "cell_type": "code",
   "execution_count": 42,
   "metadata": {},
   "outputs": [
    {
     "name": "stdout",
     "output_type": "stream",
     "text": [
      "Mean of unemployment rate in NY is: 12.56%\n",
      "Standard Deviation of unemployment in NY is: 7.58\n",
      "Mean of unemployment rate in LA is: 12.79%\n",
      "Standard Deviation of unemployment in LA is: 6.84\n",
      "\n",
      "Pearson correlation between unemployment in NY and LA is 0.96\n"
     ]
    }
   ],
   "source": [
    "# Summary Statistics of Unempl variable\n",
    "mean_UnemplNY = final_data.UnemplNY.mean()\n",
    "std_UnemplNY = final_data.UnemplNY.std()\n",
    "print('Mean of unemployment rate in NY is: {:.2f}'.format(mean_UnemplNY)+'%')\n",
    "print('Standard Deviation of unemployment in NY is: {:.2f}'.format(std_UnemplNY))\n",
    "\n",
    "mean_UnemplLA = final_data.UnemplLA.mean()\n",
    "std_UnemplLA = final_data.UnemplLA.std()\n",
    "print('Mean of unemployment rate in LA is: {:.2f}'.format(mean_UnemplLA)+'%')\n",
    "print('Standard Deviation of unemployment in LA is: {:.2f}'.format(std_UnemplLA))\n",
    "\n",
    "corr_Unempl = final_data[\"UnemplNY\"].corr(final_data[\"UnemplLA\"])\n",
    "print('\\nPearson correlation between unemployment in NY and LA is {:.2f}'.format(corr_Unempl))"
   ]
  },
  {
   "cell_type": "code",
   "execution_count": 43,
   "metadata": {},
   "outputs": [
    {
     "data": {
      "image/png": "[encoded data removed]",
      "text/plain": [
       "<Figure size 432x288 with 1 Axes>"
      ]
     },
     "metadata": {
      "needs_background": "light"
     },
     "output_type": "display_data"
    }
   ],
   "source": [
    "# Plot of Unempl variable\n",
    "final_data[['UnemplNY','UnemplLA']].plot.bar()\n",
    "plt.title(\"Relationship between Unemployment rate in NY and LA\")\n",
    "plt.xlabel('Time')\n",
    "plt.ylabel('Unemployment rate (%)')\n",
    "plt.show()"
   ]
  },
  {
   "cell_type": "markdown",
   "metadata": {},
   "source": [
    "### 5.1.3 Weekly working Hours ###\n",
    "- Mean and standard deviation of working hour in LA is higher than NY\n",
    "- There is a positive correlation between work hour in NY and LA from January to August 2020."
   ]
  },
  {
   "cell_type": "code",
   "execution_count": 44,
   "metadata": {
    "scrolled": true
   },
   "outputs": [
    {
     "name": "stdout",
     "output_type": "stream",
     "text": [
      "Mean of working hour in NY is: 33.46\n",
      "Standard Deviation of working hour in NY is: 0.47\n",
      "Mean of working hour in LA is: 34.79\n",
      "Standard Deviation of working hour in LA is: 0.59\n",
      "\n",
      "Pearson correlation between work hour in NY and LA is 0.96\n"
     ]
    }
   ],
   "source": [
    "# Summary Statistics of WorkHr variable\n",
    "mean_WorkHrNY = final_data.WorkHrNY.mean()\n",
    "std_WorkHrNY = final_data.WorkHrNY.std()\n",
    "print('Mean of working hour in NY is: {:.2f}'.format(mean_WorkHrNY))\n",
    "print('Standard Deviation of working hour in NY is: {:.2f}'.format(std_WorkHrNY))\n",
    "\n",
    "mean_WorkHrLA = final_data.WorkHrLA.mean()\n",
    "std_WorkHrLA = final_data.WorkHrLA.std()\n",
    "print('Mean of working hour in LA is: {:.2f}'.format(mean_WorkHrLA))\n",
    "print('Standard Deviation of working hour in LA is: {:.2f}'.format(std_WorkHrLA))\n",
    "\n",
    "corr_WorkHr = final_data['WorkHrNY'].corr(final_data['WorkHrLA'])\n",
    "print('\\nPearson correlation between work hour in NY and LA is {:.2f}'.format(corr_WorkHr))"
   ]
  },
  {
   "cell_type": "code",
   "execution_count": 45,
   "metadata": {},
   "outputs": [
    {
     "data": {
      "image/png": "[encoded data removed]",
      "text/plain": [
       "<Figure size 432x288 with 1 Axes>"
      ]
     },
     "metadata": {
      "needs_background": "light"
     },
     "output_type": "display_data"
    }
   ],
   "source": [
    "# Plot of WorkHr variable\n",
    "final_data[['WorkHrNY','WorkHrLA']].plot.bar()\n",
    "plt.title(\"Relationship between Work Hour in NY and LA\")\n",
    "plt.xlabel('Time')\n",
    "plt.ylabel('Hour')\n",
    "plt.show()"
   ]
  },
  {
   "cell_type": "markdown",
   "metadata": {},
   "source": [
    "### 5.1.5 Computer Service Employee ###"
   ]
  },
  {
   "cell_type": "code",
   "execution_count": 46,
   "metadata": {},
   "outputs": [
    {
     "name": "stdout",
     "output_type": "stream",
     "text": [
      "NY mean: 70.28, median: 69.55, standard deviation: 2.51\n",
      "LA mean: 62.96, median: 63.15, standard deviation: 0.75\n"
     ]
    }
   ],
   "source": [
    "# Summary Statistics of CompEmpl variable\n",
    "mean_ny = final_data[\"CompEmplNY\"].mean()\n",
    "mean_la = final_data[\"CompEmplLA\"].mean()\n",
    "mid_ny = final_data[\"CompEmplNY\"].median()\n",
    "mid_la = final_data[\"CompEmplLA\"].median()\n",
    "\n",
    "std_ny = final_data[\"CompEmplNY\"].std()\n",
    "std_la = final_data[\"CompEmplLA\"].std()\n",
    "\n",
    "print(\"NY mean: {:.2f}, median: {:.2f}, standard deviation: {:.2f}\".format(mean_ny, mid_ny, std_ny))\n",
    "print(\"LA mean: {:.2f}, median: {:.2f}, standard deviation: {:.2f}\".format(mean_la, mid_la, std_la))"
   ]
  },
  {
   "cell_type": "code",
   "execution_count": 47,
   "metadata": {},
   "outputs": [
    {
     "data": {
      "text/plain": [
       "<AxesSubplot:>"
      ]
     },
     "execution_count": 47,
     "metadata": {},
     "output_type": "execute_result"
    },
    {
     "data": {
      "image/png": "[encoded data removed]",
      "text/plain": [
       "<Figure size 432x288 with 1 Axes>"
      ]
     },
     "metadata": {
      "needs_background": "light"
     },
     "output_type": "display_data"
    }
   ],
   "source": [
    "# Plot of CompEmpl variable\n",
    "final_data.boxplot(column=[\"CompEmplNY\", \"CompEmplLA\"])"
   ]
  },
  {
   "cell_type": "markdown",
   "metadata": {},
   "source": [
    "### 5.1.6 Local Government Employee ###"
   ]
  },
  {
   "cell_type": "code",
   "execution_count": 48,
   "metadata": {},
   "outputs": [
    {
     "name": "stdout",
     "output_type": "stream",
     "text": [
      "NY mean: 474.75, median: 482.05, standard deviation: 28.06\n",
      "LA mean: 557.12, median: 565.55, standard deviation: 34.61\n"
     ]
    }
   ],
   "source": [
    "# Summary Statistics of GovEmpl variable\n",
    "mean_ny = final_data[\"GovEmplNY\"].mean()\n",
    "mean_la = final_data[\"GovEmplLA\"].mean()\n",
    "mid_ny = final_data[\"GovEmplNY\"].median()\n",
    "mid_la = final_data[\"GovEmplLA\"].median()\n",
    "\n",
    "std_ny = final_data[\"GovEmplNY\"].std()\n",
    "std_la = final_data[\"GovEmplLA\"].std()\n",
    "\n",
    "print(\"NY mean: {:.2f}, median: {:.2f}, standard deviation: {:.2f}\".format(mean_ny, mid_ny, std_ny))\n",
    "print(\"LA mean: {:.2f}, median: {:.2f}, standard deviation: {:.2f}\".format(mean_la, mid_la, std_la))"
   ]
  },
  {
   "cell_type": "code",
   "execution_count": 49,
   "metadata": {},
   "outputs": [
    {
     "data": {
      "text/plain": [
       "<AxesSubplot:>"
      ]
     },
     "execution_count": 49,
     "metadata": {},
     "output_type": "execute_result"
    },
    {
     "data": {
      "image/png": "[encoded data removed]",
      "text/plain": [
       "<Figure size 432x288 with 1 Axes>"
      ]
     },
     "metadata": {
      "needs_background": "light"
     },
     "output_type": "display_data"
    }
   ],
   "source": [
    "# Plot of GovEmpl variable\n",
    "final_data.boxplot(column=[\"GovEmplNY\", \"GovEmplLA\"])"
   ]
  },
  {
   "cell_type": "markdown",
   "metadata": {},
   "source": [
    "### 5.1.7 Hopsital Employee ###"
   ]
  },
  {
   "cell_type": "code",
   "execution_count": 50,
   "metadata": {},
   "outputs": [
    {
     "name": "stdout",
     "output_type": "stream",
     "text": [
      "NY mean: 166.34, median: 165.80, standard deviation: 1.57\n",
      "LA mean: 154.03, median: 154.00, standard deviation: 1.22\n"
     ]
    }
   ],
   "source": [
    "# Summary Statistics of HospEmpl variable\n",
    "mean_ny = final_data[\"HospEmplNY\"].mean()\n",
    "mean_la = final_data[\"HospEmplLA\"].mean()\n",
    "mid_ny = final_data[\"HospEmplNY\"].median()\n",
    "mid_la = final_data[\"HospEmplLA\"].median()\n",
    "\n",
    "std_ny = final_data[\"HospEmplNY\"].std()\n",
    "std_la = final_data[\"HospEmplLA\"].std()\n",
    "\n",
    "print(\"NY mean: {:.2f}, median: {:.2f}, standard deviation: {:.2f}\".format(mean_ny, mid_ny, std_ny))\n",
    "print(\"LA mean: {:.2f}, median: {:.2f}, standard deviation: {:.2f}\".format(mean_la, mid_la, std_la))"
   ]
  },
  {
   "cell_type": "code",
   "execution_count": 51,
   "metadata": {},
   "outputs": [
    {
     "data": {
      "text/plain": [
       "<AxesSubplot:>"
      ]
     },
     "execution_count": 51,
     "metadata": {},
     "output_type": "execute_result"
    },
    {
     "data": {
      "image/png": "[encoded data removed]",
      "text/plain": [
       "<Figure size 432x288 with 1 Axes>"
      ]
     },
     "metadata": {
      "needs_background": "light"
     },
     "output_type": "display_data"
    }
   ],
   "source": [
    "# Plot of HospEmpl variable\n",
    "final_data.boxplot(column=[\"HospEmplNY\", \"HospEmplLA\"])"
   ]
  },
  {
   "cell_type": "markdown",
   "metadata": {},
   "source": [
    "### 5.1.8 Financial Activities Employee ###"
   ]
  },
  {
   "cell_type": "code",
   "execution_count": 52,
   "metadata": {},
   "outputs": [
    {
     "name": "stdout",
     "output_type": "stream",
     "text": [
      "NY mean: 461.74, median: 457.80, standard deviation: 9.54\n",
      "LA mean: 337.39, median: 336.30, standard deviation: 7.04\n"
     ]
    }
   ],
   "source": [
    "# Summary Statistics of FinEmpl variable\n",
    "mean_ny = final_data[\"FinEmplNY\"].mean()\n",
    "mean_la = final_data[\"FinEmplLA\"].mean()\n",
    "mid_ny = final_data[\"FinEmplNY\"].median()\n",
    "mid_la = final_data[\"FinEmplLA\"].median()\n",
    "\n",
    "std_ny = final_data[\"FinEmplNY\"].std()\n",
    "std_la = final_data[\"FinEmplLA\"].std()\n",
    "\n",
    "print(\"NY mean: {:.2f}, median: {:.2f}, standard deviation: {:.2f}\".format(mean_ny, mid_ny, std_ny))\n",
    "print(\"LA mean: {:.2f}, median: {:.2f}, standard deviation: {:.2f}\".format(mean_la, mid_la, std_la))"
   ]
  },
  {
   "cell_type": "code",
   "execution_count": 53,
   "metadata": {},
   "outputs": [
    {
     "data": {
      "text/plain": [
       "<AxesSubplot:>"
      ]
     },
     "execution_count": 53,
     "metadata": {},
     "output_type": "execute_result"
    },
    {
     "data": {
      "image/png": "[encoded data removed]",
      "text/plain": [
       "<Figure size 432x288 with 1 Axes>"
      ]
     },
     "metadata": {
      "needs_background": "light"
     },
     "output_type": "display_data"
    }
   ],
   "source": [
    "# Plot of FinEmpl variable\n",
    "final_data.boxplot(column=[\"FinEmplNY\", \"FinEmplLA\"])"
   ]
  },
  {
   "cell_type": "markdown",
   "metadata": {},
   "source": [
    "### 5.1.9 Educational Services Employee ###"
   ]
  },
  {
   "cell_type": "code",
   "execution_count": 54,
   "metadata": {},
   "outputs": [
    {
     "name": "stdout",
     "output_type": "stream",
     "text": [
      "NY mean: 230.68, median: 224.25, standard deviation: 22.09\n",
      "LA mean: 164.79, median: 164.75, standard deviation: 13.16\n"
     ]
    }
   ],
   "source": [
    "# Summary Statistics of EduEmpl variable\n",
    "mean_ny = final_data[\"EduEmplNY\"].mean()\n",
    "mean_la = final_data[\"EduEmplLA\"].mean()\n",
    "mid_ny = final_data[\"EduEmplNY\"].median()\n",
    "mid_la = final_data[\"EduEmplLA\"].median()\n",
    "\n",
    "std_ny = final_data[\"EduEmplNY\"].std()\n",
    "std_la = final_data[\"EduEmplLA\"].std()\n",
    "\n",
    "print(\"NY mean: {:.2f}, median: {:.2f}, standard deviation: {:.2f}\".format(mean_ny, mid_ny, std_ny))\n",
    "print(\"LA mean: {:.2f}, median: {:.2f}, standard deviation: {:.2f}\".format(mean_la, mid_la, std_la))"
   ]
  },
  {
   "cell_type": "code",
   "execution_count": 55,
   "metadata": {},
   "outputs": [
    {
     "data": {
      "text/plain": [
       "<AxesSubplot:>"
      ]
     },
     "execution_count": 55,
     "metadata": {},
     "output_type": "execute_result"
    },
    {
     "data": {
      "image/png": "[encoded data removed]",
      "text/plain": [
       "<Figure size 432x288 with 1 Axes>"
      ]
     },
     "metadata": {
      "needs_background": "light"
     },
     "output_type": "display_data"
    }
   ],
   "source": [
    "# Plot of EduEmpl variable\n",
    "final_data.boxplot(column=[\"EduEmplNY\", \"EduEmplLA\"])"
   ]
  },
  {
   "cell_type": "markdown",
   "metadata": {},
   "source": [
    "### 5.1.10 Crime ###\n",
    "- Curve of number of compaints is generally pretty flat for LA, which contradicts a lot with the curve of NYC. Which can also be seen from the comparison of NYC's standard deviation with LA. The magnitude of NYC's mean and LA's mean would largely dependent on the size of city, and thus less helpful with the analysis here."
   ]
  },
  {
   "cell_type": "code",
   "execution_count": 56,
   "metadata": {},
   "outputs": [
    {
     "name": "stdout",
     "output_type": "stream",
     "text": [
      "The mean and median of complaints number per month in NYC from Jan to Sept is 31697 and 31514.\n",
      "The mean and median of complaints per month in LA from Jan to Jun is 16077 and 16152.\n",
      "The standard deviation of monthly complaints nunber in NYC from Jan to Sept is 4687.87.\n",
      "The standard deviation of monthly complaints nunber in LA from Jan to Jun is 654.58.\n"
     ]
    }
   ],
   "source": [
    "# Summary Statistics of Crime variable\n",
    "nyc_mean = final_data['CrimeNY'].mean()\n",
    "nyc_median = final_data['CrimeNY'].median()\n",
    "nyc_std = final_data['CrimeNY'].std()\n",
    "\n",
    "la_sub = final_data['CrimeLA'].drop([6,7,8])  # We'll only calculate mean and median for month 1-6 for LA.\n",
    "la_mean = la_sub.mean()\n",
    "la_median = la_sub.median()\n",
    "la_std = la_sub.std()\n",
    "\n",
    "print('The mean and median of complaints number per month in NYC from Jan to Sept is {:.0f} and {:.0f}.'.format(nyc_mean,nyc_median))\n",
    "print('The mean and median of complaints per month in LA from Jan to Jun is {:.0f} and {:.0f}.'.format(la_mean,la_median))\n",
    "print('The standard deviation of monthly complaints nunber in NYC from Jan to Sept is {:.2f}.'.format(nyc_std) )\n",
    "print('The standard deviation of monthly complaints nunber in LA from Jan to Jun is {:.2f}.'.format(la_std) )"
   ]
  },
  {
   "cell_type": "code",
   "execution_count": 57,
   "metadata": {},
   "outputs": [
    {
     "data": {
      "image/png": "[encoded data removed]",
      "text/plain": [
       "<Figure size 432x288 with 1 Axes>"
      ]
     },
     "metadata": {
      "needs_background": "light"
     },
     "output_type": "display_data"
    }
   ],
   "source": [
    "# Plot of Crime variable\n",
    "plt.plot( final_data['Period'].dt.strftime('%m-%d'), final_data['CrimeNY'], label='NYC Complaint' )\n",
    "plt.plot( final_data['Period'].dt.strftime('%m-%d'), final_data['CrimeLA'], label = 'LA Complaint' )\n",
    "\n",
    "plt.title('Monthly Number of Complaints of NYC and LA,2020')\n",
    "plt.xlabel('Period-Month')\n",
    "plt.ylabel('Number of Complaints')\n",
    "plt.legend()\n",
    "plt.show()"
   ]
  },
  {
   "cell_type": "markdown",
   "metadata": {},
   "source": [
    "**Some Exploration of demographic variables that might help with future analysis** "
   ]
  },
  {
   "cell_type": "code",
   "execution_count": 58,
   "metadata": {},
   "outputs": [
    {
     "name": "stderr",
     "output_type": "stream",
     "text": [
      "/Applications/anaconda3/envs/INFO2950/lib/python3.8/site-packages/IPython/core/interactiveshell.py:3145: DtypeWarning: Columns (16,40) have mixed types.Specify dtype option on import or set low_memory=False.\n",
      "  has_raised = await self.run_ast_nodes(code_ast.body, cell_name,\n"
     ]
    }
   ],
   "source": [
    "nyc_crime = pd.read_csv('NYPD_Complaint_Data_Current__Year_To_Date_.csv')\n",
    "nyc_crime_new = nyc_crime[['SUSP_AGE_GROUP','SUSP_RACE','SUSP_SEX','VIC_AGE_GROUP','VIC_RACE','VIC_SEX']].copy()\n",
    "\n",
    "nyc_suspRace = nyc_crime_new['SUSP_RACE'].value_counts()\n",
    "NYC_SuspRace = pd.DataFrame()\n",
    "NYC_SuspRace['SuspRace'] = nyc_suspRace.index.tolist()\n",
    "NYC_SuspRace['Cases'] = nyc_suspRace.tolist()\n",
    "NYC_SuspRace=NYC_SuspRace.set_index('SuspRace')"
   ]
  },
  {
   "cell_type": "code",
   "execution_count": 59,
   "metadata": {},
   "outputs": [
    {
     "data": {
      "image/png": "[encoded data removed]",
      "text/plain": [
       "<Figure size 432x432 with 1 Axes>"
      ]
     },
     "metadata": {},
     "output_type": "display_data"
    }
   ],
   "source": [
    "plot = NYC_SuspRace.plot.pie(title=\"Suspect Race of Crime in NYC\", figsize=(6, 6), subplots=True)"
   ]
  },
  {
   "cell_type": "code",
   "execution_count": 60,
   "metadata": {},
   "outputs": [],
   "source": [
    "nyc_vicRace = nyc_crime_new['VIC_RACE'].value_counts()\n",
    "NYC_vicRace = pd.DataFrame()\n",
    "NYC_vicRace['VicRace'] = nyc_vicRace.index.tolist()\n",
    "NYC_vicRace['Cases'] = nyc_vicRace.tolist()\n",
    "NYC_vicRace=NYC_vicRace.set_index('VicRace')"
   ]
  },
  {
   "cell_type": "code",
   "execution_count": 61,
   "metadata": {},
   "outputs": [
    {
     "data": {
      "image/png": "[encoded data removed]",
      "text/plain": [
       "<Figure size 432x432 with 1 Axes>"
      ]
     },
     "metadata": {},
     "output_type": "display_data"
    }
   ],
   "source": [
    "plot = NYC_vicRace.plot.pie(title=\"Victim Race of Crime in NYC\", figsize=(6, 6), subplots=True)"
   ]
  },
  {
   "cell_type": "markdown",
   "metadata": {},
   "source": [
    "## 5.2 Bivariate Analysis ##"
   ]
  },
  {
   "cell_type": "markdown",
   "metadata": {},
   "source": [
    "### 5.2.1 Unempl vs. COVID ###\n",
    "- There is insignificant correlation between the total number of cases in NY and the unemployment rate. However, the cumulative cases in NY peaked in April, and unemployment rate soon reached the highest level in around June.\n",
    "- There is a relatively high correlation between the total number of cases in LA and the unemployment rate. When the number of cumulative cases increase, the unemployment rate is likely to increase."
   ]
  },
  {
   "cell_type": "code",
   "execution_count": 62,
   "metadata": {},
   "outputs": [
    {
     "name": "stdout",
     "output_type": "stream",
     "text": [
      "Pearson correlation between case in NY and unemployment rate is 0.03\n"
     ]
    }
   ],
   "source": [
    "corr_caseunemNY = final_data[\"TotalCasesNY\"].corr(final_data[\"UnemplNY\"])\n",
    "print('Pearson correlation between case in NY and unemployment rate is {:.2f}'.format(corr_caseunemNY))"
   ]
  },
  {
   "cell_type": "code",
   "execution_count": 63,
   "metadata": {},
   "outputs": [
    {
     "data": {
      "image/png": "[encoded data removed]",
      "text/plain": [
       "<Figure size 432x288 with 2 Axes>"
      ]
     },
     "metadata": {
      "needs_background": "light"
     },
     "output_type": "display_data"
    }
   ],
   "source": [
    "# Plot of Unempl vs. COVID variable\n",
    "fig, ax1 = plt.subplots()\n",
    "\n",
    "color = 'tab:red'\n",
    "ax1.set_xlabel('Time')\n",
    "ax1.set_ylabel('Total case in NY', color=color)\n",
    "ax1.plot(final_data['TotalCasesNY'], color=color)\n",
    "ax1.tick_params(axis='y', labelcolor=color)\n",
    "\n",
    "ax2 = ax1.twinx() \n",
    "\n",
    "color = 'tab:blue'\n",
    "ax2.set_ylabel('Unemployment rate in NY (%)', color=color) \n",
    "ax2.plot(final_data['UnemplNY'], color=color)\n",
    "ax2.tick_params(axis='y', labelcolor=color)\n",
    "\n",
    "fig.tight_layout()\n",
    "plt.show()"
   ]
  },
  {
   "cell_type": "code",
   "execution_count": 64,
   "metadata": {},
   "outputs": [
    {
     "name": "stdout",
     "output_type": "stream",
     "text": [
      "Pearson correlation between case in LA and unemployment rate is 0.73\n"
     ]
    }
   ],
   "source": [
    "corr_caseunemLA = final_data[\"TotalCasesLA\"].corr(final_data[\"UnemplLA\"])\n",
    "print('Pearson correlation between case in LA and unemployment rate is {:.2f}'.format(corr_caseunemLA))"
   ]
  },
  {
   "cell_type": "code",
   "execution_count": 65,
   "metadata": {},
   "outputs": [
    {
     "data": {
      "image/png": "[encoded data removed]",
      "text/plain": [
       "<Figure size 432x288 with 2 Axes>"
      ]
     },
     "metadata": {
      "needs_background": "light"
     },
     "output_type": "display_data"
    }
   ],
   "source": [
    "# Plot of Unempl vs. COVID variable\n",
    "fig, ax1 = plt.subplots()\n",
    "\n",
    "color = 'tab:red'\n",
    "ax1.set_xlabel('Time')\n",
    "ax1.set_ylabel('Total case in LA', color=color)\n",
    "ax1.plot(final_data['TotalCasesLA'], color=color)\n",
    "ax1.tick_params(axis='y', labelcolor=color)\n",
    "\n",
    "ax2 = ax1.twinx() \n",
    "\n",
    "color = 'tab:blue'\n",
    "ax2.set_ylabel('Unemployment rate in LA (%)', color=color) \n",
    "ax2.plot(final_data['UnemplLA'], color=color)\n",
    "ax2.tick_params(axis='y', labelcolor=color)\n",
    "\n",
    "fig.tight_layout()\n",
    "plt.show()"
   ]
  },
  {
   "cell_type": "markdown",
   "metadata": {},
   "source": [
    "### 5.2.2 Crime vs. COVID ###\n",
    "- NYC crime complaints and covid cases apeear to be negatively correlated, and the relationship is strong. The high correlation score approves the pattern of change in this two variables is very close to each other.\n",
    "- The LA correlation between crime complaints and covid cases seem to be weaker. This is due to the fact that crime number is stable over time."
   ]
  },
  {
   "cell_type": "code",
   "execution_count": 66,
   "metadata": {},
   "outputs": [
    {
     "name": "stdout",
     "output_type": "stream",
     "text": [
      "The covariance between NYC crime complaints and confirmed covid cases is -167645437.47,\n",
      "The correlation between NYC crime complaints and confirmed covid cases is -0.82,\n"
     ]
    }
   ],
   "source": [
    "crime_cov_covid_nyc = final_data['CrimeNY'].cov(final_data['TotalCasesNY'])\n",
    "crime_corr_covid_nyc = final_data['CrimeNY'].corr(final_data['TotalCasesNY'])\n",
    "print('The covariance between NYC crime complaints and confirmed covid cases is {:.2f},'.format(crime_cov_covid_nyc))\n",
    "print('The correlation between NYC crime complaints and confirmed covid cases is {:.2f},'.format(crime_corr_covid_nyc))"
   ]
  },
  {
   "cell_type": "code",
   "execution_count": 67,
   "metadata": {},
   "outputs": [
    {
     "data": {
      "image/png": "[encoded data removed]",
      "text/plain": [
       "<Figure size 432x288 with 1 Axes>"
      ]
     },
     "metadata": {
      "needs_background": "light"
     },
     "output_type": "display_data"
    }
   ],
   "source": [
    "# Plot of Crime vs. COVID variable\n",
    "plt.plot(final_data['Period'], final_data['CrimeNY'],label='NYC Complaint')\n",
    "plt.plot(final_data['Period'], final_data['TotalCasesNY'],'--',label = 'NYC Cases')\n",
    "\n",
    "plt.title('Number of Crime Complaints and Covid Cases in NYC, 2020 ')\n",
    "plt.xlabel('Period-Month')\n",
    "plt.ylabel('Crime Complaints & Covid-19 Cases')\n",
    "plt.legend()\n",
    "plt.show()"
   ]
  },
  {
   "cell_type": "code",
   "execution_count": 68,
   "metadata": {},
   "outputs": [
    {
     "name": "stdout",
     "output_type": "stream",
     "text": [
      "The covariance between LA crime complaints and confirmed covid cases is 10468914.89,\n",
      "The correlation between LA crime complaints and confirmed covid cases is 0.44,\n"
     ]
    }
   ],
   "source": [
    "crime_cov_covid_la = final_data['CrimeLA'].cov(final_data['TotalCasesLA'])\n",
    "crime_corr_covid_la = final_data['CrimeLA'].corr(final_data['TotalCasesLA'])\n",
    "print('The covariance between LA crime complaints and confirmed covid cases is {:.2f},'.format(crime_cov_covid_la))\n",
    "print('The correlation between LA crime complaints and confirmed covid cases is {:.2f},'.format(crime_corr_covid_la))"
   ]
  },
  {
   "cell_type": "code",
   "execution_count": 69,
   "metadata": {},
   "outputs": [
    {
     "data": {
      "image/png": "[encoded data removed]",
      "text/plain": [
       "<Figure size 432x288 with 1 Axes>"
      ]
     },
     "metadata": {
      "needs_background": "light"
     },
     "output_type": "display_data"
    }
   ],
   "source": [
    "# Plot of Crime vs. COVID variable\n",
    "plt.plot(final_data['Period'], final_data['CrimeLA'],'g',label='LA Complaint')\n",
    "plt.plot(final_data['Period'], final_data['TotalCasesLA'],'c--',label = 'LA Cases')\n",
    "\n",
    "plt.title('Number of Crime Complaints and Covid Cases in LA, 2020')\n",
    "plt.xlabel('Period-Month')\n",
    "plt.ylabel('Number of Complaints/Covid-19 Cases')\n",
    "plt.legend()\n",
    "plt.show()"
   ]
  },
  {
   "cell_type": "markdown",
   "metadata": {},
   "source": [
    "### 5.2.3 Crime vs. Jailpplt ###"
   ]
  },
  {
   "cell_type": "code",
   "execution_count": 70,
   "metadata": {},
   "outputs": [
    {
     "data": {
      "image/png": "[encoded data removed]",
      "text/plain": [
       "<Figure size 432x288 with 1 Axes>"
      ]
     },
     "metadata": {
      "needs_background": "light"
     },
     "output_type": "display_data"
    }
   ],
   "source": [
    "# Due to difference in scale, to see visually compare the pattern of change of the two variables, \n",
    "# we chose to reduce the magnitude of NYcases by 25\n",
    "plt.plot(final_data['Period'], final_data['JailPpltNY'],'c--',label = 'NYC Jail Ppl')\n",
    "plt.plot(final_data['Period'], final_data['TotalCasesNY']/25,'y',label = 'NYC Cases')\n",
    "\n",
    "plt.title('Jail Population and Crime Complaints in NYC:2020')\n",
    "plt.xlabel('Period-Month')\n",
    "plt.ylabel('Jail Population & Number of Crime Complaints/25')\n",
    "plt.legend()\n",
    "plt.show()"
   ]
  },
  {
   "cell_type": "code",
   "execution_count": 71,
   "metadata": {},
   "outputs": [
    {
     "data": {
      "image/png": "[encoded data removed]",
      "text/plain": [
       "<Figure size 432x288 with 1 Axes>"
      ]
     },
     "metadata": {
      "needs_background": "light"
     },
     "output_type": "display_data"
    }
   ],
   "source": [
    "# Due to difference in scale, to see visually compare the pattern of change of the two variables, \n",
    "# we chose to reduce the magnitude of NYcases by 25\n",
    "plt.plot(final_data['Period'],final_data['JailPpltLA'],'m--',label = 'LA Jail Ppl')\n",
    "plt.plot(final_data['Period'],final_data['TotalCasesLA']/25,'y',label = 'LA Cases')\n",
    "\n",
    "plt.title('Jail Population and Crime Complaints in Wiciconssin:2020')\n",
    "plt.xlabel('Period-Month')\n",
    "plt.ylabel('Jail Population & Number of Crime Complaints/25')\n",
    "plt.legend()\n",
    "plt.show()"
   ]
  },
  {
   "cell_type": "markdown",
   "metadata": {},
   "source": [
    "## 5.3 Multivariate Analysis ##"
   ]
  },
  {
   "cell_type": "markdown",
   "metadata": {},
   "source": [
    "### 5.3.1 Employee Number vs. COVID ###\n",
    "- The color of each block represents the correlation value of the two variables. The higher the value is, the warmer the color will be, vis versa.\n",
    "- According to the correlation plot, the number of employees in different industries changes differently towards the pandemic’s impact. It is worthy to notice that there is a dramatic difference in the hospital industry between these two cities."
   ]
  },
  {
   "cell_type": "code",
   "execution_count": 72,
   "metadata": {},
   "outputs": [
    {
     "data": {
      "text/html": [
       "<style  type=\"text/css\" >\n",
       "#T_2bc7d720_0a96_11eb_9f97_acde48001122row0_col0,#T_2bc7d720_0a96_11eb_9f97_acde48001122row1_col1,#T_2bc7d720_0a96_11eb_9f97_acde48001122row2_col2,#T_2bc7d720_0a96_11eb_9f97_acde48001122row3_col3,#T_2bc7d720_0a96_11eb_9f97_acde48001122row4_col4,#T_2bc7d720_0a96_11eb_9f97_acde48001122row5_col5,#T_2bc7d720_0a96_11eb_9f97_acde48001122row6_col6,#T_2bc7d720_0a96_11eb_9f97_acde48001122row7_col7{\n",
       "            background-color:  #b40426;\n",
       "            color:  #f1f1f1;\n",
       "        }#T_2bc7d720_0a96_11eb_9f97_acde48001122row0_col1,#T_2bc7d720_0a96_11eb_9f97_acde48001122row1_col0{\n",
       "            background-color:  #c83836;\n",
       "            color:  #f1f1f1;\n",
       "        }#T_2bc7d720_0a96_11eb_9f97_acde48001122row0_col2,#T_2bc7d720_0a96_11eb_9f97_acde48001122row6_col7{\n",
       "            background-color:  #e9785d;\n",
       "            color:  #000000;\n",
       "        }#T_2bc7d720_0a96_11eb_9f97_acde48001122row0_col3,#T_2bc7d720_0a96_11eb_9f97_acde48001122row0_col4{\n",
       "            background-color:  #a9c6fd;\n",
       "            color:  #000000;\n",
       "        }#T_2bc7d720_0a96_11eb_9f97_acde48001122row0_col5{\n",
       "            background-color:  #a6c4fe;\n",
       "            color:  #000000;\n",
       "        }#T_2bc7d720_0a96_11eb_9f97_acde48001122row0_col6{\n",
       "            background-color:  #81a4fb;\n",
       "            color:  #000000;\n",
       "        }#T_2bc7d720_0a96_11eb_9f97_acde48001122row0_col7{\n",
       "            background-color:  #b9d0f9;\n",
       "            color:  #000000;\n",
       "        }#T_2bc7d720_0a96_11eb_9f97_acde48001122row1_col2{\n",
       "            background-color:  #df634e;\n",
       "            color:  #000000;\n",
       "        }#T_2bc7d720_0a96_11eb_9f97_acde48001122row1_col3,#T_2bc7d720_0a96_11eb_9f97_acde48001122row1_col6{\n",
       "            background-color:  #85a8fc;\n",
       "            color:  #000000;\n",
       "        }#T_2bc7d720_0a96_11eb_9f97_acde48001122row1_col4,#T_2bc7d720_0a96_11eb_9f97_acde48001122row7_col1{\n",
       "            background-color:  #86a9fc;\n",
       "            color:  #000000;\n",
       "        }#T_2bc7d720_0a96_11eb_9f97_acde48001122row1_col5,#T_2bc7d720_0a96_11eb_9f97_acde48001122row1_col7{\n",
       "            background-color:  #90b2fe;\n",
       "            color:  #000000;\n",
       "        }#T_2bc7d720_0a96_11eb_9f97_acde48001122row2_col0{\n",
       "            background-color:  #f18d6f;\n",
       "            color:  #000000;\n",
       "        }#T_2bc7d720_0a96_11eb_9f97_acde48001122row2_col1{\n",
       "            background-color:  #e7745b;\n",
       "            color:  #000000;\n",
       "        }#T_2bc7d720_0a96_11eb_9f97_acde48001122row2_col3,#T_2bc7d720_0a96_11eb_9f97_acde48001122row2_col4,#T_2bc7d720_0a96_11eb_9f97_acde48001122row2_col5,#T_2bc7d720_0a96_11eb_9f97_acde48001122row2_col6,#T_2bc7d720_0a96_11eb_9f97_acde48001122row2_col7,#T_2bc7d720_0a96_11eb_9f97_acde48001122row6_col0,#T_2bc7d720_0a96_11eb_9f97_acde48001122row6_col1,#T_2bc7d720_0a96_11eb_9f97_acde48001122row6_col2{\n",
       "            background-color:  #3b4cc0;\n",
       "            color:  #f1f1f1;\n",
       "        }#T_2bc7d720_0a96_11eb_9f97_acde48001122row3_col0{\n",
       "            background-color:  #afcafc;\n",
       "            color:  #000000;\n",
       "        }#T_2bc7d720_0a96_11eb_9f97_acde48001122row3_col1,#T_2bc7d720_0a96_11eb_9f97_acde48001122row3_col2{\n",
       "            background-color:  #89acfd;\n",
       "            color:  #000000;\n",
       "        }#T_2bc7d720_0a96_11eb_9f97_acde48001122row3_col4{\n",
       "            background-color:  #f6a586;\n",
       "            color:  #000000;\n",
       "        }#T_2bc7d720_0a96_11eb_9f97_acde48001122row3_col5,#T_2bc7d720_0a96_11eb_9f97_acde48001122row7_col5{\n",
       "            background-color:  #d85646;\n",
       "            color:  #000000;\n",
       "        }#T_2bc7d720_0a96_11eb_9f97_acde48001122row3_col6,#T_2bc7d720_0a96_11eb_9f97_acde48001122row7_col4{\n",
       "            background-color:  #e97a5f;\n",
       "            color:  #000000;\n",
       "        }#T_2bc7d720_0a96_11eb_9f97_acde48001122row3_col7,#T_2bc7d720_0a96_11eb_9f97_acde48001122row7_col3{\n",
       "            background-color:  #c43032;\n",
       "            color:  #f1f1f1;\n",
       "        }#T_2bc7d720_0a96_11eb_9f97_acde48001122row4_col0{\n",
       "            background-color:  #e1dad6;\n",
       "            color:  #000000;\n",
       "        }#T_2bc7d720_0a96_11eb_9f97_acde48001122row4_col1{\n",
       "            background-color:  #ccd9ed;\n",
       "            color:  #000000;\n",
       "        }#T_2bc7d720_0a96_11eb_9f97_acde48001122row4_col2{\n",
       "            background-color:  #cbd8ee;\n",
       "            color:  #000000;\n",
       "        }#T_2bc7d720_0a96_11eb_9f97_acde48001122row4_col3{\n",
       "            background-color:  #ee8669;\n",
       "            color:  #000000;\n",
       "        }#T_2bc7d720_0a96_11eb_9f97_acde48001122row4_col5{\n",
       "            background-color:  #f7b093;\n",
       "            color:  #000000;\n",
       "        }#T_2bc7d720_0a96_11eb_9f97_acde48001122row4_col6{\n",
       "            background-color:  #f7aa8c;\n",
       "            color:  #000000;\n",
       "        }#T_2bc7d720_0a96_11eb_9f97_acde48001122row4_col7{\n",
       "            background-color:  #dd5f4b;\n",
       "            color:  #000000;\n",
       "        }#T_2bc7d720_0a96_11eb_9f97_acde48001122row5_col0{\n",
       "            background-color:  #6687ed;\n",
       "            color:  #000000;\n",
       "        }#T_2bc7d720_0a96_11eb_9f97_acde48001122row5_col1{\n",
       "            background-color:  #485fd1;\n",
       "            color:  #f1f1f1;\n",
       "        }#T_2bc7d720_0a96_11eb_9f97_acde48001122row5_col2{\n",
       "            background-color:  #3c4ec2;\n",
       "            color:  #f1f1f1;\n",
       "        }#T_2bc7d720_0a96_11eb_9f97_acde48001122row5_col3{\n",
       "            background-color:  #e26952;\n",
       "            color:  #000000;\n",
       "        }#T_2bc7d720_0a96_11eb_9f97_acde48001122row5_col4{\n",
       "            background-color:  #d1dae9;\n",
       "            color:  #000000;\n",
       "        }#T_2bc7d720_0a96_11eb_9f97_acde48001122row5_col6,#T_2bc7d720_0a96_11eb_9f97_acde48001122row6_col5{\n",
       "            background-color:  #cc403a;\n",
       "            color:  #f1f1f1;\n",
       "        }#T_2bc7d720_0a96_11eb_9f97_acde48001122row5_col7{\n",
       "            background-color:  #e0654f;\n",
       "            color:  #000000;\n",
       "        }#T_2bc7d720_0a96_11eb_9f97_acde48001122row6_col3{\n",
       "            background-color:  #f29274;\n",
       "            color:  #000000;\n",
       "        }#T_2bc7d720_0a96_11eb_9f97_acde48001122row6_col4{\n",
       "            background-color:  #d7dce3;\n",
       "            color:  #000000;\n",
       "        }#T_2bc7d720_0a96_11eb_9f97_acde48001122row7_col0{\n",
       "            background-color:  #b5cdfa;\n",
       "            color:  #000000;\n",
       "        }#T_2bc7d720_0a96_11eb_9f97_acde48001122row7_col2{\n",
       "            background-color:  #7b9ff9;\n",
       "            color:  #000000;\n",
       "        }#T_2bc7d720_0a96_11eb_9f97_acde48001122row7_col6{\n",
       "            background-color:  #e16751;\n",
       "            color:  #000000;\n",
       "        }</style><table id=\"T_2bc7d720_0a96_11eb_9f97_acde48001122\" ><thead>    <tr>        <th class=\"blank level0\" ></th>        <th class=\"col_heading level0 col0\" >TotalCasesNY</th>        <th class=\"col_heading level0 col1\" >TotalDeathsNY</th>        <th class=\"col_heading level0 col2\" >DeathRateNY</th>        <th class=\"col_heading level0 col3\" >CompEmplNY</th>        <th class=\"col_heading level0 col4\" >GovEmplNY</th>        <th class=\"col_heading level0 col5\" >HospEmplNY</th>        <th class=\"col_heading level0 col6\" >FinEmplNY</th>        <th class=\"col_heading level0 col7\" >EduEmplNY</th>    </tr></thead><tbody>\n",
       "                <tr>\n",
       "                        <th id=\"T_2bc7d720_0a96_11eb_9f97_acde48001122level0_row0\" class=\"row_heading level0 row0\" >TotalCasesNY</th>\n",
       "                        <td id=\"T_2bc7d720_0a96_11eb_9f97_acde48001122row0_col0\" class=\"data row0 col0\" >1.000000</td>\n",
       "                        <td id=\"T_2bc7d720_0a96_11eb_9f97_acde48001122row0_col1\" class=\"data row0 col1\" >0.919776</td>\n",
       "                        <td id=\"T_2bc7d720_0a96_11eb_9f97_acde48001122row0_col2\" class=\"data row0 col2\" >0.690636</td>\n",
       "                        <td id=\"T_2bc7d720_0a96_11eb_9f97_acde48001122row0_col3\" class=\"data row0 col3\" >0.091816</td>\n",
       "                        <td id=\"T_2bc7d720_0a96_11eb_9f97_acde48001122row0_col4\" class=\"data row0 col4\" >0.326925</td>\n",
       "                        <td id=\"T_2bc7d720_0a96_11eb_9f97_acde48001122row0_col5\" class=\"data row0 col5\" >-0.202925</td>\n",
       "                        <td id=\"T_2bc7d720_0a96_11eb_9f97_acde48001122row0_col6\" class=\"data row0 col6\" >-0.398483</td>\n",
       "                        <td id=\"T_2bc7d720_0a96_11eb_9f97_acde48001122row0_col7\" class=\"data row0 col7\" >0.109935</td>\n",
       "            </tr>\n",
       "            <tr>\n",
       "                        <th id=\"T_2bc7d720_0a96_11eb_9f97_acde48001122level0_row1\" class=\"row_heading level0 row1\" >TotalDeathsNY</th>\n",
       "                        <td id=\"T_2bc7d720_0a96_11eb_9f97_acde48001122row1_col0\" class=\"data row1 col0\" >0.919776</td>\n",
       "                        <td id=\"T_2bc7d720_0a96_11eb_9f97_acde48001122row1_col1\" class=\"data row1 col1\" >1.000000</td>\n",
       "                        <td id=\"T_2bc7d720_0a96_11eb_9f97_acde48001122row1_col2\" class=\"data row1 col2\" >0.769868</td>\n",
       "                        <td id=\"T_2bc7d720_0a96_11eb_9f97_acde48001122row1_col3\" class=\"data row1 col3\" >-0.045723</td>\n",
       "                        <td id=\"T_2bc7d720_0a96_11eb_9f97_acde48001122row1_col4\" class=\"data row1 col4\" >0.230451</td>\n",
       "                        <td id=\"T_2bc7d720_0a96_11eb_9f97_acde48001122row1_col5\" class=\"data row1 col5\" >-0.316524</td>\n",
       "                        <td id=\"T_2bc7d720_0a96_11eb_9f97_acde48001122row1_col6\" class=\"data row1 col6\" >-0.375871</td>\n",
       "                        <td id=\"T_2bc7d720_0a96_11eb_9f97_acde48001122row1_col7\" class=\"data row1 col7\" >-0.054137</td>\n",
       "            </tr>\n",
       "            <tr>\n",
       "                        <th id=\"T_2bc7d720_0a96_11eb_9f97_acde48001122level0_row2\" class=\"row_heading level0 row2\" >DeathRateNY</th>\n",
       "                        <td id=\"T_2bc7d720_0a96_11eb_9f97_acde48001122row2_col0\" class=\"data row2 col0\" >0.690636</td>\n",
       "                        <td id=\"T_2bc7d720_0a96_11eb_9f97_acde48001122row2_col1\" class=\"data row2 col1\" >0.769868</td>\n",
       "                        <td id=\"T_2bc7d720_0a96_11eb_9f97_acde48001122row2_col2\" class=\"data row2 col2\" >1.000000</td>\n",
       "                        <td id=\"T_2bc7d720_0a96_11eb_9f97_acde48001122row2_col3\" class=\"data row2 col3\" >-0.353277</td>\n",
       "                        <td id=\"T_2bc7d720_0a96_11eb_9f97_acde48001122row2_col4\" class=\"data row2 col4\" >-0.004701</td>\n",
       "                        <td id=\"T_2bc7d720_0a96_11eb_9f97_acde48001122row2_col5\" class=\"data row2 col5\" >-0.774987</td>\n",
       "                        <td id=\"T_2bc7d720_0a96_11eb_9f97_acde48001122row2_col6\" class=\"data row2 col6\" >-0.782102</td>\n",
       "                        <td id=\"T_2bc7d720_0a96_11eb_9f97_acde48001122row2_col7\" class=\"data row2 col7\" >-0.424507</td>\n",
       "            </tr>\n",
       "            <tr>\n",
       "                        <th id=\"T_2bc7d720_0a96_11eb_9f97_acde48001122level0_row3\" class=\"row_heading level0 row3\" >CompEmplNY</th>\n",
       "                        <td id=\"T_2bc7d720_0a96_11eb_9f97_acde48001122row3_col0\" class=\"data row3 col0\" >0.091816</td>\n",
       "                        <td id=\"T_2bc7d720_0a96_11eb_9f97_acde48001122row3_col1\" class=\"data row3 col1\" >-0.045723</td>\n",
       "                        <td id=\"T_2bc7d720_0a96_11eb_9f97_acde48001122row3_col2\" class=\"data row3 col2\" >-0.353277</td>\n",
       "                        <td id=\"T_2bc7d720_0a96_11eb_9f97_acde48001122row3_col3\" class=\"data row3 col3\" >1.000000</td>\n",
       "                        <td id=\"T_2bc7d720_0a96_11eb_9f97_acde48001122row3_col4\" class=\"data row3 col4\" >0.720133</td>\n",
       "                        <td id=\"T_2bc7d720_0a96_11eb_9f97_acde48001122row3_col5\" class=\"data row3 col5\" >0.806422</td>\n",
       "                        <td id=\"T_2bc7d720_0a96_11eb_9f97_acde48001122row3_col6\" class=\"data row3 col6\" >0.685780</td>\n",
       "                        <td id=\"T_2bc7d720_0a96_11eb_9f97_acde48001122row3_col7\" class=\"data row3 col7\" >0.937804</td>\n",
       "            </tr>\n",
       "            <tr>\n",
       "                        <th id=\"T_2bc7d720_0a96_11eb_9f97_acde48001122level0_row4\" class=\"row_heading level0 row4\" >GovEmplNY</th>\n",
       "                        <td id=\"T_2bc7d720_0a96_11eb_9f97_acde48001122row4_col0\" class=\"data row4 col0\" >0.326925</td>\n",
       "                        <td id=\"T_2bc7d720_0a96_11eb_9f97_acde48001122row4_col1\" class=\"data row4 col1\" >0.230451</td>\n",
       "                        <td id=\"T_2bc7d720_0a96_11eb_9f97_acde48001122row4_col2\" class=\"data row4 col2\" >-0.004701</td>\n",
       "                        <td id=\"T_2bc7d720_0a96_11eb_9f97_acde48001122row4_col3\" class=\"data row4 col3\" >0.720133</td>\n",
       "                        <td id=\"T_2bc7d720_0a96_11eb_9f97_acde48001122row4_col4\" class=\"data row4 col4\" >1.000000</td>\n",
       "                        <td id=\"T_2bc7d720_0a96_11eb_9f97_acde48001122row4_col5\" class=\"data row4 col5\" >0.450868</td>\n",
       "                        <td id=\"T_2bc7d720_0a96_11eb_9f97_acde48001122row4_col6\" class=\"data row4 col6\" >0.474255</td>\n",
       "                        <td id=\"T_2bc7d720_0a96_11eb_9f97_acde48001122row4_col7\" class=\"data row4 col7\" >0.822412</td>\n",
       "            </tr>\n",
       "            <tr>\n",
       "                        <th id=\"T_2bc7d720_0a96_11eb_9f97_acde48001122level0_row5\" class=\"row_heading level0 row5\" >HospEmplNY</th>\n",
       "                        <td id=\"T_2bc7d720_0a96_11eb_9f97_acde48001122row5_col0\" class=\"data row5 col0\" >-0.202925</td>\n",
       "                        <td id=\"T_2bc7d720_0a96_11eb_9f97_acde48001122row5_col1\" class=\"data row5 col1\" >-0.316524</td>\n",
       "                        <td id=\"T_2bc7d720_0a96_11eb_9f97_acde48001122row5_col2\" class=\"data row5 col2\" >-0.774987</td>\n",
       "                        <td id=\"T_2bc7d720_0a96_11eb_9f97_acde48001122row5_col3\" class=\"data row5 col3\" >0.806422</td>\n",
       "                        <td id=\"T_2bc7d720_0a96_11eb_9f97_acde48001122row5_col4\" class=\"data row5 col4\" >0.450868</td>\n",
       "                        <td id=\"T_2bc7d720_0a96_11eb_9f97_acde48001122row5_col5\" class=\"data row5 col5\" >1.000000</td>\n",
       "                        <td id=\"T_2bc7d720_0a96_11eb_9f97_acde48001122row5_col6\" class=\"data row5 col6\" >0.880971</td>\n",
       "                        <td id=\"T_2bc7d720_0a96_11eb_9f97_acde48001122row5_col7\" class=\"data row5 col7\" >0.808635</td>\n",
       "            </tr>\n",
       "            <tr>\n",
       "                        <th id=\"T_2bc7d720_0a96_11eb_9f97_acde48001122level0_row6\" class=\"row_heading level0 row6\" >FinEmplNY</th>\n",
       "                        <td id=\"T_2bc7d720_0a96_11eb_9f97_acde48001122row6_col0\" class=\"data row6 col0\" >-0.398483</td>\n",
       "                        <td id=\"T_2bc7d720_0a96_11eb_9f97_acde48001122row6_col1\" class=\"data row6 col1\" >-0.375871</td>\n",
       "                        <td id=\"T_2bc7d720_0a96_11eb_9f97_acde48001122row6_col2\" class=\"data row6 col2\" >-0.782102</td>\n",
       "                        <td id=\"T_2bc7d720_0a96_11eb_9f97_acde48001122row6_col3\" class=\"data row6 col3\" >0.685780</td>\n",
       "                        <td id=\"T_2bc7d720_0a96_11eb_9f97_acde48001122row6_col4\" class=\"data row6 col4\" >0.474255</td>\n",
       "                        <td id=\"T_2bc7d720_0a96_11eb_9f97_acde48001122row6_col5\" class=\"data row6 col5\" >0.880971</td>\n",
       "                        <td id=\"T_2bc7d720_0a96_11eb_9f97_acde48001122row6_col6\" class=\"data row6 col6\" >1.000000</td>\n",
       "                        <td id=\"T_2bc7d720_0a96_11eb_9f97_acde48001122row6_col7\" class=\"data row6 col7\" >0.751775</td>\n",
       "            </tr>\n",
       "            <tr>\n",
       "                        <th id=\"T_2bc7d720_0a96_11eb_9f97_acde48001122level0_row7\" class=\"row_heading level0 row7\" >EduEmplNY</th>\n",
       "                        <td id=\"T_2bc7d720_0a96_11eb_9f97_acde48001122row7_col0\" class=\"data row7 col0\" >0.109935</td>\n",
       "                        <td id=\"T_2bc7d720_0a96_11eb_9f97_acde48001122row7_col1\" class=\"data row7 col1\" >-0.054137</td>\n",
       "                        <td id=\"T_2bc7d720_0a96_11eb_9f97_acde48001122row7_col2\" class=\"data row7 col2\" >-0.424507</td>\n",
       "                        <td id=\"T_2bc7d720_0a96_11eb_9f97_acde48001122row7_col3\" class=\"data row7 col3\" >0.937804</td>\n",
       "                        <td id=\"T_2bc7d720_0a96_11eb_9f97_acde48001122row7_col4\" class=\"data row7 col4\" >0.822412</td>\n",
       "                        <td id=\"T_2bc7d720_0a96_11eb_9f97_acde48001122row7_col5\" class=\"data row7 col5\" >0.808635</td>\n",
       "                        <td id=\"T_2bc7d720_0a96_11eb_9f97_acde48001122row7_col6\" class=\"data row7 col6\" >0.751775</td>\n",
       "                        <td id=\"T_2bc7d720_0a96_11eb_9f97_acde48001122row7_col7\" class=\"data row7 col7\" >1.000000</td>\n",
       "            </tr>\n",
       "    </tbody></table>"
      ],
      "text/plain": [
       "<pandas.io.formats.style.Styler at 0x7fe0c5211c10>"
      ]
     },
     "execution_count": 72,
     "metadata": {},
     "output_type": "execute_result"
    }
   ],
   "source": [
    "# visualize the correlation between different variables of NY\n",
    "cov_empl_ny = final_data[['Period', 'TotalCasesNY', 'TotalDeathsNY', 'DeathRateNY', 'CompEmplNY', 'GovEmplNY', 'HospEmplNY', 'FinEmplNY',  'EduEmplNY']]\n",
    "\n",
    "corr_ny = cov_empl_ny.corr()    # visualize correlation matrix\n",
    "corr_ny.style.background_gradient(cmap='coolwarm') "
   ]
  },
  {
   "cell_type": "code",
   "execution_count": 73,
   "metadata": {},
   "outputs": [
    {
     "data": {
      "text/html": [
       "<style  type=\"text/css\" >\n",
       "#T_2bcb2e66_0a96_11eb_9f97_acde48001122row0_col0,#T_2bcb2e66_0a96_11eb_9f97_acde48001122row1_col1,#T_2bcb2e66_0a96_11eb_9f97_acde48001122row2_col2,#T_2bcb2e66_0a96_11eb_9f97_acde48001122row3_col3,#T_2bcb2e66_0a96_11eb_9f97_acde48001122row4_col4,#T_2bcb2e66_0a96_11eb_9f97_acde48001122row5_col5,#T_2bcb2e66_0a96_11eb_9f97_acde48001122row6_col6,#T_2bcb2e66_0a96_11eb_9f97_acde48001122row7_col7{\n",
       "            background-color:  #b40426;\n",
       "            color:  #f1f1f1;\n",
       "        }#T_2bcb2e66_0a96_11eb_9f97_acde48001122row0_col1,#T_2bcb2e66_0a96_11eb_9f97_acde48001122row1_col0{\n",
       "            background-color:  #d95847;\n",
       "            color:  #000000;\n",
       "        }#T_2bcb2e66_0a96_11eb_9f97_acde48001122row0_col2{\n",
       "            background-color:  #f1ccb8;\n",
       "            color:  #000000;\n",
       "        }#T_2bcb2e66_0a96_11eb_9f97_acde48001122row0_col3{\n",
       "            background-color:  #b1cbfc;\n",
       "            color:  #000000;\n",
       "        }#T_2bcb2e66_0a96_11eb_9f97_acde48001122row0_col4,#T_2bcb2e66_0a96_11eb_9f97_acde48001122row0_col7,#T_2bcb2e66_0a96_11eb_9f97_acde48001122row1_col6,#T_2bcb2e66_0a96_11eb_9f97_acde48001122row2_col3,#T_2bcb2e66_0a96_11eb_9f97_acde48001122row3_col2,#T_2bcb2e66_0a96_11eb_9f97_acde48001122row6_col1,#T_2bcb2e66_0a96_11eb_9f97_acde48001122row6_col5,#T_2bcb2e66_0a96_11eb_9f97_acde48001122row7_col0{\n",
       "            background-color:  #3b4cc0;\n",
       "            color:  #f1f1f1;\n",
       "        }#T_2bcb2e66_0a96_11eb_9f97_acde48001122row0_col5{\n",
       "            background-color:  #f5a081;\n",
       "            color:  #000000;\n",
       "        }#T_2bcb2e66_0a96_11eb_9f97_acde48001122row0_col6{\n",
       "            background-color:  #799cf8;\n",
       "            color:  #000000;\n",
       "        }#T_2bcb2e66_0a96_11eb_9f97_acde48001122row1_col2,#T_2bcb2e66_0a96_11eb_9f97_acde48001122row2_col1{\n",
       "            background-color:  #df634e;\n",
       "            color:  #000000;\n",
       "        }#T_2bcb2e66_0a96_11eb_9f97_acde48001122row1_col3{\n",
       "            background-color:  #5b7ae5;\n",
       "            color:  #000000;\n",
       "        }#T_2bcb2e66_0a96_11eb_9f97_acde48001122row1_col4{\n",
       "            background-color:  #5470de;\n",
       "            color:  #000000;\n",
       "        }#T_2bcb2e66_0a96_11eb_9f97_acde48001122row1_col5,#T_2bcb2e66_0a96_11eb_9f97_acde48001122row3_col6,#T_2bcb2e66_0a96_11eb_9f97_acde48001122row5_col1,#T_2bcb2e66_0a96_11eb_9f97_acde48001122row6_col3{\n",
       "            background-color:  #d44e41;\n",
       "            color:  #000000;\n",
       "        }#T_2bcb2e66_0a96_11eb_9f97_acde48001122row1_col7{\n",
       "            background-color:  #445acc;\n",
       "            color:  #f1f1f1;\n",
       "        }#T_2bcb2e66_0a96_11eb_9f97_acde48001122row2_col0{\n",
       "            background-color:  #f2c9b4;\n",
       "            color:  #000000;\n",
       "        }#T_2bcb2e66_0a96_11eb_9f97_acde48001122row2_col4{\n",
       "            background-color:  #b6cefa;\n",
       "            color:  #000000;\n",
       "        }#T_2bcb2e66_0a96_11eb_9f97_acde48001122row2_col5,#T_2bcb2e66_0a96_11eb_9f97_acde48001122row5_col2{\n",
       "            background-color:  #ca3b37;\n",
       "            color:  #f1f1f1;\n",
       "        }#T_2bcb2e66_0a96_11eb_9f97_acde48001122row2_col6,#T_2bcb2e66_0a96_11eb_9f97_acde48001122row5_col3{\n",
       "            background-color:  #455cce;\n",
       "            color:  #f1f1f1;\n",
       "        }#T_2bcb2e66_0a96_11eb_9f97_acde48001122row2_col7{\n",
       "            background-color:  #9abbff;\n",
       "            color:  #000000;\n",
       "        }#T_2bcb2e66_0a96_11eb_9f97_acde48001122row3_col0{\n",
       "            background-color:  #b7cff9;\n",
       "            color:  #000000;\n",
       "        }#T_2bcb2e66_0a96_11eb_9f97_acde48001122row3_col1{\n",
       "            background-color:  #6282ea;\n",
       "            color:  #000000;\n",
       "        }#T_2bcb2e66_0a96_11eb_9f97_acde48001122row3_col4{\n",
       "            background-color:  #dadce0;\n",
       "            color:  #000000;\n",
       "        }#T_2bcb2e66_0a96_11eb_9f97_acde48001122row3_col5{\n",
       "            background-color:  #4a63d3;\n",
       "            color:  #f1f1f1;\n",
       "        }#T_2bcb2e66_0a96_11eb_9f97_acde48001122row3_col7{\n",
       "            background-color:  #f4c5ad;\n",
       "            color:  #000000;\n",
       "        }#T_2bcb2e66_0a96_11eb_9f97_acde48001122row4_col0{\n",
       "            background-color:  #4055c8;\n",
       "            color:  #f1f1f1;\n",
       "        }#T_2bcb2e66_0a96_11eb_9f97_acde48001122row4_col1{\n",
       "            background-color:  #5875e1;\n",
       "            color:  #000000;\n",
       "        }#T_2bcb2e66_0a96_11eb_9f97_acde48001122row4_col2{\n",
       "            background-color:  #b5cdfa;\n",
       "            color:  #000000;\n",
       "        }#T_2bcb2e66_0a96_11eb_9f97_acde48001122row4_col3{\n",
       "            background-color:  #d9dce1;\n",
       "            color:  #000000;\n",
       "        }#T_2bcb2e66_0a96_11eb_9f97_acde48001122row4_col5{\n",
       "            background-color:  #abc8fd;\n",
       "            color:  #000000;\n",
       "        }#T_2bcb2e66_0a96_11eb_9f97_acde48001122row4_col6{\n",
       "            background-color:  #f7af91;\n",
       "            color:  #000000;\n",
       "        }#T_2bcb2e66_0a96_11eb_9f97_acde48001122row4_col7,#T_2bcb2e66_0a96_11eb_9f97_acde48001122row7_col4{\n",
       "            background-color:  #bd1f2d;\n",
       "            color:  #f1f1f1;\n",
       "        }#T_2bcb2e66_0a96_11eb_9f97_acde48001122row5_col0{\n",
       "            background-color:  #f59f80;\n",
       "            color:  #000000;\n",
       "        }#T_2bcb2e66_0a96_11eb_9f97_acde48001122row5_col4{\n",
       "            background-color:  #aac7fd;\n",
       "            color:  #000000;\n",
       "        }#T_2bcb2e66_0a96_11eb_9f97_acde48001122row5_col6{\n",
       "            background-color:  #3c4ec2;\n",
       "            color:  #f1f1f1;\n",
       "        }#T_2bcb2e66_0a96_11eb_9f97_acde48001122row5_col7{\n",
       "            background-color:  #84a7fc;\n",
       "            color:  #000000;\n",
       "        }#T_2bcb2e66_0a96_11eb_9f97_acde48001122row6_col0{\n",
       "            background-color:  #7a9df8;\n",
       "            color:  #000000;\n",
       "        }#T_2bcb2e66_0a96_11eb_9f97_acde48001122row6_col2{\n",
       "            background-color:  #3e51c5;\n",
       "            color:  #f1f1f1;\n",
       "        }#T_2bcb2e66_0a96_11eb_9f97_acde48001122row6_col4{\n",
       "            background-color:  #f7b093;\n",
       "            color:  #000000;\n",
       "        }#T_2bcb2e66_0a96_11eb_9f97_acde48001122row6_col7{\n",
       "            background-color:  #ec7f63;\n",
       "            color:  #000000;\n",
       "        }#T_2bcb2e66_0a96_11eb_9f97_acde48001122row7_col1{\n",
       "            background-color:  #4257c9;\n",
       "            color:  #f1f1f1;\n",
       "        }#T_2bcb2e66_0a96_11eb_9f97_acde48001122row7_col2{\n",
       "            background-color:  #92b4fe;\n",
       "            color:  #000000;\n",
       "        }#T_2bcb2e66_0a96_11eb_9f97_acde48001122row7_col3{\n",
       "            background-color:  #f3c8b2;\n",
       "            color:  #000000;\n",
       "        }#T_2bcb2e66_0a96_11eb_9f97_acde48001122row7_col5{\n",
       "            background-color:  #81a4fb;\n",
       "            color:  #000000;\n",
       "        }#T_2bcb2e66_0a96_11eb_9f97_acde48001122row7_col6{\n",
       "            background-color:  #ec8165;\n",
       "            color:  #000000;\n",
       "        }</style><table id=\"T_2bcb2e66_0a96_11eb_9f97_acde48001122\" ><thead>    <tr>        <th class=\"blank level0\" ></th>        <th class=\"col_heading level0 col0\" >TotalCasesLA</th>        <th class=\"col_heading level0 col1\" >TotalDeathsLA</th>        <th class=\"col_heading level0 col2\" >DeathRateLA</th>        <th class=\"col_heading level0 col3\" >CompEmplLA</th>        <th class=\"col_heading level0 col4\" >GovEmplLA</th>        <th class=\"col_heading level0 col5\" >HospEmplLA</th>        <th class=\"col_heading level0 col6\" >FinEmplLA</th>        <th class=\"col_heading level0 col7\" >EduEmplLA</th>    </tr></thead><tbody>\n",
       "                <tr>\n",
       "                        <th id=\"T_2bcb2e66_0a96_11eb_9f97_acde48001122level0_row0\" class=\"row_heading level0 row0\" >TotalCasesLA</th>\n",
       "                        <td id=\"T_2bcb2e66_0a96_11eb_9f97_acde48001122row0_col0\" class=\"data row0 col0\" >1.000000</td>\n",
       "                        <td id=\"T_2bcb2e66_0a96_11eb_9f97_acde48001122row0_col1\" class=\"data row0 col1\" >0.790890</td>\n",
       "                        <td id=\"T_2bcb2e66_0a96_11eb_9f97_acde48001122row0_col2\" class=\"data row0 col2\" >0.249704</td>\n",
       "                        <td id=\"T_2bcb2e66_0a96_11eb_9f97_acde48001122row0_col3\" class=\"data row0 col3\" >-0.192720</td>\n",
       "                        <td id=\"T_2bcb2e66_0a96_11eb_9f97_acde48001122row0_col4\" class=\"data row0 col4\" >-0.867289</td>\n",
       "                        <td id=\"T_2bcb2e66_0a96_11eb_9f97_acde48001122row0_col5\" class=\"data row0 col5\" >0.496822</td>\n",
       "                        <td id=\"T_2bcb2e66_0a96_11eb_9f97_acde48001122row0_col6\" class=\"data row0 col6\" >-0.529957</td>\n",
       "                        <td id=\"T_2bcb2e66_0a96_11eb_9f97_acde48001122row0_col7\" class=\"data row0 col7\" >-0.905038</td>\n",
       "            </tr>\n",
       "            <tr>\n",
       "                        <th id=\"T_2bcb2e66_0a96_11eb_9f97_acde48001122level0_row1\" class=\"row_heading level0 row1\" >TotalDeathsLA</th>\n",
       "                        <td id=\"T_2bcb2e66_0a96_11eb_9f97_acde48001122row1_col0\" class=\"data row1 col0\" >0.790890</td>\n",
       "                        <td id=\"T_2bcb2e66_0a96_11eb_9f97_acde48001122row1_col1\" class=\"data row1 col1\" >1.000000</td>\n",
       "                        <td id=\"T_2bcb2e66_0a96_11eb_9f97_acde48001122row1_col2\" class=\"data row1 col2\" >0.754792</td>\n",
       "                        <td id=\"T_2bcb2e66_0a96_11eb_9f97_acde48001122row1_col3\" class=\"data row1 col3\" >-0.653770</td>\n",
       "                        <td id=\"T_2bcb2e66_0a96_11eb_9f97_acde48001122row1_col4\" class=\"data row1 col4\" >-0.712871</td>\n",
       "                        <td id=\"T_2bcb2e66_0a96_11eb_9f97_acde48001122row1_col5\" class=\"data row1 col5\" >0.825863</td>\n",
       "                        <td id=\"T_2bcb2e66_0a96_11eb_9f97_acde48001122row1_col6\" class=\"data row1 col6\" >-0.893566</td>\n",
       "                        <td id=\"T_2bcb2e66_0a96_11eb_9f97_acde48001122row1_col7\" class=\"data row1 col7\" >-0.844965</td>\n",
       "            </tr>\n",
       "            <tr>\n",
       "                        <th id=\"T_2bcb2e66_0a96_11eb_9f97_acde48001122level0_row2\" class=\"row_heading level0 row2\" >DeathRateLA</th>\n",
       "                        <td id=\"T_2bcb2e66_0a96_11eb_9f97_acde48001122row2_col0\" class=\"data row2 col0\" >0.249704</td>\n",
       "                        <td id=\"T_2bcb2e66_0a96_11eb_9f97_acde48001122row2_col1\" class=\"data row2 col1\" >0.754792</td>\n",
       "                        <td id=\"T_2bcb2e66_0a96_11eb_9f97_acde48001122row2_col2\" class=\"data row2 col2\" >1.000000</td>\n",
       "                        <td id=\"T_2bcb2e66_0a96_11eb_9f97_acde48001122row2_col3\" class=\"data row2 col3\" >-0.850269</td>\n",
       "                        <td id=\"T_2bcb2e66_0a96_11eb_9f97_acde48001122row2_col4\" class=\"data row2 col4\" >-0.176540</td>\n",
       "                        <td id=\"T_2bcb2e66_0a96_11eb_9f97_acde48001122row2_col5\" class=\"data row2 col5\" >0.887471</td>\n",
       "                        <td id=\"T_2bcb2e66_0a96_11eb_9f97_acde48001122row2_col6\" class=\"data row2 col6\" >-0.823386</td>\n",
       "                        <td id=\"T_2bcb2e66_0a96_11eb_9f97_acde48001122row2_col7\" class=\"data row2 col7\" >-0.358818</td>\n",
       "            </tr>\n",
       "            <tr>\n",
       "                        <th id=\"T_2bcb2e66_0a96_11eb_9f97_acde48001122level0_row3\" class=\"row_heading level0 row3\" >CompEmplLA</th>\n",
       "                        <td id=\"T_2bcb2e66_0a96_11eb_9f97_acde48001122row3_col0\" class=\"data row3 col0\" >-0.192720</td>\n",
       "                        <td id=\"T_2bcb2e66_0a96_11eb_9f97_acde48001122row3_col1\" class=\"data row3 col1\" >-0.653770</td>\n",
       "                        <td id=\"T_2bcb2e66_0a96_11eb_9f97_acde48001122row3_col2\" class=\"data row3 col2\" >-0.850269</td>\n",
       "                        <td id=\"T_2bcb2e66_0a96_11eb_9f97_acde48001122row3_col3\" class=\"data row3 col3\" >1.000000</td>\n",
       "                        <td id=\"T_2bcb2e66_0a96_11eb_9f97_acde48001122row3_col4\" class=\"data row3 col4\" >0.049479</td>\n",
       "                        <td id=\"T_2bcb2e66_0a96_11eb_9f97_acde48001122row3_col5\" class=\"data row3 col5\" >-0.780166</td>\n",
       "                        <td id=\"T_2bcb2e66_0a96_11eb_9f97_acde48001122row3_col6\" class=\"data row3 col6\" >0.828868</td>\n",
       "                        <td id=\"T_2bcb2e66_0a96_11eb_9f97_acde48001122row3_col7\" class=\"data row3 col7\" >0.280893</td>\n",
       "            </tr>\n",
       "            <tr>\n",
       "                        <th id=\"T_2bcb2e66_0a96_11eb_9f97_acde48001122level0_row4\" class=\"row_heading level0 row4\" >GovEmplLA</th>\n",
       "                        <td id=\"T_2bcb2e66_0a96_11eb_9f97_acde48001122row4_col0\" class=\"data row4 col0\" >-0.867289</td>\n",
       "                        <td id=\"T_2bcb2e66_0a96_11eb_9f97_acde48001122row4_col1\" class=\"data row4 col1\" >-0.712871</td>\n",
       "                        <td id=\"T_2bcb2e66_0a96_11eb_9f97_acde48001122row4_col2\" class=\"data row4 col2\" >-0.176540</td>\n",
       "                        <td id=\"T_2bcb2e66_0a96_11eb_9f97_acde48001122row4_col3\" class=\"data row4 col3\" >0.049479</td>\n",
       "                        <td id=\"T_2bcb2e66_0a96_11eb_9f97_acde48001122row4_col4\" class=\"data row4 col4\" >1.000000</td>\n",
       "                        <td id=\"T_2bcb2e66_0a96_11eb_9f97_acde48001122row4_col5\" class=\"data row4 col5\" >-0.243483</td>\n",
       "                        <td id=\"T_2bcb2e66_0a96_11eb_9f97_acde48001122row4_col6\" class=\"data row4 col6\" >0.416803</td>\n",
       "                        <td id=\"T_2bcb2e66_0a96_11eb_9f97_acde48001122row4_col7\" class=\"data row4 col7\" >0.951650</td>\n",
       "            </tr>\n",
       "            <tr>\n",
       "                        <th id=\"T_2bcb2e66_0a96_11eb_9f97_acde48001122level0_row5\" class=\"row_heading level0 row5\" >HospEmplLA</th>\n",
       "                        <td id=\"T_2bcb2e66_0a96_11eb_9f97_acde48001122row5_col0\" class=\"data row5 col0\" >0.496822</td>\n",
       "                        <td id=\"T_2bcb2e66_0a96_11eb_9f97_acde48001122row5_col1\" class=\"data row5 col1\" >0.825863</td>\n",
       "                        <td id=\"T_2bcb2e66_0a96_11eb_9f97_acde48001122row5_col2\" class=\"data row5 col2\" >0.887471</td>\n",
       "                        <td id=\"T_2bcb2e66_0a96_11eb_9f97_acde48001122row5_col3\" class=\"data row5 col3\" >-0.780166</td>\n",
       "                        <td id=\"T_2bcb2e66_0a96_11eb_9f97_acde48001122row5_col4\" class=\"data row5 col4\" >-0.243483</td>\n",
       "                        <td id=\"T_2bcb2e66_0a96_11eb_9f97_acde48001122row5_col5\" class=\"data row5 col5\" >1.000000</td>\n",
       "                        <td id=\"T_2bcb2e66_0a96_11eb_9f97_acde48001122row5_col6\" class=\"data row5 col6\" >-0.881567</td>\n",
       "                        <td id=\"T_2bcb2e66_0a96_11eb_9f97_acde48001122row5_col7\" class=\"data row5 col7\" >-0.473678</td>\n",
       "            </tr>\n",
       "            <tr>\n",
       "                        <th id=\"T_2bcb2e66_0a96_11eb_9f97_acde48001122level0_row6\" class=\"row_heading level0 row6\" >FinEmplLA</th>\n",
       "                        <td id=\"T_2bcb2e66_0a96_11eb_9f97_acde48001122row6_col0\" class=\"data row6 col0\" >-0.529957</td>\n",
       "                        <td id=\"T_2bcb2e66_0a96_11eb_9f97_acde48001122row6_col1\" class=\"data row6 col1\" >-0.893566</td>\n",
       "                        <td id=\"T_2bcb2e66_0a96_11eb_9f97_acde48001122row6_col2\" class=\"data row6 col2\" >-0.823386</td>\n",
       "                        <td id=\"T_2bcb2e66_0a96_11eb_9f97_acde48001122row6_col3\" class=\"data row6 col3\" >0.828868</td>\n",
       "                        <td id=\"T_2bcb2e66_0a96_11eb_9f97_acde48001122row6_col4\" class=\"data row6 col4\" >0.416803</td>\n",
       "                        <td id=\"T_2bcb2e66_0a96_11eb_9f97_acde48001122row6_col5\" class=\"data row6 col5\" >-0.881567</td>\n",
       "                        <td id=\"T_2bcb2e66_0a96_11eb_9f97_acde48001122row6_col6\" class=\"data row6 col6\" >1.000000</td>\n",
       "                        <td id=\"T_2bcb2e66_0a96_11eb_9f97_acde48001122row6_col7\" class=\"data row6 col7\" >0.637436</td>\n",
       "            </tr>\n",
       "            <tr>\n",
       "                        <th id=\"T_2bcb2e66_0a96_11eb_9f97_acde48001122level0_row7\" class=\"row_heading level0 row7\" >EduEmplLA</th>\n",
       "                        <td id=\"T_2bcb2e66_0a96_11eb_9f97_acde48001122row7_col0\" class=\"data row7 col0\" >-0.905038</td>\n",
       "                        <td id=\"T_2bcb2e66_0a96_11eb_9f97_acde48001122row7_col1\" class=\"data row7 col1\" >-0.844965</td>\n",
       "                        <td id=\"T_2bcb2e66_0a96_11eb_9f97_acde48001122row7_col2\" class=\"data row7 col2\" >-0.358818</td>\n",
       "                        <td id=\"T_2bcb2e66_0a96_11eb_9f97_acde48001122row7_col3\" class=\"data row7 col3\" >0.280893</td>\n",
       "                        <td id=\"T_2bcb2e66_0a96_11eb_9f97_acde48001122row7_col4\" class=\"data row7 col4\" >0.951650</td>\n",
       "                        <td id=\"T_2bcb2e66_0a96_11eb_9f97_acde48001122row7_col5\" class=\"data row7 col5\" >-0.473678</td>\n",
       "                        <td id=\"T_2bcb2e66_0a96_11eb_9f97_acde48001122row7_col6\" class=\"data row7 col6\" >0.637436</td>\n",
       "                        <td id=\"T_2bcb2e66_0a96_11eb_9f97_acde48001122row7_col7\" class=\"data row7 col7\" >1.000000</td>\n",
       "            </tr>\n",
       "    </tbody></table>"
      ],
      "text/plain": [
       "<pandas.io.formats.style.Styler at 0x7fe0ab6c70d0>"
      ]
     },
     "execution_count": 73,
     "metadata": {},
     "output_type": "execute_result"
    }
   ],
   "source": [
    "# visualize the correlation between different variables of LA\n",
    "cov_empl_la = final_data[['Period', 'TotalCasesLA', 'TotalDeathsLA', 'DeathRateLA', 'CompEmplLA', 'GovEmplLA', 'HospEmplLA', 'FinEmplLA',  'EduEmplLA']]\n",
    "\n",
    "corr_la = cov_empl_la.corr()     # visualize correlation matrix\n",
    "corr_la.style.background_gradient(cmap='coolwarm')"
   ]
  },
  {
   "cell_type": "code",
   "execution_count": 74,
   "metadata": {},
   "outputs": [
    {
     "data": {
      "image/png": "[encoded data removed]",
      "text/plain": [
       "<Figure size 432x288 with 1 Axes>"
      ]
     },
     "metadata": {
      "needs_background": "light"
     },
     "output_type": "display_data"
    },
    {
     "data": {
      "image/png": "[encoded data removed]",
      "text/plain": [
       "<Figure size 432x288 with 1 Axes>"
      ]
     },
     "metadata": {
      "needs_background": "light"
     },
     "output_type": "display_data"
    }
   ],
   "source": [
    "#take a close look at the hospital industry\n",
    "plt.scatter(final_data[\"HospEmplNY\"], final_data[\"DeathRateNY\"])\n",
    "plt.xlabel('Number of Hospital Employees in Thousands')\n",
    "plt.ylabel('Death Rate of COVID Pandemic')\n",
    "plt.title('New York', fontsize=16)\n",
    "plt.show()\n",
    "plt.close()\n",
    "\n",
    "plt.scatter(final_data[\"HospEmplLA\"], final_data[\"DeathRateLA\"])\n",
    "plt.xlabel('Number of Hospital Employees in Thousands')\n",
    "plt.ylabel('Death Rate of COVID Pandemic')\n",
    "plt.title('Los Angeles', fontsize=16)\n",
    "plt.show()"
   ]
  },
  {
   "cell_type": "markdown",
   "metadata": {},
   "source": [
    "Although this dataset's size is too small, the difference between New York and Los Angeles in hospital industry's employees’ number is significant. The former is positively correlated to the death rate of the COVID pandemic, while the latter has a negative correlation with it."
   ]
  },
  {
   "cell_type": "markdown",
   "metadata": {},
   "source": [
    "# 6. Questions for reviewers #"
   ]
  },
  {
   "cell_type": "markdown",
   "metadata": {},
   "source": [
    "1. We have 3 fields of interests: COVID, crime and employment. We also have 2 cities of east and west coast for comparison. We are wondering how to better constrain and consolidate all into one research question that will be specific enough and address these interests.<br/>\n",
    "2. What aspect of our topic do you think is the most interesting one? Specifically, what statistical transformation would you advice us do, in order to map these pairs of varibles on a same plot ? <br/>\n",
    "3. Our reserch question attempts to find a possible reason to explain the part of data that matches or dismatch our expectation ( for example, Los Angeles's crime doesn't change drastically as we expected)? Is it possible to explain? How do we know if it's might be due to the imperfection in our dataset, or it's just 'impossible to prove causality\"? \n",
    "4. When pondering on the research question, we were a bit concerned about how this project might be of much practical implication. While crime and unemployment grasp our interest, it might seem less useful or applicable, compared to those on Finance or Product. We wonder what would you say regarding that? If we want to show our analytical skills in the project, so it might be presentable in our resume, what other data collecting, cleaning and analyzing would you recommend us trying?"
   ]
  }
 ],
 "metadata": {
  "kernelspec": {
   "display_name": "Python 3",
   "language": "python",
   "name": "python3"
  },
  "language_info": {
   "codemirror_mode": {
    "name": "ipython",
    "version": 3
   },
   "file_extension": ".py",
   "mimetype": "text/x-python",
   "name": "python",
   "nbconvert_exporter": "python",
   "pygments_lexer": "ipython3",
   "version": "3.8.5"
  }
 },
 "nbformat": 4,
 "nbformat_minor": 4
}
