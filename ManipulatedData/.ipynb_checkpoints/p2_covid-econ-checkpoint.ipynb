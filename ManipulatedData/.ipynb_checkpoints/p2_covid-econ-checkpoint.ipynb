{
 "cells": [
  {
   "cell_type": "markdown",
   "metadata": {},
   "source": [
    "- Team: Hangyu Zhou (hz477) , Evian Liu (yl2867) , YingYun Zhang (yz549) , Yang Zhao (yz563)\n",
    "- Github repository link: https://github.coecis.cornell.edu/yl2867/INFO2950_Project.git\n",
    "- Rubric: https://docs.google.com/document/d/1W3mPBOMhM9SD3oym2LG3NLyB78jG-Kmv9egM3B_EObg/edit"
   ]
  },
  {
   "cell_type": "markdown",
   "metadata": {},
   "source": [
    "# Phase II:  #\n",
    "#### Data collection and exploratory data analysis. Due Oct 6. ####\n",
    "- Settle on a single idea and state your research question(s) clearly.\n",
    "- Carry out most of your data collection.\n",
    "- Compute some relevant summary statistics, and show some plots of your data, as applicable to your research question(s). Use this exploratory data analysis to:\n",
    "    - update your research question(s), if applicable;\n",
    "    - update your data description, if applicable (e.g. if you collect additional data)."
   ]
  },
  {
   "cell_type": "markdown",
   "metadata": {},
   "source": [
    "### A dataset of moderate size and complexity. ###\n",
    "- It should be large enough to have interesting complexity, but not so big as to be unwieldy. As a rough guideline, your dataset should be longer than you could print on a single page in standard spreadsheet format, but smaller than 20 MB.\n",
    "- You may use existing datasets, combine data from APIs, or create entirely new data through instruments or surveys.\n",
    "- The dataset you turn in does not have to be the dataset that you initially collected. For example, you might download 50 MB of raw logs, but use filtering and aggregation to reduce the dataset to 100 kB for your actual analysis. We want you to submit your analysis-ready data, but you should describe your full data-collection protocol and any preprocessing done in the data description section of your final report (see below). All source code use for data collection and preprocessing should also be linked to in the source code section of your final report.\n",
    "- If your final, curated dataset is larger than 10MB, share a copy in Cornell Box and include a link to it in your final report."
   ]
  },
  {
   "cell_type": "markdown",
   "metadata": {},
   "source": [
    "## 1. Research question(s) ## \n",
    "State your research question (s) clearly."
   ]
  },
  {
   "cell_type": "markdown",
   "metadata": {},
   "source": [
    "By comparing the metropolitan cities of East and West Coast, observe how crime rate and employment changes of various industries behave in response to COVID pandemic intensity."
   ]
  },
  {
   "cell_type": "markdown",
   "metadata": {},
   "source": [
    "## 2. Data cleaning ## \n",
    "Have an initial draft of your data cleaning appendix.\n",
    "Document every step that takes your raw data file(s) and turns it into the analysis-ready data set that you would submit with your final project. \n",
    "All of your data cleaning code should be found in this section, and you may want to explain the steps of your data cleaning in words as well."
   ]
  },
  {
   "cell_type": "markdown",
   "metadata": {},
   "source": [
    "#### Final Draft Requirement ####\n",
    "\n",
    "- Data cleaning description. Submit an updated version of your data cleaning description from phase II that describes all data cleaning steps performed on your raw data to turn it into the analysis-read dataset submitted with your final project. The data cleaning description should be a separate Jupyter notebook with executed cells, and it should output the dataset you submit as part of your project (e.g. written as a .csv file)."
   ]
  },
  {
   "cell_type": "markdown",
   "metadata": {},
   "source": [
    "### IMPORT DATA ###"
   ]
  },
  {
   "cell_type": "code",
   "execution_count": 1,
   "metadata": {},
   "outputs": [],
   "source": [
    "# import packages\n",
    "import pandas as pd\n",
    "import numpy as np\n",
    "import datetime\n",
    "from matplotlib import pyplot as plt"
   ]
  },
  {
   "cell_type": "code",
   "execution_count": 2,
   "metadata": {},
   "outputs": [
    {
     "data": {
      "text/html": [
       "<div>\n",
       "<style scoped>\n",
       "    .dataframe tbody tr th:only-of-type {\n",
       "        vertical-align: middle;\n",
       "    }\n",
       "\n",
       "    .dataframe tbody tr th {\n",
       "        vertical-align: top;\n",
       "    }\n",
       "\n",
       "    .dataframe thead th {\n",
       "        text-align: right;\n",
       "    }\n",
       "</style>\n",
       "<table border=\"1\" class=\"dataframe\">\n",
       "  <thead>\n",
       "    <tr style=\"text-align: right;\">\n",
       "      <th></th>\n",
       "      <th>Period</th>\n",
       "    </tr>\n",
       "  </thead>\n",
       "  <tbody>\n",
       "    <tr>\n",
       "      <th>0</th>\n",
       "      <td>2020-01-31</td>\n",
       "    </tr>\n",
       "    <tr>\n",
       "      <th>1</th>\n",
       "      <td>2020-02-29</td>\n",
       "    </tr>\n",
       "    <tr>\n",
       "      <th>2</th>\n",
       "      <td>2020-03-31</td>\n",
       "    </tr>\n",
       "    <tr>\n",
       "      <th>3</th>\n",
       "      <td>2020-04-30</td>\n",
       "    </tr>\n",
       "    <tr>\n",
       "      <th>4</th>\n",
       "      <td>2020-05-31</td>\n",
       "    </tr>\n",
       "    <tr>\n",
       "      <th>5</th>\n",
       "      <td>2020-06-30</td>\n",
       "    </tr>\n",
       "    <tr>\n",
       "      <th>6</th>\n",
       "      <td>2020-07-31</td>\n",
       "    </tr>\n",
       "    <tr>\n",
       "      <th>7</th>\n",
       "      <td>2020-08-31</td>\n",
       "    </tr>\n",
       "    <tr>\n",
       "      <th>8</th>\n",
       "      <td>2020-09-30</td>\n",
       "    </tr>\n",
       "  </tbody>\n",
       "</table>\n",
       "</div>"
      ],
      "text/plain": [
       "      Period\n",
       "0 2020-01-31\n",
       "1 2020-02-29\n",
       "2 2020-03-31\n",
       "3 2020-04-30\n",
       "4 2020-05-31\n",
       "5 2020-06-30\n",
       "6 2020-07-31\n",
       "7 2020-08-31\n",
       "8 2020-09-30"
      ]
     },
     "execution_count": 2,
     "metadata": {},
     "output_type": "execute_result"
    }
   ],
   "source": [
    "# initialize final dataset\n",
    "final_data = pd.DataFrame() \n",
    "time_lst = pd.date_range(start='1/1/2020', periods=9, freq='M').tolist()\n",
    "final_data['Period'] = time_lst\n",
    "final_data"
   ]
  },
  {
   "cell_type": "code",
   "execution_count": 3,
   "metadata": {},
   "outputs": [],
   "source": [
    "# Data cleaning helper function\n",
    "def DataCleaning(dataname, colname):\n",
    "    \"\"\"\n",
    "    Requires dataname: a file have only 2 rows, columns from \"Jan\" to \"Dec\"\n",
    "    Returns: an updated version of final_data, with <colname>\n",
    "    \"\"\"\n",
    "    # import data\n",
    "    temp_data = pd.read_csv(dataname)\n",
    "    \n",
    "    # add subset total pplt only to combine data\n",
    "    final_data[colname] = pd.Series(temp_data.loc[1, \"Jan\":\"Aug\"].tolist())"
   ]
  },
  {
   "cell_type": "markdown",
   "metadata": {},
   "source": [
    "### a. Covid ###\n",
    "- imported datasets are manually edited to condense and format for further data cleaning, including:\n",
    "    - date colunm was manually formated to consistent date\n",
    "    - turn rest of columns datatype to numbers"
   ]
  },
  {
   "cell_type": "code",
   "execution_count": 4,
   "metadata": {},
   "outputs": [],
   "source": [
    "# import NY maniputed data\n",
    "covid_ny = pd.read_csv(\"NYC_covid.csv\")"
   ]
  },
  {
   "cell_type": "code",
   "execution_count": 5,
   "metadata": {},
   "outputs": [],
   "source": [
    "# reformate date types\n",
    "covid_ny['DATE_OF_INTEREST'] = covid_ny['DATE_OF_INTEREST'].apply(pd.to_datetime, utc=True)\n",
    "\n",
    "# obtain month and day data to help locate obtaining end-of-month rows\n",
    "covid_ny['months'] = covid_ny['DATE_OF_INTEREST'].dt.strftime('%m')"
   ]
  },
  {
   "cell_type": "code",
   "execution_count": 6,
   "metadata": {},
   "outputs": [],
   "source": [
    "# Obtain cumulative monthly data, and adjust rows for subset data\n",
    "covidNY_sum = covid_ny.groupby('months').sum()   # sum cases for cumulative monthly data\n",
    "\n",
    "new_row = pd.DataFrame({'CASE_COUNT':0, 'HOSPITALIZED_COUNT':0, 'DEATH_COUNT':0}, index =[0])\n",
    "covidNY_sum = pd.concat([new_row, covidNY_sum]).reset_index(drop = True)  # add Jan data\n",
    "covidNY_sum = covidNY_sum.loc[0:8]  # drop October incomplete data"
   ]
  },
  {
   "cell_type": "code",
   "execution_count": 7,
   "metadata": {},
   "outputs": [],
   "source": [
    "# add subset total counts to combine data\n",
    "final_data[\"TotalCasesNY\"] = covidNY_sum['CASE_COUNT']\n",
    "final_data[\"TotalDeathsNY\"] = covidNY_sum['DEATH_COUNT']\n",
    "final_data[\"DeathRateNY\"] = (final_data['TotalDeathsNY'] / final_data['TotalCasesNY']).fillna(0)"
   ]
  },
  {
   "cell_type": "markdown",
   "metadata": {},
   "source": [
    "  "
   ]
  },
  {
   "cell_type": "code",
   "execution_count": 8,
   "metadata": {
    "scrolled": true
   },
   "outputs": [],
   "source": [
    "# import LA maniputed data\n",
    "covid_la = pd.read_csv(\"LA_county_covid.csv\")"
   ]
  },
  {
   "cell_type": "code",
   "execution_count": 9,
   "metadata": {},
   "outputs": [],
   "source": [
    "# reformate date types\n",
    "covid_la['date_use'] = covid_la['date_use'].apply(pd.to_datetime, utc=True)\n",
    "\n",
    "# obtain month and day data to help locate obtaining end-of-month rows\n",
    "covid_la['months'] = covid_la['date_use'].dt.strftime('%m')"
   ]
  },
  {
   "cell_type": "code",
   "execution_count": 10,
   "metadata": {},
   "outputs": [],
   "source": [
    "# Obtain cumulative monthly data, and adjust rows for subset data\n",
    "covidLA_sum = covid_la.groupby('months').sum()   # sum cases for cumulative monthly data\n",
    "covidLA_sum = covidLA_sum[['new_case', 'new_deaths']]  \n",
    "\n",
    "feb_row = pd.DataFrame({'new_case':147, 'new_deaths':0}, index =[0])\n",
    "covidLA_sum = pd.concat([feb_row, covidLA_sum]).reset_index(drop = True)  # add Feb data\n",
    "jan_row = pd.DataFrame({'new_case':0, 'new_deaths':0}, index =[0])\n",
    "covidLA_sum = pd.concat([jan_row, covidLA_sum]).reset_index(drop = True)  # add Jan data\n",
    "covidLA_sum = covidLA_sum.loc[0:9]               # drop October incomplete data"
   ]
  },
  {
   "cell_type": "code",
   "execution_count": 11,
   "metadata": {},
   "outputs": [],
   "source": [
    "# add subset total counts to combine data\n",
    "final_data[\"TotalCasesLA\"] = covidLA_sum['new_case']\n",
    "final_data[\"TotalDeathsLA\"] = covidLA_sum['new_deaths']\n",
    "final_data[\"DeathRateLA\"] = (final_data['TotalDeathsLA'] / final_data['TotalCasesLA']).fillna(0)"
   ]
  },
  {
   "cell_type": "markdown",
   "metadata": {},
   "source": [
    "### b. Jail ###\n",
    "- imported datasets are manually edited to condense and format for further data cleaning, including:\n",
    "    - remove historical data prior to 2019\n",
    "    - remove analysis cells besides data records\n",
    "    - remove unnames columns\n",
    "    - turn datatype to numbers"
   ]
  },
  {
   "cell_type": "code",
   "execution_count": 12,
   "metadata": {},
   "outputs": [],
   "source": [
    "# import NY maniputed data\n",
    "jail_ny = pd.read_csv(\"NYC_jail_pplt.csv\")"
   ]
  },
  {
   "cell_type": "code",
   "execution_count": 13,
   "metadata": {},
   "outputs": [],
   "source": [
    "# add subset total pplt only to combine data\n",
    "final_data[\"JailPpltNY\"] = pd.Series(jail_ny.loc[0, \"20-Jan\":\"20-Aug\"].tolist())\n",
    "#final_data[\"JailMonthChgNY\"] = final_data[\"JailPpltNY\"].pct_change()"
   ]
  },
  {
   "cell_type": "markdown",
   "metadata": {},
   "source": [
    "  "
   ]
  },
  {
   "cell_type": "code",
   "execution_count": 14,
   "metadata": {},
   "outputs": [],
   "source": [
    "# import LA maniputed data\n",
    "jail_la = pd.read_csv(\"LAcounty_jail_pplt.csv\")"
   ]
  },
  {
   "cell_type": "code",
   "execution_count": 15,
   "metadata": {},
   "outputs": [],
   "source": [
    "# add subset total pplt only to combine data\n",
    "final_data[\"JailPpltLA\"] = jail_la.loc[4, \"January,2020\":\"Sept, 2020\"].tolist()\n",
    "#final_data[\"JailMonthChgLA\"] = final_data[\"JailPpltLA\"].pct_change()"
   ]
  },
  {
   "cell_type": "markdown",
   "metadata": {},
   "source": [
    "### c. Unemployment ###\n",
    "- to use helper function, the dataset is manipulated into specified format"
   ]
  },
  {
   "cell_type": "code",
   "execution_count": 16,
   "metadata": {
    "scrolled": true
   },
   "outputs": [],
   "source": [
    "# import and clean NY data by calling helper function\n",
    "DataCleaning(\"NYC_unemployment.csv\", \"UnemplNY\")"
   ]
  },
  {
   "cell_type": "code",
   "execution_count": 17,
   "metadata": {},
   "outputs": [],
   "source": [
    "# import LA data\n",
    "unempl_la = pd.read_csv(\"LA_unemployment.csv\")\n",
    "\n",
    "# add subset total pplt only to combine data\n",
    "final_data[\"UnemplLA\"] = pd.Series(unempl_la.loc[12:19, \"unemployment rate\"].tolist())"
   ]
  },
  {
   "cell_type": "markdown",
   "metadata": {},
   "source": [
    "### d. Weekly working Hours ###\n",
    "- to use helper function, the dataset is manipulated into specified format"
   ]
  },
  {
   "cell_type": "code",
   "execution_count": 18,
   "metadata": {},
   "outputs": [],
   "source": [
    "# import and clean data by calling helper function\n",
    "DataCleaning(\"NYC_weekly_hours.csv\", \"WorkHrNY\")\n",
    "DataCleaning(\"LA_weekly_hours.csv\", \"WorkHrLA\")"
   ]
  },
  {
   "cell_type": "markdown",
   "metadata": {},
   "source": [
    "### e. Computer services employee ###\n",
    "- to use helper function, the dataset is manipulated into specified format"
   ]
  },
  {
   "cell_type": "code",
   "execution_count": 19,
   "metadata": {},
   "outputs": [],
   "source": [
    "# import and clean data by calling helper function\n",
    "DataCleaning(\"NYC_computer.csv\", \"CompEmplNY\")\n",
    "DataCleaning(\"LA_computer.csv\", \"CompEmplLA\")"
   ]
  },
  {
   "cell_type": "markdown",
   "metadata": {},
   "source": [
    "### f. Local government employee ###\n",
    "- to use helper function, the dataset is manipulated into specified format"
   ]
  },
  {
   "cell_type": "code",
   "execution_count": 20,
   "metadata": {},
   "outputs": [],
   "source": [
    "# import and clean data by calling helper function\n",
    "DataCleaning(\"NYC_localgovernment.csv\", \"GovEmplNY\")\n",
    "DataCleaning(\"LA_localgovernment.csv\", \"GovEmplLA\")"
   ]
  },
  {
   "cell_type": "markdown",
   "metadata": {},
   "source": [
    "### g. Hospital employee ###\n",
    "- to use helper function, the dataset is manipulated into specified format"
   ]
  },
  {
   "cell_type": "code",
   "execution_count": 21,
   "metadata": {},
   "outputs": [],
   "source": [
    "# import and clean data by calling helper function\n",
    "DataCleaning(\"NYC_hospitals.csv\", \"HospEmplNY\")\n",
    "DataCleaning(\"LA_hospitals.csv\", \"HospEmplLA\")"
   ]
  },
  {
   "cell_type": "markdown",
   "metadata": {},
   "source": [
    "### h. Financial activities employee ###\n",
    "- to use helper function, the dataset is manipulated into specified format"
   ]
  },
  {
   "cell_type": "code",
   "execution_count": 22,
   "metadata": {},
   "outputs": [],
   "source": [
    "# import and clean data by calling helper function\n",
    "DataCleaning(\"NYC_financialactivities.csv\", \"FinEmplNY\")\n",
    "DataCleaning(\"LA_financialactivities.csv\", \"FinEmplLA\")"
   ]
  },
  {
   "cell_type": "markdown",
   "metadata": {},
   "source": [
    "### i. Educational services employee ###\n",
    "- to use helper function, the dataset is manipulated into specified format"
   ]
  },
  {
   "cell_type": "code",
   "execution_count": 23,
   "metadata": {},
   "outputs": [],
   "source": [
    "# import and clean data by calling helper function\n",
    "DataCleaning(\"NYC_educationalservices.csv\", \"EduEmplNY\")\n",
    "DataCleaning(\"LA_educationalservices.csv\", \"EduEmplLA\")"
   ]
  },
  {
   "cell_type": "markdown",
   "metadata": {},
   "source": [
    "### j. Crime ###\n",
    "- imported datasets are manually edited to condense and format for further data cleaning, including:\n",
    "    - data is shrinked by unused rows and columns to reduce file size\n",
    "    - manipulate datatype to be consistent"
   ]
  },
  {
   "cell_type": "code",
   "execution_count": 24,
   "metadata": {},
   "outputs": [],
   "source": [
    "crime_ny = pd.read_csv(\"NYC_crime.csv\")"
   ]
  },
  {
   "cell_type": "code",
   "execution_count": 25,
   "metadata": {},
   "outputs": [],
   "source": [
    "# reformate date types\n",
    "crime_ny['CMPLNT_FR_DT'] = crime_ny['CMPLNT_FR_DT'].apply(pd.to_datetime, utc=True)\n",
    "\n",
    "# obtain month and day data to help locate obtaining month rows\n",
    "crime_ny['months'] = crime_ny['CMPLNT_FR_DT'].dt.strftime('%m')"
   ]
  },
  {
   "cell_type": "code",
   "execution_count": 26,
   "metadata": {},
   "outputs": [],
   "source": [
    "# obtain monthly counts\n",
    "crimeNY_sum = crime_ny.groupby('months').count()\n",
    "crimeNY_sum = crimeNY_sum['CMPLNT_FR_DT']\n",
    "\n",
    "final_data[\"CrimeNY\"] = pd.Series(crimeNY_sum.tolist())"
   ]
  },
  {
   "cell_type": "markdown",
   "metadata": {},
   "source": [
    "   "
   ]
  },
  {
   "cell_type": "code",
   "execution_count": 27,
   "metadata": {},
   "outputs": [],
   "source": [
    "crime_la = pd.read_csv(\"LA_crime.csv\")"
   ]
  },
  {
   "cell_type": "code",
   "execution_count": 28,
   "metadata": {},
   "outputs": [],
   "source": [
    "# reformate date types\n",
    "crime_la['Date Rptd'] = crime_la['Date Rptd'].apply(pd.to_datetime, utc=True)\n",
    "\n",
    "# obtain month and day data to help locate obtaining month rows\n",
    "crime_la['months'] = crime_la['Date Rptd'].dt.strftime('%m')"
   ]
  },
  {
   "cell_type": "code",
   "execution_count": 29,
   "metadata": {},
   "outputs": [],
   "source": [
    "# obtain monthly counts\n",
    "crimeLA_sum = crime_la.groupby('months').count()\n",
    "final_data[\"CrimeLA\"] = pd.Series(crimeLA_sum['Date Rptd'].tolist())"
   ]
  },
  {
   "cell_type": "markdown",
   "metadata": {},
   "source": [
    "### FINAL DATASET ###"
   ]
  },
  {
   "cell_type": "code",
   "execution_count": 30,
   "metadata": {},
   "outputs": [
    {
     "data": {
      "text/html": [
       "<div>\n",
       "<style scoped>\n",
       "    .dataframe tbody tr th:only-of-type {\n",
       "        vertical-align: middle;\n",
       "    }\n",
       "\n",
       "    .dataframe tbody tr th {\n",
       "        vertical-align: top;\n",
       "    }\n",
       "\n",
       "    .dataframe thead th {\n",
       "        text-align: right;\n",
       "    }\n",
       "</style>\n",
       "<table border=\"1\" class=\"dataframe\">\n",
       "  <thead>\n",
       "    <tr style=\"text-align: right;\">\n",
       "      <th></th>\n",
       "      <th>Period</th>\n",
       "      <th>TotalCasesNY</th>\n",
       "      <th>TotalDeathsNY</th>\n",
       "      <th>DeathRateNY</th>\n",
       "      <th>TotalCasesLA</th>\n",
       "      <th>TotalDeathsLA</th>\n",
       "      <th>DeathRateLA</th>\n",
       "      <th>JailPpltNY</th>\n",
       "      <th>JailPpltLA</th>\n",
       "      <th>UnemplNY</th>\n",
       "      <th>...</th>\n",
       "      <th>GovEmplNY</th>\n",
       "      <th>GovEmplLA</th>\n",
       "      <th>HospEmplNY</th>\n",
       "      <th>HospEmplLA</th>\n",
       "      <th>FinEmplNY</th>\n",
       "      <th>FinEmplLA</th>\n",
       "      <th>EduEmplNY</th>\n",
       "      <th>EduEmplLA</th>\n",
       "      <th>CrimeNY</th>\n",
       "      <th>CrimeLA</th>\n",
       "    </tr>\n",
       "  </thead>\n",
       "  <tbody>\n",
       "    <tr>\n",
       "      <th>0</th>\n",
       "      <td>2020-01-31</td>\n",
       "      <td>0.0</td>\n",
       "      <td>0.0</td>\n",
       "      <td>0.000000</td>\n",
       "      <td>0</td>\n",
       "      <td>0</td>\n",
       "      <td>0.000000</td>\n",
       "      <td>5544.0</td>\n",
       "      <td>6035.0</td>\n",
       "      <td>3.5</td>\n",
       "      <td>...</td>\n",
       "      <td>489.6</td>\n",
       "      <td>578.0</td>\n",
       "      <td>168.4</td>\n",
       "      <td>152.3</td>\n",
       "      <td>475.3</td>\n",
       "      <td>342.8</td>\n",
       "      <td>246.3</td>\n",
       "      <td>173.6</td>\n",
       "      <td>38066.0</td>\n",
       "      <td>15991</td>\n",
       "    </tr>\n",
       "    <tr>\n",
       "      <th>1</th>\n",
       "      <td>2020-02-29</td>\n",
       "      <td>1.0</td>\n",
       "      <td>0.0</td>\n",
       "      <td>0.000000</td>\n",
       "      <td>147</td>\n",
       "      <td>0</td>\n",
       "      <td>0.000000</td>\n",
       "      <td>5356.0</td>\n",
       "      <td>5960.0</td>\n",
       "      <td>3.4</td>\n",
       "      <td>...</td>\n",
       "      <td>499.3</td>\n",
       "      <td>588.6</td>\n",
       "      <td>168.2</td>\n",
       "      <td>152.6</td>\n",
       "      <td>477.7</td>\n",
       "      <td>345.8</td>\n",
       "      <td>260.7</td>\n",
       "      <td>182.1</td>\n",
       "      <td>34961.0</td>\n",
       "      <td>16483</td>\n",
       "    </tr>\n",
       "    <tr>\n",
       "      <th>2</th>\n",
       "      <td>2020-03-31</td>\n",
       "      <td>65213.0</td>\n",
       "      <td>2193.0</td>\n",
       "      <td>0.033628</td>\n",
       "      <td>6473</td>\n",
       "      <td>94</td>\n",
       "      <td>0.014522</td>\n",
       "      <td>5195.0</td>\n",
       "      <td>6015.0</td>\n",
       "      <td>4.1</td>\n",
       "      <td>...</td>\n",
       "      <td>503.8</td>\n",
       "      <td>593.6</td>\n",
       "      <td>167.7</td>\n",
       "      <td>153.5</td>\n",
       "      <td>462.0</td>\n",
       "      <td>346.9</td>\n",
       "      <td>260.2</td>\n",
       "      <td>179.5</td>\n",
       "      <td>31794.0</td>\n",
       "      <td>15540</td>\n",
       "    </tr>\n",
       "    <tr>\n",
       "      <th>3</th>\n",
       "      <td>2020-04-30</td>\n",
       "      <td>109384.0</td>\n",
       "      <td>12742.0</td>\n",
       "      <td>0.116489</td>\n",
       "      <td>22006</td>\n",
       "      <td>1109</td>\n",
       "      <td>0.050395</td>\n",
       "      <td>3973.0</td>\n",
       "      <td>5798.0</td>\n",
       "      <td>15.0</td>\n",
       "      <td>...</td>\n",
       "      <td>486.4</td>\n",
       "      <td>572.5</td>\n",
       "      <td>165.5</td>\n",
       "      <td>155.8</td>\n",
       "      <td>455.6</td>\n",
       "      <td>329.5</td>\n",
       "      <td>226.7</td>\n",
       "      <td>166.8</td>\n",
       "      <td>24280.0</td>\n",
       "      <td>15166</td>\n",
       "    </tr>\n",
       "    <tr>\n",
       "      <th>4</th>\n",
       "      <td>2020-05-31</td>\n",
       "      <td>28481.0</td>\n",
       "      <td>2834.0</td>\n",
       "      <td>0.099505</td>\n",
       "      <td>29891</td>\n",
       "      <td>1229</td>\n",
       "      <td>0.041116</td>\n",
       "      <td>3859.0</td>\n",
       "      <td>5758.0</td>\n",
       "      <td>18.3</td>\n",
       "      <td>...</td>\n",
       "      <td>477.7</td>\n",
       "      <td>558.6</td>\n",
       "      <td>164.1</td>\n",
       "      <td>154.9</td>\n",
       "      <td>453.8</td>\n",
       "      <td>330.1</td>\n",
       "      <td>221.8</td>\n",
       "      <td>162.7</td>\n",
       "      <td>31233.0</td>\n",
       "      <td>16314</td>\n",
       "    </tr>\n",
       "    <tr>\n",
       "      <th>5</th>\n",
       "      <td>2020-06-30</td>\n",
       "      <td>10865.0</td>\n",
       "      <td>767.0</td>\n",
       "      <td>0.070594</td>\n",
       "      <td>52419</td>\n",
       "      <td>985</td>\n",
       "      <td>0.018791</td>\n",
       "      <td>3878.0</td>\n",
       "      <td>5620.0</td>\n",
       "      <td>20.3</td>\n",
       "      <td>...</td>\n",
       "      <td>472.8</td>\n",
       "      <td>555.0</td>\n",
       "      <td>165.3</td>\n",
       "      <td>155.1</td>\n",
       "      <td>453.9</td>\n",
       "      <td>331.4</td>\n",
       "      <td>212.4</td>\n",
       "      <td>157.3</td>\n",
       "      <td>29846.0</td>\n",
       "      <td>16969</td>\n",
       "    </tr>\n",
       "    <tr>\n",
       "      <th>6</th>\n",
       "      <td>2020-07-31</td>\n",
       "      <td>9783.0</td>\n",
       "      <td>356.0</td>\n",
       "      <td>0.036390</td>\n",
       "      <td>79730</td>\n",
       "      <td>1199</td>\n",
       "      <td>0.015038</td>\n",
       "      <td>3843.0</td>\n",
       "      <td>5223.0</td>\n",
       "      <td>19.9</td>\n",
       "      <td>...</td>\n",
       "      <td>419.9</td>\n",
       "      <td>501.9</td>\n",
       "      <td>166.1</td>\n",
       "      <td>154.1</td>\n",
       "      <td>456.1</td>\n",
       "      <td>337.4</td>\n",
       "      <td>208.9</td>\n",
       "      <td>147.9</td>\n",
       "      <td>NaN</td>\n",
       "      <td>16913</td>\n",
       "    </tr>\n",
       "    <tr>\n",
       "      <th>7</th>\n",
       "      <td>2020-08-31</td>\n",
       "      <td>7366.0</td>\n",
       "      <td>150.0</td>\n",
       "      <td>0.020364</td>\n",
       "      <td>41435</td>\n",
       "      <td>1083</td>\n",
       "      <td>0.026137</td>\n",
       "      <td>3972.0</td>\n",
       "      <td>5053.0</td>\n",
       "      <td>16.0</td>\n",
       "      <td>...</td>\n",
       "      <td>448.5</td>\n",
       "      <td>508.8</td>\n",
       "      <td>165.4</td>\n",
       "      <td>153.9</td>\n",
       "      <td>459.5</td>\n",
       "      <td>335.2</td>\n",
       "      <td>208.4</td>\n",
       "      <td>148.4</td>\n",
       "      <td>NaN</td>\n",
       "      <td>16573</td>\n",
       "    </tr>\n",
       "    <tr>\n",
       "      <th>8</th>\n",
       "      <td>2020-09-30</td>\n",
       "      <td>9902.0</td>\n",
       "      <td>124.0</td>\n",
       "      <td>0.012523</td>\n",
       "      <td>26308</td>\n",
       "      <td>563</td>\n",
       "      <td>0.021400</td>\n",
       "      <td>NaN</td>\n",
       "      <td>4916.0</td>\n",
       "      <td>NaN</td>\n",
       "      <td>...</td>\n",
       "      <td>NaN</td>\n",
       "      <td>NaN</td>\n",
       "      <td>NaN</td>\n",
       "      <td>NaN</td>\n",
       "      <td>NaN</td>\n",
       "      <td>NaN</td>\n",
       "      <td>NaN</td>\n",
       "      <td>NaN</td>\n",
       "      <td>NaN</td>\n",
       "      <td>14230</td>\n",
       "    </tr>\n",
       "  </tbody>\n",
       "</table>\n",
       "<p>9 rows × 25 columns</p>\n",
       "</div>"
      ],
      "text/plain": [
       "      Period  TotalCasesNY  TotalDeathsNY  DeathRateNY  TotalCasesLA  \\\n",
       "0 2020-01-31           0.0            0.0     0.000000             0   \n",
       "1 2020-02-29           1.0            0.0     0.000000           147   \n",
       "2 2020-03-31       65213.0         2193.0     0.033628          6473   \n",
       "3 2020-04-30      109384.0        12742.0     0.116489         22006   \n",
       "4 2020-05-31       28481.0         2834.0     0.099505         29891   \n",
       "5 2020-06-30       10865.0          767.0     0.070594         52419   \n",
       "6 2020-07-31        9783.0          356.0     0.036390         79730   \n",
       "7 2020-08-31        7366.0          150.0     0.020364         41435   \n",
       "8 2020-09-30        9902.0          124.0     0.012523         26308   \n",
       "\n",
       "   TotalDeathsLA  DeathRateLA  JailPpltNY  JailPpltLA  UnemplNY  ...  \\\n",
       "0              0     0.000000      5544.0      6035.0       3.5  ...   \n",
       "1              0     0.000000      5356.0      5960.0       3.4  ...   \n",
       "2             94     0.014522      5195.0      6015.0       4.1  ...   \n",
       "3           1109     0.050395      3973.0      5798.0      15.0  ...   \n",
       "4           1229     0.041116      3859.0      5758.0      18.3  ...   \n",
       "5            985     0.018791      3878.0      5620.0      20.3  ...   \n",
       "6           1199     0.015038      3843.0      5223.0      19.9  ...   \n",
       "7           1083     0.026137      3972.0      5053.0      16.0  ...   \n",
       "8            563     0.021400         NaN      4916.0       NaN  ...   \n",
       "\n",
       "   GovEmplNY  GovEmplLA  HospEmplNY  HospEmplLA  FinEmplNY  FinEmplLA  \\\n",
       "0      489.6      578.0       168.4       152.3      475.3      342.8   \n",
       "1      499.3      588.6       168.2       152.6      477.7      345.8   \n",
       "2      503.8      593.6       167.7       153.5      462.0      346.9   \n",
       "3      486.4      572.5       165.5       155.8      455.6      329.5   \n",
       "4      477.7      558.6       164.1       154.9      453.8      330.1   \n",
       "5      472.8      555.0       165.3       155.1      453.9      331.4   \n",
       "6      419.9      501.9       166.1       154.1      456.1      337.4   \n",
       "7      448.5      508.8       165.4       153.9      459.5      335.2   \n",
       "8        NaN        NaN         NaN         NaN        NaN        NaN   \n",
       "\n",
       "   EduEmplNY  EduEmplLA  CrimeNY  CrimeLA  \n",
       "0      246.3      173.6  38066.0    15991  \n",
       "1      260.7      182.1  34961.0    16483  \n",
       "2      260.2      179.5  31794.0    15540  \n",
       "3      226.7      166.8  24280.0    15166  \n",
       "4      221.8      162.7  31233.0    16314  \n",
       "5      212.4      157.3  29846.0    16969  \n",
       "6      208.9      147.9      NaN    16913  \n",
       "7      208.4      148.4      NaN    16573  \n",
       "8        NaN        NaN      NaN    14230  \n",
       "\n",
       "[9 rows x 25 columns]"
      ]
     },
     "execution_count": 30,
     "metadata": {},
     "output_type": "execute_result"
    }
   ],
   "source": [
    "final_data"
   ]
  },
  {
   "cell_type": "markdown",
   "metadata": {},
   "source": [
    "## 3. Data description ## \n",
    "Have an initial draft of your ​data description​ section.\n",
    "Your data description should be about your analysis-ready data.\n"
   ]
  },
  {
   "cell_type": "markdown",
   "metadata": {},
   "source": [
    "#### Final Draft Requirement ####\n",
    "This should be inspired by the format presented in https://arxiv.org/abs/1803.09010. \n",
    "Answer the following questions:\n",
    "- What are the observations (rows) and the attributes (columns)?\n",
    "     \n",
    "- Why was this dataset created?\n",
    "- Who funded the creation of the dataset?\n",
    "- What processes might have influenced what data was observed and recorded and what was not?\n",
    "- What preprocessing was done, and how did the data come to be in the form that you are using?\n",
    "- If people are involved, were they aware of the data collection and if so, what purpose did they expect the data to be used for?\n",
    "- Where can your raw source data be found, if applicable? Provide a link to the raw data (hosted in a C​ ornell Google Drive​ or ​Cornell Box)​ ."
   ]
  },
  {
   "cell_type": "markdown",
   "metadata": {},
   "source": [
    "There are mainly nine rows indicating the first nine months of 2020. There are many columns covering a variety of covariates that will contribute to the analysis between the two cities New York and Los Angeles:\n",
    "- COVID variables: \n",
    "- Criminal variables:\n",
    "    - CrimeNY: number of crime cases in NYC per month\n",
    "    - CrimeLA: number of crime cases in LAC per month\n",
    "- Economic variables：\n",
    "    - GovEmplNY: number of local government employees in thousands in NY per month\n",
    "- Demographic variables："
   ]
  },
  {
   "cell_type": "code",
   "execution_count": 31,
   "metadata": {
    "scrolled": true
   },
   "outputs": [
    {
     "data": {
      "text/html": [
       "<div>\n",
       "<style scoped>\n",
       "    .dataframe tbody tr th:only-of-type {\n",
       "        vertical-align: middle;\n",
       "    }\n",
       "\n",
       "    .dataframe tbody tr th {\n",
       "        vertical-align: top;\n",
       "    }\n",
       "\n",
       "    .dataframe thead th {\n",
       "        text-align: right;\n",
       "    }\n",
       "</style>\n",
       "<table border=\"1\" class=\"dataframe\">\n",
       "  <thead>\n",
       "    <tr style=\"text-align: right;\">\n",
       "      <th></th>\n",
       "      <th>Period</th>\n",
       "      <th>TotalCasesNY</th>\n",
       "      <th>TotalDeathsNY</th>\n",
       "      <th>DeathRateNY</th>\n",
       "      <th>TotalCasesLA</th>\n",
       "      <th>TotalDeathsLA</th>\n",
       "      <th>DeathRateLA</th>\n",
       "      <th>JailPpltNY</th>\n",
       "      <th>JailPpltLA</th>\n",
       "      <th>UnemplNY</th>\n",
       "      <th>...</th>\n",
       "      <th>GovEmplNY</th>\n",
       "      <th>GovEmplLA</th>\n",
       "      <th>HospEmplNY</th>\n",
       "      <th>HospEmplLA</th>\n",
       "      <th>FinEmplNY</th>\n",
       "      <th>FinEmplLA</th>\n",
       "      <th>EduEmplNY</th>\n",
       "      <th>EduEmplLA</th>\n",
       "      <th>CrimeNY</th>\n",
       "      <th>CrimeLA</th>\n",
       "    </tr>\n",
       "  </thead>\n",
       "  <tbody>\n",
       "    <tr>\n",
       "      <th>0</th>\n",
       "      <td>2020-01-31</td>\n",
       "      <td>0.0</td>\n",
       "      <td>0.0</td>\n",
       "      <td>0.000000</td>\n",
       "      <td>0</td>\n",
       "      <td>0</td>\n",
       "      <td>0.000000</td>\n",
       "      <td>5544.0</td>\n",
       "      <td>6035.0</td>\n",
       "      <td>3.5</td>\n",
       "      <td>...</td>\n",
       "      <td>489.6</td>\n",
       "      <td>578.0</td>\n",
       "      <td>168.4</td>\n",
       "      <td>152.3</td>\n",
       "      <td>475.3</td>\n",
       "      <td>342.8</td>\n",
       "      <td>246.3</td>\n",
       "      <td>173.6</td>\n",
       "      <td>38066.0</td>\n",
       "      <td>15991</td>\n",
       "    </tr>\n",
       "    <tr>\n",
       "      <th>1</th>\n",
       "      <td>2020-02-29</td>\n",
       "      <td>1.0</td>\n",
       "      <td>0.0</td>\n",
       "      <td>0.000000</td>\n",
       "      <td>147</td>\n",
       "      <td>0</td>\n",
       "      <td>0.000000</td>\n",
       "      <td>5356.0</td>\n",
       "      <td>5960.0</td>\n",
       "      <td>3.4</td>\n",
       "      <td>...</td>\n",
       "      <td>499.3</td>\n",
       "      <td>588.6</td>\n",
       "      <td>168.2</td>\n",
       "      <td>152.6</td>\n",
       "      <td>477.7</td>\n",
       "      <td>345.8</td>\n",
       "      <td>260.7</td>\n",
       "      <td>182.1</td>\n",
       "      <td>34961.0</td>\n",
       "      <td>16483</td>\n",
       "    </tr>\n",
       "    <tr>\n",
       "      <th>2</th>\n",
       "      <td>2020-03-31</td>\n",
       "      <td>65213.0</td>\n",
       "      <td>2193.0</td>\n",
       "      <td>0.033628</td>\n",
       "      <td>6473</td>\n",
       "      <td>94</td>\n",
       "      <td>0.014522</td>\n",
       "      <td>5195.0</td>\n",
       "      <td>6015.0</td>\n",
       "      <td>4.1</td>\n",
       "      <td>...</td>\n",
       "      <td>503.8</td>\n",
       "      <td>593.6</td>\n",
       "      <td>167.7</td>\n",
       "      <td>153.5</td>\n",
       "      <td>462.0</td>\n",
       "      <td>346.9</td>\n",
       "      <td>260.2</td>\n",
       "      <td>179.5</td>\n",
       "      <td>31794.0</td>\n",
       "      <td>15540</td>\n",
       "    </tr>\n",
       "    <tr>\n",
       "      <th>3</th>\n",
       "      <td>2020-04-30</td>\n",
       "      <td>109384.0</td>\n",
       "      <td>12742.0</td>\n",
       "      <td>0.116489</td>\n",
       "      <td>22006</td>\n",
       "      <td>1109</td>\n",
       "      <td>0.050395</td>\n",
       "      <td>3973.0</td>\n",
       "      <td>5798.0</td>\n",
       "      <td>15.0</td>\n",
       "      <td>...</td>\n",
       "      <td>486.4</td>\n",
       "      <td>572.5</td>\n",
       "      <td>165.5</td>\n",
       "      <td>155.8</td>\n",
       "      <td>455.6</td>\n",
       "      <td>329.5</td>\n",
       "      <td>226.7</td>\n",
       "      <td>166.8</td>\n",
       "      <td>24280.0</td>\n",
       "      <td>15166</td>\n",
       "    </tr>\n",
       "    <tr>\n",
       "      <th>4</th>\n",
       "      <td>2020-05-31</td>\n",
       "      <td>28481.0</td>\n",
       "      <td>2834.0</td>\n",
       "      <td>0.099505</td>\n",
       "      <td>29891</td>\n",
       "      <td>1229</td>\n",
       "      <td>0.041116</td>\n",
       "      <td>3859.0</td>\n",
       "      <td>5758.0</td>\n",
       "      <td>18.3</td>\n",
       "      <td>...</td>\n",
       "      <td>477.7</td>\n",
       "      <td>558.6</td>\n",
       "      <td>164.1</td>\n",
       "      <td>154.9</td>\n",
       "      <td>453.8</td>\n",
       "      <td>330.1</td>\n",
       "      <td>221.8</td>\n",
       "      <td>162.7</td>\n",
       "      <td>31233.0</td>\n",
       "      <td>16314</td>\n",
       "    </tr>\n",
       "  </tbody>\n",
       "</table>\n",
       "<p>5 rows × 25 columns</p>\n",
       "</div>"
      ],
      "text/plain": [
       "      Period  TotalCasesNY  TotalDeathsNY  DeathRateNY  TotalCasesLA  \\\n",
       "0 2020-01-31           0.0            0.0     0.000000             0   \n",
       "1 2020-02-29           1.0            0.0     0.000000           147   \n",
       "2 2020-03-31       65213.0         2193.0     0.033628          6473   \n",
       "3 2020-04-30      109384.0        12742.0     0.116489         22006   \n",
       "4 2020-05-31       28481.0         2834.0     0.099505         29891   \n",
       "\n",
       "   TotalDeathsLA  DeathRateLA  JailPpltNY  JailPpltLA  UnemplNY  ...  \\\n",
       "0              0     0.000000      5544.0      6035.0       3.5  ...   \n",
       "1              0     0.000000      5356.0      5960.0       3.4  ...   \n",
       "2             94     0.014522      5195.0      6015.0       4.1  ...   \n",
       "3           1109     0.050395      3973.0      5798.0      15.0  ...   \n",
       "4           1229     0.041116      3859.0      5758.0      18.3  ...   \n",
       "\n",
       "   GovEmplNY  GovEmplLA  HospEmplNY  HospEmplLA  FinEmplNY  FinEmplLA  \\\n",
       "0      489.6      578.0       168.4       152.3      475.3      342.8   \n",
       "1      499.3      588.6       168.2       152.6      477.7      345.8   \n",
       "2      503.8      593.6       167.7       153.5      462.0      346.9   \n",
       "3      486.4      572.5       165.5       155.8      455.6      329.5   \n",
       "4      477.7      558.6       164.1       154.9      453.8      330.1   \n",
       "\n",
       "   EduEmplNY  EduEmplLA  CrimeNY  CrimeLA  \n",
       "0      246.3      173.6  38066.0    15991  \n",
       "1      260.7      182.1  34961.0    16483  \n",
       "2      260.2      179.5  31794.0    15540  \n",
       "3      226.7      166.8  24280.0    15166  \n",
       "4      221.8      162.7  31233.0    16314  \n",
       "\n",
       "[5 rows x 25 columns]"
      ]
     },
     "execution_count": 31,
     "metadata": {},
     "output_type": "execute_result"
    }
   ],
   "source": [
    "final_data.head()"
   ]
  },
  {
   "cell_type": "code",
   "execution_count": 32,
   "metadata": {},
   "outputs": [
    {
     "data": {
      "text/html": [
       "<div>\n",
       "<style scoped>\n",
       "    .dataframe tbody tr th:only-of-type {\n",
       "        vertical-align: middle;\n",
       "    }\n",
       "\n",
       "    .dataframe tbody tr th {\n",
       "        vertical-align: top;\n",
       "    }\n",
       "\n",
       "    .dataframe thead th {\n",
       "        text-align: right;\n",
       "    }\n",
       "</style>\n",
       "<table border=\"1\" class=\"dataframe\">\n",
       "  <thead>\n",
       "    <tr style=\"text-align: right;\">\n",
       "      <th></th>\n",
       "      <th>Period</th>\n",
       "      <th>UnemplNY</th>\n",
       "      <th>UnemplLA</th>\n",
       "      <th>WorkHrNY</th>\n",
       "      <th>WorkHrLA</th>\n",
       "      <th>TotalCasesNY</th>\n",
       "      <th>TotalCasesLA</th>\n",
       "    </tr>\n",
       "  </thead>\n",
       "  <tbody>\n",
       "    <tr>\n",
       "      <th>0</th>\n",
       "      <td>2020-01-31</td>\n",
       "      <td>3.5</td>\n",
       "      <td>4.1</td>\n",
       "      <td>33.3</td>\n",
       "      <td>34.6</td>\n",
       "      <td>0.0</td>\n",
       "      <td>0</td>\n",
       "    </tr>\n",
       "    <tr>\n",
       "      <th>1</th>\n",
       "      <td>2020-02-29</td>\n",
       "      <td>3.4</td>\n",
       "      <td>4.1</td>\n",
       "      <td>33.9</td>\n",
       "      <td>35.4</td>\n",
       "      <td>1.0</td>\n",
       "      <td>147</td>\n",
       "    </tr>\n",
       "    <tr>\n",
       "      <th>2</th>\n",
       "      <td>2020-03-31</td>\n",
       "      <td>4.1</td>\n",
       "      <td>5.9</td>\n",
       "      <td>33.6</td>\n",
       "      <td>35.0</td>\n",
       "      <td>65213.0</td>\n",
       "      <td>6473</td>\n",
       "    </tr>\n",
       "    <tr>\n",
       "      <th>3</th>\n",
       "      <td>2020-04-30</td>\n",
       "      <td>15.0</td>\n",
       "      <td>18.8</td>\n",
       "      <td>32.8</td>\n",
       "      <td>33.9</td>\n",
       "      <td>109384.0</td>\n",
       "      <td>22006</td>\n",
       "    </tr>\n",
       "    <tr>\n",
       "      <th>4</th>\n",
       "      <td>2020-05-31</td>\n",
       "      <td>18.3</td>\n",
       "      <td>19.3</td>\n",
       "      <td>33.1</td>\n",
       "      <td>34.6</td>\n",
       "      <td>28481.0</td>\n",
       "      <td>29891</td>\n",
       "    </tr>\n",
       "    <tr>\n",
       "      <th>5</th>\n",
       "      <td>2020-06-30</td>\n",
       "      <td>20.3</td>\n",
       "      <td>18.1</td>\n",
       "      <td>33.2</td>\n",
       "      <td>34.5</td>\n",
       "      <td>10865.0</td>\n",
       "      <td>52419</td>\n",
       "    </tr>\n",
       "    <tr>\n",
       "      <th>6</th>\n",
       "      <td>2020-07-31</td>\n",
       "      <td>19.9</td>\n",
       "      <td>17.0</td>\n",
       "      <td>33.5</td>\n",
       "      <td>34.5</td>\n",
       "      <td>9783.0</td>\n",
       "      <td>79730</td>\n",
       "    </tr>\n",
       "    <tr>\n",
       "      <th>7</th>\n",
       "      <td>2020-08-31</td>\n",
       "      <td>16.0</td>\n",
       "      <td>15.0</td>\n",
       "      <td>34.3</td>\n",
       "      <td>35.8</td>\n",
       "      <td>7366.0</td>\n",
       "      <td>41435</td>\n",
       "    </tr>\n",
       "  </tbody>\n",
       "</table>\n",
       "</div>"
      ],
      "text/plain": [
       "      Period  UnemplNY  UnemplLA  WorkHrNY  WorkHrLA  TotalCasesNY  \\\n",
       "0 2020-01-31       3.5       4.1      33.3      34.6           0.0   \n",
       "1 2020-02-29       3.4       4.1      33.9      35.4           1.0   \n",
       "2 2020-03-31       4.1       5.9      33.6      35.0       65213.0   \n",
       "3 2020-04-30      15.0      18.8      32.8      33.9      109384.0   \n",
       "4 2020-05-31      18.3      19.3      33.1      34.6       28481.0   \n",
       "5 2020-06-30      20.3      18.1      33.2      34.5       10865.0   \n",
       "6 2020-07-31      19.9      17.0      33.5      34.5        9783.0   \n",
       "7 2020-08-31      16.0      15.0      34.3      35.8        7366.0   \n",
       "\n",
       "   TotalCasesLA  \n",
       "0             0  \n",
       "1           147  \n",
       "2          6473  \n",
       "3         22006  \n",
       "4         29891  \n",
       "5         52419  \n",
       "6         79730  \n",
       "7         41435  "
      ]
     },
     "execution_count": 32,
     "metadata": {},
     "output_type": "execute_result"
    }
   ],
   "source": [
    "work_data = final_data[['Period','UnemplNY','UnemplLA','WorkHrNY','WorkHrLA','TotalCasesNY','TotalCasesLA']].copy()\n",
    "work_data = work_data.dropna()\n",
    "work_data"
   ]
  },
  {
   "cell_type": "code",
   "execution_count": 33,
   "metadata": {},
   "outputs": [
    {
     "name": "stdout",
     "output_type": "stream",
     "text": [
      "Mean of working hour in NY is: 33.46\n",
      "Standard Deviation of working hour in NY is: 0.47\n",
      "Mean of working hour in LA is: 34.79\n",
      "Standard Deviation of working hour in LA is: 0.59\n",
      "Mean of working hour in LA is higher than NY: True\n",
      "Standard Deviation of working hour in LA is higher than NY: True\n"
     ]
    }
   ],
   "source": [
    "mean_WorkHrNY = work_data.WorkHrNY.mean()\n",
    "std_WorkHrNY = work_data.WorkHrNY.std()\n",
    "print('Mean of working hour in NY is: {:.2f}'.format(mean_WorkHrNY))\n",
    "print('Standard Deviation of working hour in NY is: {:.2f}'.format(std_WorkHrNY))\n",
    "\n",
    "mean_WorkHrLA = work_data.WorkHrLA.mean()\n",
    "std_WorkHrLA = work_data.WorkHrLA.std()\n",
    "print('Mean of working hour in LA is: {:.2f}'.format(mean_WorkHrLA))\n",
    "print('Standard Deviation of working hour in LA is: {:.2f}'.format(std_WorkHrLA))\n",
    "\n",
    "print('Mean of working hour in LA is higher than NY: {:}'.format(mean_WorkHrNY < mean_WorkHrLA))\n",
    "print('Standard Deviation of working hour in LA is higher than NY: {:}'.format(std_WorkHrLA > std_WorkHrNY))"
   ]
  },
  {
   "cell_type": "code",
   "execution_count": 34,
   "metadata": {},
   "outputs": [
    {
     "data": {
      "image/png": "[encoded data removed]",
      "text/plain": [
       "<Figure size 432x288 with 1 Axes>"
      ]
     },
     "metadata": {
      "needs_background": "light"
     },
     "output_type": "display_data"
    }
   ],
   "source": [
    "work_data[['WorkHrNY','WorkHrLA']].plot.bar()\n",
    "plt.title(\"Relationship between Work Hour in NY and LA\")\n",
    "plt.xlabel('Time')\n",
    "plt.ylabel('Hour')\n",
    "plt.show()"
   ]
  },
  {
   "cell_type": "code",
   "execution_count": 35,
   "metadata": {},
   "outputs": [
    {
     "name": "stdout",
     "output_type": "stream",
     "text": [
      "Pearson correlation between work hour in NY and LA is 0.96\n",
      "The result shows a positive correlation between work hour in NY and LA from January to August 2020\n"
     ]
    }
   ],
   "source": [
    "corr_WorkHr = work_data['WorkHrNY'].corr(work_data['WorkHrLA'])\n",
    "print('Pearson correlation between work hour in NY and LA is {:.2f}'.\n",
    "      format(corr_WorkHr))\n",
    "print('The result shows a positive correlation between work hour in NY and LA from January to August 2020')"
   ]
  },
  {
   "cell_type": "code",
   "execution_count": 36,
   "metadata": {},
   "outputs": [
    {
     "name": "stdout",
     "output_type": "stream",
     "text": [
      "Mean of unemployment rate in NY is: 12.56%\n",
      "Standard Deviation of unemployment in NY is: 7.58\n",
      "Mean of unemployment rate in LA is: 12.79%\n",
      "Standard Deviation of unemployment in LA is: 6.84\n",
      "Mean of unemployment rate in LA is higher than NY: True\n",
      "Standard Deviation of unemployment in NY is higher than LA: True\n"
     ]
    }
   ],
   "source": [
    "mean_UnemplNY = work_data.UnemplNY.mean()\n",
    "std_UnemplNY = work_data.UnemplNY.std()\n",
    "print('Mean of unemployment rate in NY is: {:.2f}'.format(mean_UnemplNY)+'%')\n",
    "print('Standard Deviation of unemployment in NY is: {:.2f}'.format(std_UnemplNY))\n",
    "\n",
    "mean_UnemplLA = work_data.UnemplLA.mean()\n",
    "std_UnemplLA = work_data.UnemplLA.std()\n",
    "print('Mean of unemployment rate in LA is: {:.2f}'.format(mean_UnemplLA)+'%')\n",
    "print('Standard Deviation of unemployment in LA is: {:.2f}'.format(std_UnemplLA))\n",
    "\n",
    "print('Mean of unemployment rate in LA is higher than NY: {:}'.format(mean_UnemplNY < mean_UnemplLA))\n",
    "print('Standard Deviation of unemployment in NY is higher than LA: {:}'.format(std_UnemplNY > std_UnemplLA))"
   ]
  },
  {
   "cell_type": "code",
   "execution_count": 37,
   "metadata": {},
   "outputs": [
    {
     "data": {
      "image/png": "[encoded data removed]",
      "text/plain": [
       "<Figure size 432x288 with 1 Axes>"
      ]
     },
     "metadata": {
      "needs_background": "light"
     },
     "output_type": "display_data"
    }
   ],
   "source": [
    "work_data[['UnemplNY','UnemplLA']].plot.bar()\n",
    "plt.title(\"Relationship between Unemployment rate in NY and LA\")\n",
    "plt.xlabel('Time')\n",
    "plt.ylabel('Unemployment rate (%)')\n",
    "plt.show()"
   ]
  },
  {
   "cell_type": "code",
   "execution_count": 38,
   "metadata": {},
   "outputs": [
    {
     "name": "stdout",
     "output_type": "stream",
     "text": [
      "Pearson correlation between unemployment in NY and LA is 0.96\n",
      "The result shows a positive correlation between unemployment rate in NY and LA from January to August 2020. The unemployment rate began surging in March and maintained at a relatively high level. It shows a decreasing trend beginning with June.\n"
     ]
    }
   ],
   "source": [
    "corr_Unempl = work_data[\"UnemplNY\"].corr(work_data[\"UnemplLA\"])\n",
    "print('Pearson correlation between unemployment in NY and LA is {:.2f}'.\n",
    "      format(corr_Unempl))\n",
    "print('The result shows a positive correlation between unemployment rate in NY and LA from January to August 2020. The unemployment rate began surging in March and maintained at a relatively high level. It shows a decreasing trend beginning with June.')"
   ]
  },
  {
   "cell_type": "code",
   "execution_count": 39,
   "metadata": {},
   "outputs": [
    {
     "data": {
      "image/png": "[encoded data removed]",
      "text/plain": [
       "<Figure size 432x288 with 1 Axes>"
      ]
     },
     "metadata": {
      "needs_background": "light"
     },
     "output_type": "display_data"
    }
   ],
   "source": [
    "work_data[['TotalCasesNY','TotalCasesLA']].plot.bar()\n",
    "plt.title(\"Relationship between the total COVID cases in NY and LA\")\n",
    "plt.xlabel('Time')\n",
    "plt.ylabel('Number of total cases')\n",
    "plt.show()"
   ]
  },
  {
   "cell_type": "code",
   "execution_count": 40,
   "metadata": {},
   "outputs": [
    {
     "name": "stdout",
     "output_type": "stream",
     "text": [
      "Pearson correlation between case in NY and LA is -0.18\n",
      "The result shows a negative correlation between the total case number in NY and in LA, the peak in cases took place in April, while in LA the peak was in July.\n"
     ]
    }
   ],
   "source": [
    "corr_case = work_data[\"TotalCasesNY\"].corr(work_data[\"TotalCasesLA\"])\n",
    "print('Pearson correlation between case in NY and LA is {:.2f}'.\n",
    "      format(corr_case))\n",
    "print('The result shows a negative correlation between the total case number in NY and in LA, the peak in cases took place in April, while in LA the peak was in July.')"
   ]
  },
  {
   "cell_type": "code",
   "execution_count": 47,
   "metadata": {},
   "outputs": [
    {
     "data": {
      "image/png": "[encoded data removed]",
      "text/plain": [
       "<Figure size 432x288 with 2 Axes>"
      ]
     },
     "metadata": {
      "needs_background": "light"
     },
     "output_type": "display_data"
    }
   ],
   "source": [
    "\n",
    "data1 = work_data['TotalCasesNY']\n",
    "data2 = work_data['UnemplNY']\n",
    "\n",
    "fig, ax1 = plt.subplots()\n",
    "\n",
    "color = 'tab:red'\n",
    "ax1.set_xlabel('Time')\n",
    "ax1.set_ylabel('Total case in NY', color=color)\n",
    "ax1.plot(data1, color=color)\n",
    "ax1.tick_params(axis='y', labelcolor=color)\n",
    "\n",
    "ax2 = ax1.twinx() \n",
    "\n",
    "color = 'tab:blue'\n",
    "ax2.set_ylabel('Unemployment rate in NY (%)', color=color) \n",
    "ax2.plot(data2, color=color)\n",
    "ax2.tick_params(axis='y', labelcolor=color)\n",
    "\n",
    "fig.tight_layout()\n",
    "plt.show()"
   ]
  },
  {
   "cell_type": "code",
   "execution_count": 42,
   "metadata": {},
   "outputs": [
    {
     "name": "stdout",
     "output_type": "stream",
     "text": [
      "Pearson correlation between case in NY and unemployment rate is 0.03\n",
      "As shown in the graph and the minor value of correlation, there is insignificant correlation between the total number of cases in NY and the unemployment rate. The cumulative cases in NY peaked in April, while the unemployment rate reached the highest level in around June.\n"
     ]
    }
   ],
   "source": [
    "corr_caseunemNY = work_data[\"TotalCasesNY\"].corr(work_data[\"UnemplNY\"])\n",
    "print('Pearson correlation between case in NY and unemployment rate is {:.2f}'.\n",
    "      format(corr_caseunemNY))\n",
    "print('As shown in the graph and the minor value of correlation, there is insignificant correlation between the total number of cases in NY and the unemployment rate. The cumulative cases in NY peaked in April, while the unemployment rate reached the highest level in around June.')"
   ]
  },
  {
   "cell_type": "code",
   "execution_count": 43,
   "metadata": {},
   "outputs": [
    {
     "data": {
      "image/png": "[encoded data removed]",
      "text/plain": [
       "<Figure size 432x288 with 2 Axes>"
      ]
     },
     "metadata": {
      "needs_background": "light"
     },
     "output_type": "display_data"
    }
   ],
   "source": [
    "data1 = work_data['TotalCasesLA']\n",
    "data2 = work_data['UnemplLA']\n",
    "\n",
    "fig, ax1 = plt.subplots()\n",
    "\n",
    "color = 'tab:red'\n",
    "ax1.set_xlabel('Time')\n",
    "ax1.set_ylabel('Total case in LA', color=color)\n",
    "ax1.plot(data1, color=color)\n",
    "ax1.tick_params(axis='y', labelcolor=color)\n",
    "\n",
    "ax2 = ax1.twinx() \n",
    "\n",
    "color = 'tab:blue'\n",
    "ax2.set_ylabel('Unemployment rate in LA (%)', color=color) \n",
    "ax2.plot(data2, color=color)\n",
    "ax2.tick_params(axis='y', labelcolor=color)\n",
    "\n",
    "fig.tight_layout()\n",
    "plt.show()"
   ]
  },
  {
   "cell_type": "code",
   "execution_count": 44,
   "metadata": {},
   "outputs": [
    {
     "name": "stdout",
     "output_type": "stream",
     "text": [
      "Pearson correlation between case in LA and unemployment rate is 0.73\n",
      "As shown in the graph and the minor value of correlation, there is a relatively high correlation between the total number of cases in LA and the unemployment rate, when the number of cumulative cases increase, the unemployment rate is likely to increase.\n"
     ]
    }
   ],
   "source": [
    "corr_caseunemLA = work_data[\"TotalCasesLA\"].corr(work_data[\"UnemplLA\"])\n",
    "print('Pearson correlation between case in LA and unemployment rate is {:.2f}'.\n",
    "      format(corr_caseunemLA))\n",
    "print('As shown in the graph and the minor value of correlation, there is a relatively high correlation between the total number of cases in LA and the unemployment rate, when the number of cumulative cases increase, the unemployment rate is likely to increase.')"
   ]
  },
  {
   "cell_type": "code",
   "execution_count": null,
   "metadata": {},
   "outputs": [],
   "source": []
  },
  {
   "cell_type": "markdown",
   "metadata": {},
   "source": [
    "## 4. Data limitations ## \n",
    "Identify any potential problems with your dataset."
   ]
  },
  {
   "cell_type": "markdown",
   "metadata": {},
   "source": [
    "#### Final Draft Requirement ####\n",
    "\n",
    "- What are the limitations of your study? What are the biases in your data or assumptions of your analyses that specifically affect the conclusions you’re able to draw?"
   ]
  },
  {
   "cell_type": "markdown",
   "metadata": {},
   "source": [
    "1. Assumes the reliability/authenticity of data sources\n",
    "2. assume zero covid cases before dataentry due to lack of data"
   ]
  },
  {
   "cell_type": "markdown",
   "metadata": {},
   "source": [
    "1. Missing the latest data in some variables and the data period of some variables did not completely overlap with COVID, thus resulting in some empty values.\n",
    "2. As we found difficulty in researching some data from the city level, we are replacing them with state level data to assist our analysis. However, the state level data might be more generalized.\n",
    "3. There also might be some inconsistencies with the dataset as for example, the LA COVID data covers the LA county, excluding the Long Beach and Anaheim regions, while these two regions might be included in the other LA datasets. "
   ]
  },
  {
   "cell_type": "code",
   "execution_count": null,
   "metadata": {},
   "outputs": [],
   "source": []
  },
  {
   "cell_type": "markdown",
   "metadata": {},
   "source": [
    "## 5. Exploratory data analysis ## \n",
    "Perform an (initial) exploratory data analysis."
   ]
  },
  {
   "cell_type": "markdown",
   "metadata": {},
   "source": [
    "#### Final Draft Requirement ####\n",
    "\n",
    "- Use summary functions like mean and standard deviation along with visual displays like scatterplots and histograms to describe data.\n",
    "- Provide at least one model showing patterns or relationships between variables that addresses your research question. This could be a regression or clustering, or something else that measures some property of the dataset."
   ]
  },
  {
   "cell_type": "code",
   "execution_count": null,
   "metadata": {},
   "outputs": [],
   "source": []
  },
  {
   "cell_type": "code",
   "execution_count": null,
   "metadata": {},
   "outputs": [],
   "source": []
  },
  {
   "cell_type": "code",
   "execution_count": null,
   "metadata": {},
   "outputs": [],
   "source": []
  },
  {
   "cell_type": "markdown",
   "metadata": {},
   "source": [
    "## 6. Questions for reviewers ## \n",
    "List specific questions for your peer reviewers and project mentor to answer in giving you feedback on this phase."
   ]
  },
  {
   "cell_type": "code",
   "execution_count": null,
   "metadata": {},
   "outputs": [],
   "source": []
  },
  {
   "cell_type": "code",
   "execution_count": null,
   "metadata": {},
   "outputs": [],
   "source": []
  },
  {
   "cell_type": "code",
   "execution_count": null,
   "metadata": {},
   "outputs": [],
   "source": []
  }
 ],
 "metadata": {
  "kernelspec": {
   "display_name": "Python 3",
   "language": "python",
   "name": "python3"
  },
  "language_info": {
   "codemirror_mode": {
    "name": "ipython",
    "version": 3
   },
   "file_extension": ".py",
   "mimetype": "text/x-python",
   "name": "python",
   "nbconvert_exporter": "python",
   "pygments_lexer": "ipython3",
   "version": "3.8.5"
  }
 },
 "nbformat": 4,
 "nbformat_minor": 4
}
