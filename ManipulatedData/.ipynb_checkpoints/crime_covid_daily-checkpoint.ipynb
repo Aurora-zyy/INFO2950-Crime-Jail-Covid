{
 "cells": [
  {
   "cell_type": "code",
   "execution_count": 1,
   "metadata": {},
   "outputs": [],
   "source": [
    "# import packages\n",
    "import pandas as pd\n",
    "import numpy as np\n",
    "import datetime\n",
    "from matplotlib import pyplot as plt"
   ]
  },
  {
   "cell_type": "code",
   "execution_count": 2,
   "metadata": {},
   "outputs": [
    {
     "data": {
      "text/html": [
       "<div>\n",
       "<style scoped>\n",
       "    .dataframe tbody tr th:only-of-type {\n",
       "        vertical-align: middle;\n",
       "    }\n",
       "\n",
       "    .dataframe tbody tr th {\n",
       "        vertical-align: top;\n",
       "    }\n",
       "\n",
       "    .dataframe thead th {\n",
       "        text-align: right;\n",
       "    }\n",
       "</style>\n",
       "<table border=\"1\" class=\"dataframe\">\n",
       "  <thead>\n",
       "    <tr style=\"text-align: right;\">\n",
       "      <th></th>\n",
       "      <th>Period</th>\n",
       "    </tr>\n",
       "  </thead>\n",
       "  <tbody>\n",
       "    <tr>\n",
       "      <th>0</th>\n",
       "      <td>2020-03-01</td>\n",
       "    </tr>\n",
       "    <tr>\n",
       "      <th>1</th>\n",
       "      <td>2020-03-02</td>\n",
       "    </tr>\n",
       "    <tr>\n",
       "      <th>2</th>\n",
       "      <td>2020-03-03</td>\n",
       "    </tr>\n",
       "    <tr>\n",
       "      <th>3</th>\n",
       "      <td>2020-03-04</td>\n",
       "    </tr>\n",
       "    <tr>\n",
       "      <th>4</th>\n",
       "      <td>2020-03-05</td>\n",
       "    </tr>\n",
       "    <tr>\n",
       "      <th>...</th>\n",
       "      <td>...</td>\n",
       "    </tr>\n",
       "    <tr>\n",
       "      <th>207</th>\n",
       "      <td>2020-09-24</td>\n",
       "    </tr>\n",
       "    <tr>\n",
       "      <th>208</th>\n",
       "      <td>2020-09-25</td>\n",
       "    </tr>\n",
       "    <tr>\n",
       "      <th>209</th>\n",
       "      <td>2020-09-26</td>\n",
       "    </tr>\n",
       "    <tr>\n",
       "      <th>210</th>\n",
       "      <td>2020-09-27</td>\n",
       "    </tr>\n",
       "    <tr>\n",
       "      <th>211</th>\n",
       "      <td>2020-09-28</td>\n",
       "    </tr>\n",
       "  </tbody>\n",
       "</table>\n",
       "<p>212 rows × 1 columns</p>\n",
       "</div>"
      ],
      "text/plain": [
       "        Period\n",
       "0   2020-03-01\n",
       "1   2020-03-02\n",
       "2   2020-03-03\n",
       "3   2020-03-04\n",
       "4   2020-03-05\n",
       "..         ...\n",
       "207 2020-09-24\n",
       "208 2020-09-25\n",
       "209 2020-09-26\n",
       "210 2020-09-27\n",
       "211 2020-09-28\n",
       "\n",
       "[212 rows x 1 columns]"
      ]
     },
     "execution_count": 2,
     "metadata": {},
     "output_type": "execute_result"
    }
   ],
   "source": [
    "# initialize final dataset\n",
    "crime_covid = pd.DataFrame() \n",
    "time_lst = pd.date_range(start='3/1/2020', end=\"9/28/2020\", freq='D').tolist()\n",
    "crime_covid['Period'] = time_lst\n",
    "crime_covid"
   ]
  },
  {
   "cell_type": "code",
   "execution_count": 3,
   "metadata": {},
   "outputs": [],
   "source": [
    "crime_ny = pd.read_csv(\"NYC_crime.csv\")\n",
    "# reformate date types\n",
    "crime_ny['CMPLNT_FR_DT'] = crime_ny['CMPLNT_FR_DT'].apply(pd.to_datetime, utc=True)\n",
    "\n",
    "# obtain month and day data to help locate obtaining month rows\n",
    "crime_ny['days'] = crime_ny['CMPLNT_FR_DT'].dt.strftime('%m%d')\n",
    "crime_ny.head()\n",
    "# obtain monthly counts\n",
    "crimeNY_sum = crime_ny.groupby('days').count()\n",
    "crimeNY_sum = crimeNY_sum['CMPLNT_FR_DT']\n",
    "\n",
    "crime_covid[\"CrimeNY\"] = pd.Series(crimeNY_sum.tolist())"
   ]
  },
  {
   "cell_type": "code",
   "execution_count": 4,
   "metadata": {},
   "outputs": [],
   "source": [
    "crime_la = pd.read_csv(\"LA_crime.csv\")\n",
    "# reformate date types\n",
    "crime_la['Date Rptd'] = crime_la['Date Rptd'].apply(pd.to_datetime, utc=True)\n",
    "\n",
    "# obtain month and day data to help locate obtaining month rows\n",
    "crime_la['days'] = crime_la['Date Rptd'].dt.strftime('%m%d')\n",
    "\n",
    "# obtain monthly counts\n",
    "crimeLA_sum = crime_la.groupby('days').count()\n",
    "crime_covid[\"CrimeLA\"] = pd.Series(crimeLA_sum['Date Rptd'].tolist())"
   ]
  },
  {
   "cell_type": "code",
   "execution_count": 6,
   "metadata": {},
   "outputs": [],
   "source": [
    "# import data\n",
    "ny_covid = pd.read_csv(\"NYC_covid.csv\")\n",
    "# data cleaning & add additional columns\n",
    "ny_covid['date_of_interest'] = ny_covid['date_of_interest'].apply(pd.to_datetime, utc=True)\n",
    "crime_covid[\"CaseNY\"] = pd.Series(ny_covid['CASE_COUNT'].tolist())\n",
    "crime_covid[\"DeathNY\"] = pd.Series(ny_covid['DEATH_COUNT'].tolist())"
   ]
  },
  {
   "cell_type": "code",
   "execution_count": null,
   "metadata": {},
   "outputs": [],
   "source": [
    "# import data\n",
    "la_covid = pd.read_csv(\"LA_county_covid.csv\")\n",
    "# data cleaning & add additional columns\n",
    "la_covid['date_of_interest'] = la_covid['date_use'].apply(pd.to_datetime, utc=True)\n",
    "crime_covid[\"CaseLA\"] = pd.Series(la_covid['new_case'].tolist())\n",
    "crime_covid[\"DeathLA\"] = pd.Series(la_covid['new_deaths'].tolist())"
   ]
  },
  {
   "cell_type": "code",
   "execution_count": null,
   "metadata": {},
   "outputs": [],
   "source": [
    "crime_covid"
   ]
  },
  {
   "cell_type": "code",
   "execution_count": null,
   "metadata": {},
   "outputs": [],
   "source": [
    "crime_covid.to_csv(\"crimecovid.csv\", sep=\",\")"
   ]
  }
 ],
 "metadata": {
  "kernelspec": {
   "display_name": "Python 3",
   "language": "python",
   "name": "python3"
  },
  "language_info": {
   "codemirror_mode": {
    "name": "ipython",
    "version": 3
   },
   "file_extension": ".py",
   "mimetype": "text/x-python",
   "name": "python",
   "nbconvert_exporter": "python",
   "pygments_lexer": "ipython3",
   "version": "3.8.5"
  }
 },
 "nbformat": 4,
 "nbformat_minor": 4
}
