{
 "cells": [
  {
   "cell_type": "markdown",
   "metadata": {},
   "source": [
    "- Team: Hangyu Zhou (hz477) , Evian Liu (yl2867) , YingYun Zhang (yz549) , Yang Zhao (yz563)\n",
    "- Github repository link: https://github.coecis.cornell.edu/yl2867/INFO2950_Project.git\n",
    "- Rubric: https://docs.google.com/document/d/1W3mPBOMhM9SD3oym2LG3NLyB78jG-Kmv9egM3B_EObg/edit"
   ]
  },
  {
   "cell_type": "markdown",
   "metadata": {},
   "source": [
    "# Phase II:  #\n",
    "#### Data collection and exploratory data analysis. Due Oct 6. ####\n",
    "- Settle on a single idea and state your research question(s) clearly.\n",
    "- Carry out most of your data collection.\n",
    "- Compute some relevant summary statistics, and show some plots of your data, as applicable to your research question(s). Use this exploratory data analysis to:\n",
    "    - update your research question(s), if applicable;\n",
    "    - update your data description, if applicable (e.g. if you collect additional data)."
   ]
  },
  {
   "cell_type": "markdown",
   "metadata": {},
   "source": [
    "### A dataset of moderate size and complexity. ###\n",
    "- It should be large enough to have interesting complexity, but not so big as to be unwieldy. As a rough guideline, your dataset should be longer than you could print on a single page in standard spreadsheet format, but smaller than 20 MB.\n",
    "- You may use existing datasets, combine data from APIs, or create entirely new data through instruments or surveys.\n",
    "- The dataset you turn in does not have to be the dataset that you initially collected. For example, you might download 50 MB of raw logs, but use filtering and aggregation to reduce the dataset to 100 kB for your actual analysis. We want you to submit your analysis-ready data, but you should describe your full data-collection protocol and any preprocessing done in the data description section of your final report (see below). All source code use for data collection and preprocessing should also be linked to in the source code section of your final report.\n",
    "- If your final, curated dataset is larger than 10MB, share a copy in Cornell Box and include a link to it in your final report."
   ]
  },
  {
   "cell_type": "markdown",
   "metadata": {},
   "source": [
    "## 1. Research question(s) ## \n",
    "State your research question (s) clearly."
   ]
  },
  {
   "cell_type": "markdown",
   "metadata": {},
   "source": [
    "By comparing the metropolitan cities of East and West Coast, observe how crime rate and employment changes of various industries behave in response to COVID pandemic intensity."
   ]
  },
  {
   "cell_type": "markdown",
   "metadata": {},
   "source": [
    "## 2. Data cleaning ## \n",
    "Have an initial draft of your data cleaning appendix.\n",
    "Document every step that takes your raw data file(s) and turns it into the analysis-ready data set that you would submit with your final project. \n",
    "All of your data cleaning code should be found in this section, and you may want to explain the steps of your data cleaning in words as well."
   ]
  },
  {
   "cell_type": "markdown",
   "metadata": {},
   "source": [
    "#### Final Draft Requirement ####\n",
    "\n",
    "- Data cleaning description. Submit an updated version of your data cleaning description from phase II that describes all data cleaning steps performed on your raw data to turn it into the analysis-read dataset submitted with your final project. The data cleaning description should be a separate Jupyter notebook with executed cells, and it should output the dataset you submit as part of your project (e.g. written as a .csv file)."
   ]
  },
  {
   "cell_type": "markdown",
   "metadata": {},
   "source": [
    "### IMPORT DATA ###"
   ]
  },
  {
   "cell_type": "code",
   "execution_count": 1,
   "metadata": {},
   "outputs": [],
   "source": [
    "# import packages\n",
    "import pandas as pd\n",
    "import numpy as np\n",
    "import datetime\n",
    "from matplotlib import pyplot as plt"
   ]
  },
  {
   "cell_type": "markdown",
   "metadata": {},
   "source": [
    "**Choice of Time Instance** <br />\n",
    "We attempt to see how might multiple variables (crime rate, jail population, and unemployment rate,which we include as a intuitively influential variable affecting crime) change alongwith the evolution timeline of COVID-19 situation in New York City and Los Angeles. We set the first column of dataframe to be 'Period'. Though COVID-19 statstis update everyday, sometimes drastically in short period of time, we think *\"month\"* is a reasonable instance----long enough to see how certian policy change affects the trend of testing, confirmed cases and death; and would keep our dataset size manageable. \n",
    "\n",
    "**Choice of Time Span** <br />\n",
    "Though it's commonly perceived that the outbreak of COVID-19 in U.S. happened in March, the pandemic in global started in January and inevitbaly started affecting U.S.. For our analysis samples, the first confirmed case in Los Angeles and the fourth in the United States occured in January, and the first case in NYC occured in March 1st. Thus，we consider it's reasonable to draw ourr focus analysis time span from Janurary,2020 to the most recent month, September, 2020. (Although some dataset might not be the most up to date) "
   ]
  },
  {
   "cell_type": "code",
   "execution_count": 2,
   "metadata": {},
   "outputs": [
    {
     "data": {
      "text/html": [
       "<div>\n",
       "<style scoped>\n",
       "    .dataframe tbody tr th:only-of-type {\n",
       "        vertical-align: middle;\n",
       "    }\n",
       "\n",
       "    .dataframe tbody tr th {\n",
       "        vertical-align: top;\n",
       "    }\n",
       "\n",
       "    .dataframe thead th {\n",
       "        text-align: right;\n",
       "    }\n",
       "</style>\n",
       "<table border=\"1\" class=\"dataframe\">\n",
       "  <thead>\n",
       "    <tr style=\"text-align: right;\">\n",
       "      <th></th>\n",
       "      <th>Period</th>\n",
       "    </tr>\n",
       "  </thead>\n",
       "  <tbody>\n",
       "    <tr>\n",
       "      <th>0</th>\n",
       "      <td>2020-01-31</td>\n",
       "    </tr>\n",
       "    <tr>\n",
       "      <th>1</th>\n",
       "      <td>2020-02-29</td>\n",
       "    </tr>\n",
       "    <tr>\n",
       "      <th>2</th>\n",
       "      <td>2020-03-31</td>\n",
       "    </tr>\n",
       "    <tr>\n",
       "      <th>3</th>\n",
       "      <td>2020-04-30</td>\n",
       "    </tr>\n",
       "    <tr>\n",
       "      <th>4</th>\n",
       "      <td>2020-05-31</td>\n",
       "    </tr>\n",
       "    <tr>\n",
       "      <th>5</th>\n",
       "      <td>2020-06-30</td>\n",
       "    </tr>\n",
       "    <tr>\n",
       "      <th>6</th>\n",
       "      <td>2020-07-31</td>\n",
       "    </tr>\n",
       "    <tr>\n",
       "      <th>7</th>\n",
       "      <td>2020-08-31</td>\n",
       "    </tr>\n",
       "    <tr>\n",
       "      <th>8</th>\n",
       "      <td>2020-09-30</td>\n",
       "    </tr>\n",
       "  </tbody>\n",
       "</table>\n",
       "</div>"
      ],
      "text/plain": [
       "      Period\n",
       "0 2020-01-31\n",
       "1 2020-02-29\n",
       "2 2020-03-31\n",
       "3 2020-04-30\n",
       "4 2020-05-31\n",
       "5 2020-06-30\n",
       "6 2020-07-31\n",
       "7 2020-08-31\n",
       "8 2020-09-30"
      ]
     },
     "execution_count": 2,
     "metadata": {},
     "output_type": "execute_result"
    }
   ],
   "source": [
    "# initialize final dataset. \n",
    "final_data = pd.DataFrame() \n",
    "time_lst = pd.date_range(start='1/1/2020', periods=9, freq='M').tolist()\n",
    "final_data['Period'] = time_lst\n",
    "final_data"
   ]
  },
  {
   "cell_type": "code",
   "execution_count": 3,
   "metadata": {},
   "outputs": [],
   "source": [
    "# Data cleaning helper function\n",
    "def DataCleaning(dataname, colname):\n",
    "    \"\"\"\n",
    "    Requires dataname: a file have only 2 rows, columns from \"Jan\" to \"Dec\"\n",
    "    Returns: an updated version of final_data, with <colname>\n",
    "    \"\"\"\n",
    "    # import data\n",
    "    temp_data = pd.read_csv(dataname)\n",
    "    \n",
    "    # add subset total pplt only to combine data\n",
    "    final_data[colname] = pd.Series(temp_data.loc[1, \"Jan\":\"Aug\"].tolist())"
   ]
  },
  {
   "cell_type": "markdown",
   "metadata": {},
   "source": [
    "### a. Covid ###\n",
    "- imported datasets are manually edited to condense and format for further data cleaning, including:\n",
    "    - date colunm was manually formated to consistent date\n",
    "    - turn rest of columns datatype to numbers"
   ]
  },
  {
   "cell_type": "code",
   "execution_count": 4,
   "metadata": {},
   "outputs": [],
   "source": [
    "# import NY maniputed data\n",
    "covid_ny = pd.read_csv(\"NYC_covid.csv\")"
   ]
  },
  {
   "cell_type": "code",
   "execution_count": 5,
   "metadata": {},
   "outputs": [],
   "source": [
    "# reformate date types\n",
    "covid_ny['DATE_OF_INTEREST'] = covid_ny['DATE_OF_INTEREST'].apply(pd.to_datetime, utc=True)\n",
    "\n",
    "# obtain month and day data to help locate obtaining end-of-month rows\n",
    "covid_ny['months'] = covid_ny['DATE_OF_INTEREST'].dt.strftime('%m')"
   ]
  },
  {
   "cell_type": "code",
   "execution_count": 6,
   "metadata": {},
   "outputs": [],
   "source": [
    "# Obtain cumulative monthly data, and adjust rows for subset data\n",
    "covidNY_sum = covid_ny.groupby('months').sum()   # sum cases for cumulative monthly data\n",
    "\n",
    "new_row = pd.DataFrame({'CASE_COUNT':0, 'HOSPITALIZED_COUNT':0, 'DEATH_COUNT':0}, index =[0])\n",
    "covidNY_sum = pd.concat([new_row, covidNY_sum]).reset_index(drop = True)  # add Jan data\n",
    "covidNY_sum = covidNY_sum.loc[0:8]  # drop October incomplete data"
   ]
  },
  {
   "cell_type": "code",
   "execution_count": 7,
   "metadata": {},
   "outputs": [],
   "source": [
    "# add subset total counts to combine data\n",
    "final_data[\"TotalCasesNY\"] = covidNY_sum['CASE_COUNT']\n",
    "final_data[\"TotalDeathsNY\"] = covidNY_sum['DEATH_COUNT']\n",
    "final_data[\"DeathRateNY\"] = (final_data['TotalDeathsNY'] / final_data['TotalCasesNY']).fillna(0)"
   ]
  },
  {
   "cell_type": "markdown",
   "metadata": {},
   "source": [
    "  "
   ]
  },
  {
   "cell_type": "code",
   "execution_count": 8,
   "metadata": {
    "scrolled": true
   },
   "outputs": [],
   "source": [
    "# import LA maniputed data\n",
    "covid_la = pd.read_csv(\"LA_county_covid.csv\")"
   ]
  },
  {
   "cell_type": "code",
   "execution_count": 9,
   "metadata": {},
   "outputs": [],
   "source": [
    "# reformate date types\n",
    "covid_la['date_use'] = covid_la['date_use'].apply(pd.to_datetime, utc=True)\n",
    "\n",
    "# obtain month and day data to help locate obtaining end-of-month rows\n",
    "covid_la['months'] = covid_la['date_use'].dt.strftime('%m')"
   ]
  },
  {
   "cell_type": "code",
   "execution_count": 10,
   "metadata": {},
   "outputs": [],
   "source": [
    "# Obtain cumulative monthly data, and adjust rows for subset data\n",
    "covidLA_sum = covid_la.groupby('months').sum()   # sum cases for cumulative monthly data\n",
    "covidLA_sum = covidLA_sum[['new_case', 'new_deaths']]  \n",
    "\n",
    "feb_row = pd.DataFrame({'new_case':147, 'new_deaths':0}, index =[0])\n",
    "covidLA_sum = pd.concat([feb_row, covidLA_sum]).reset_index(drop = True)  # add Feb data\n",
    "jan_row = pd.DataFrame({'new_case':0, 'new_deaths':0}, index =[0])\n",
    "covidLA_sum = pd.concat([jan_row, covidLA_sum]).reset_index(drop = True)  # add Jan data\n",
    "covidLA_sum = covidLA_sum.loc[0:9]               # drop October incomplete data"
   ]
  },
  {
   "cell_type": "code",
   "execution_count": 11,
   "metadata": {},
   "outputs": [],
   "source": [
    "# add subset total counts to combine data\n",
    "final_data[\"TotalCasesLA\"] = covidLA_sum['new_case']\n",
    "final_data[\"TotalDeathsLA\"] = covidLA_sum['new_deaths']\n",
    "final_data[\"DeathRateLA\"] = (final_data['TotalDeathsLA'] / final_data['TotalCasesLA']).fillna(0)"
   ]
  },
  {
   "cell_type": "markdown",
   "metadata": {},
   "source": [
    "### b. Jail ###\n",
    "\n",
    "- **Data cleaning done in Excel**:imported datasets are manually edited to condense and format for further data cleaning, including:\n",
    "    - remove historical data prior to 2019\n",
    "    - remove analysis cells besides data records\n",
    "    - remove unnames columns\n",
    "    - turn datatype to numbers\n",
    "  "
   ]
  },
  {
   "cell_type": "code",
   "execution_count": 16,
   "metadata": {},
   "outputs": [],
   "source": [
    "# import NY maniputed data\n",
    "jail_ny = pd.read_csv(\"NYC_jail_pplt.csv\")"
   ]
  },
  {
   "cell_type": "code",
   "execution_count": 17,
   "metadata": {},
   "outputs": [],
   "source": [
    "# add subset total pplt only to combine data\n",
    "final_data[\"JailPpltNY\"] = pd.Series(jail_ny.loc[0, \"20-Jan\":\"20-Aug\"].tolist())\n",
    "#final_data[\"JailMonthChgNY\"] = final_data[\"JailPpltNY\"].pct_change()"
   ]
  },
  {
   "cell_type": "markdown",
   "metadata": {},
   "source": [
    "**Jail_data**: Create a separate dataset for Jail with same Time Span as Final dataset, more variables from the orginal \"NYC_jail_pplt.csv\" dataset would be included for exploratory analysis."
   ]
  },
  {
   "cell_type": "code",
   "execution_count": 20,
   "metadata": {},
   "outputs": [
    {
     "data": {
      "text/html": [
       "<div>\n",
       "<style scoped>\n",
       "    .dataframe tbody tr th:only-of-type {\n",
       "        vertical-align: middle;\n",
       "    }\n",
       "\n",
       "    .dataframe tbody tr th {\n",
       "        vertical-align: top;\n",
       "    }\n",
       "\n",
       "    .dataframe thead th {\n",
       "        text-align: right;\n",
       "    }\n",
       "</style>\n",
       "<table border=\"1\" class=\"dataframe\">\n",
       "  <thead>\n",
       "    <tr style=\"text-align: right;\">\n",
       "      <th></th>\n",
       "      <th>Period</th>\n",
       "      <th>JailPpltNY</th>\n",
       "    </tr>\n",
       "  </thead>\n",
       "  <tbody>\n",
       "    <tr>\n",
       "      <th>0</th>\n",
       "      <td>2020-01-31</td>\n",
       "      <td>5544.0</td>\n",
       "    </tr>\n",
       "    <tr>\n",
       "      <th>1</th>\n",
       "      <td>2020-02-29</td>\n",
       "      <td>5356.0</td>\n",
       "    </tr>\n",
       "    <tr>\n",
       "      <th>2</th>\n",
       "      <td>2020-03-31</td>\n",
       "      <td>5195.0</td>\n",
       "    </tr>\n",
       "    <tr>\n",
       "      <th>3</th>\n",
       "      <td>2020-04-30</td>\n",
       "      <td>3973.0</td>\n",
       "    </tr>\n",
       "    <tr>\n",
       "      <th>4</th>\n",
       "      <td>2020-05-31</td>\n",
       "      <td>3859.0</td>\n",
       "    </tr>\n",
       "    <tr>\n",
       "      <th>5</th>\n",
       "      <td>2020-06-30</td>\n",
       "      <td>3878.0</td>\n",
       "    </tr>\n",
       "    <tr>\n",
       "      <th>6</th>\n",
       "      <td>2020-07-31</td>\n",
       "      <td>3843.0</td>\n",
       "    </tr>\n",
       "    <tr>\n",
       "      <th>7</th>\n",
       "      <td>2020-08-31</td>\n",
       "      <td>3972.0</td>\n",
       "    </tr>\n",
       "    <tr>\n",
       "      <th>8</th>\n",
       "      <td>2020-09-30</td>\n",
       "      <td>NaN</td>\n",
       "    </tr>\n",
       "  </tbody>\n",
       "</table>\n",
       "</div>"
      ],
      "text/plain": [
       "      Period  JailPpltNY\n",
       "0 2020-01-31      5544.0\n",
       "1 2020-02-29      5356.0\n",
       "2 2020-03-31      5195.0\n",
       "3 2020-04-30      3973.0\n",
       "4 2020-05-31      3859.0\n",
       "5 2020-06-30      3878.0\n",
       "6 2020-07-31      3843.0\n",
       "7 2020-08-31      3972.0\n",
       "8 2020-09-30         NaN"
      ]
     },
     "execution_count": 20,
     "metadata": {},
     "output_type": "execute_result"
    }
   ],
   "source": [
    "jail_data = pd.DataFrame() \n",
    "time_lst = pd.date_range(start='1/1/2020', periods=9, freq='M').tolist()\n",
    "jail_data['Period'] = time_lst\n",
    "jail_data[\"JailPpltNY\"] = pd.Series(jail_ny.loc[0, \"20-Jan\":\"20-Aug\"].tolist())\n",
    "jail_data"
   ]
  },
  {
   "cell_type": "markdown",
   "metadata": {},
   "source": []
  },
  {
   "cell_type": "markdown",
   "metadata": {},
   "source": [
    "  "
   ]
  },
  {
   "cell_type": "code",
   "execution_count": 14,
   "metadata": {},
   "outputs": [],
   "source": [
    "# import LA maniputed data\n",
    "jail_la = pd.read_csv(\"LAcounty_jail_pplt.csv\")"
   ]
  },
  {
   "cell_type": "code",
   "execution_count": 15,
   "metadata": {},
   "outputs": [],
   "source": [
    "# add subset total pplt only to combine data\n",
    "final_data[\"JailPpltLA\"] = jail_la.loc[4, \"January,2020\":\"Sept, 2020\"].tolist()\n",
    "#final_data[\"JailMonthChgLA\"] = final_data[\"JailPpltLA\"].pct_change()"
   ]
  },
  {
   "cell_type": "markdown",
   "metadata": {},
   "source": [
    "### c. Unemployment ###\n",
    "- to use helper function, the dataset is manipulated into specified format"
   ]
  },
  {
   "cell_type": "code",
   "execution_count": 16,
   "metadata": {
    "scrolled": true
   },
   "outputs": [],
   "source": [
    "# import and clean NY data by calling helper function\n",
    "DataCleaning(\"NYC_unemployment.csv\", \"UnemplNY\")"
   ]
  },
  {
   "cell_type": "code",
   "execution_count": 17,
   "metadata": {},
   "outputs": [],
   "source": [
    "# import LA data\n",
    "unempl_la = pd.read_csv(\"LA_unemployment.csv\")\n",
    "\n",
    "# add subset total pplt only to combine data\n",
    "final_data[\"UnemplLA\"] = pd.Series(unempl_la.loc[12:19, \"unemployment rate\"].tolist())"
   ]
  },
  {
   "cell_type": "markdown",
   "metadata": {},
   "source": [
    "### d. Weekly working Hours ###\n",
    "- to use helper function, the dataset is manipulated into specified format"
   ]
  },
  {
   "cell_type": "code",
   "execution_count": 18,
   "metadata": {},
   "outputs": [],
   "source": [
    "# import and clean data by calling helper function\n",
    "DataCleaning(\"NYC_weekly_hours.csv\", \"WorkHrNY\")\n",
    "DataCleaning(\"LA_weekly_hours.csv\", \"WorkHrLA\")"
   ]
  },
  {
   "cell_type": "markdown",
   "metadata": {},
   "source": [
    "### e. Computer services employee ###\n",
    "- to use helper function, the dataset is manipulated into specified format"
   ]
  },
  {
   "cell_type": "code",
   "execution_count": 19,
   "metadata": {},
   "outputs": [],
   "source": [
    "# import and clean data by calling helper function\n",
    "DataCleaning(\"NYC_computer.csv\", \"CompEmplNY\")\n",
    "DataCleaning(\"LA_computer.csv\", \"CompEmplLA\")"
   ]
  },
  {
   "cell_type": "markdown",
   "metadata": {},
   "source": [
    "### f. Local government employee ###\n",
    "- to use helper function, the dataset is manipulated into specified format"
   ]
  },
  {
   "cell_type": "code",
   "execution_count": 20,
   "metadata": {},
   "outputs": [],
   "source": [
    "# import and clean data by calling helper function\n",
    "DataCleaning(\"NYC_localgovernment.csv\", \"GovEmplNY\")\n",
    "DataCleaning(\"LA_localgovernment.csv\", \"GovEmplLA\")"
   ]
  },
  {
   "cell_type": "markdown",
   "metadata": {},
   "source": [
    "### g. Hospital employee ###\n",
    "- to use helper function, the dataset is manipulated into specified format"
   ]
  },
  {
   "cell_type": "code",
   "execution_count": 21,
   "metadata": {},
   "outputs": [],
   "source": [
    "# import and clean data by calling helper function\n",
    "DataCleaning(\"NYC_hospitals.csv\", \"HospEmplNY\")\n",
    "DataCleaning(\"LA_hospitals.csv\", \"HospEmplLA\")"
   ]
  },
  {
   "cell_type": "markdown",
   "metadata": {},
   "source": [
    "### h. Financial activities employee ###\n",
    "- to use helper function, the dataset is manipulated into specified format"
   ]
  },
  {
   "cell_type": "code",
   "execution_count": 22,
   "metadata": {},
   "outputs": [],
   "source": [
    "# import and clean data by calling helper function\n",
    "DataCleaning(\"NYC_financialactivities.csv\", \"FinEmplNY\")\n",
    "DataCleaning(\"LA_financialactivities.csv\", \"FinEmplLA\")"
   ]
  },
  {
   "cell_type": "markdown",
   "metadata": {},
   "source": [
    "### i. Educational services employee ###\n",
    "- to use helper function, the dataset is manipulated into specified format"
   ]
  },
  {
   "cell_type": "code",
   "execution_count": 247,
   "metadata": {},
   "outputs": [],
   "source": [
    "# import and clean data by calling helper function\n",
    "DataCleaning(\"NYC_educationalservices.csv\", \"EduEmplNY\")\n",
    "DataCleaning(\"LA_educationalservices.csv\", \"EduEmplLA\")"
   ]
  },
  {
   "cell_type": "markdown",
   "metadata": {},
   "source": [
    "### j. Crime ###\n",
    "- **Original Data**: The original dataset \"NYPD Complaint Data Current (Year To Date)\" is **downloaded** from \"NYC OpenData\" (https://data.cityofnewyork.us/Public-Safety/NYPD-Complaint-Data-Current-Year-To-Date-/5uac-w243), which includes all valid felony, misdemeanor, and violation crimes reported to the New York City Police Department (NYPD) for all complete quarters so far (Latest Updat：Sept 30，2020） from creation (according to data analysis result, the earliest record appears to be 1969).It has 36 columns including: _The Address of reported occurance, the Level and Description of offense, the Juridistiction responsible, the information of the Victim and Suspect,etc._ Columns with less relevancy are thus excluded.\n",
    "- **Data cleaning done in Excel**: imported datasets are manually edited to condense and format for further data cleaning, including:\n",
    "    - data is shrinked by unused rows and columns to reduce file size\n",
    "    - manipulate datatype to be consistent"
   ]
  },
  {
   "cell_type": "code",
   "execution_count": 248,
   "metadata": {},
   "outputs": [],
   "source": [
    "crime_ny = pd.read_csv(\"NYC_crime.csv\")"
   ]
  },
  {
   "cell_type": "code",
   "execution_count": 249,
   "metadata": {},
   "outputs": [],
   "source": [
    "# reformate date types\n",
    "crime_ny['CMPLNT_FR_DT'] = crime_ny['CMPLNT_FR_DT'].apply(pd.to_datetime, utc=True)\n",
    "\n",
    "# obtain month and day data to help locate obtaining month rows\n",
    "crime_ny['months'] = crime_ny['CMPLNT_FR_DT'].dt.strftime('%m')"
   ]
  },
  {
   "cell_type": "code",
   "execution_count": 253,
   "metadata": {},
   "outputs": [],
   "source": [
    "# obtain monthly counts\n",
    "crimeNY_sum = crime_ny.groupby('months').count()\n",
    "crimeNY_sum = crimeNY_sum['CMPLNT_FR_DT']\n",
    "\n",
    "final_data[\"CrimeNY\"] = pd.Series(crimeNY_sum.tolist())"
   ]
  },
  {
   "cell_type": "code",
   "execution_count": 251,
   "metadata": {},
   "outputs": [],
   "source": [
    "\n",
    "final_data[\"CrimeNY\"] = pd.Series(crimeNY_sum.tolist())\n"
   ]
  },
  {
   "cell_type": "code",
   "execution_count": 255,
   "metadata": {},
   "outputs": [],
   "source": [
    "crime_la = pd.read_csv(\"LA_crime.csv\")"
   ]
  },
  {
   "cell_type": "code",
   "execution_count": 256,
   "metadata": {},
   "outputs": [],
   "source": [
    "# reformate date types\n",
    "crime_la['Date Rptd'] = crime_la['Date Rptd'].apply(pd.to_datetime, utc=True)\n",
    "\n",
    "# obtain month and day data to help locate obtaining month rows\n",
    "crime_la['months'] = crime_la['Date Rptd'].dt.strftime('%m')"
   ]
  },
  {
   "cell_type": "code",
   "execution_count": 264,
   "metadata": {},
   "outputs": [],
   "source": [
    "# obtain monthly counts\n",
    "crimeLA_sum = crime_la.groupby('months').count()\n"
   ]
  },
  {
   "cell_type": "code",
   "execution_count": 261,
   "metadata": {},
   "outputs": [
    {
     "data": {
      "text/html": [
       "<div>\n",
       "<style scoped>\n",
       "    .dataframe tbody tr th:only-of-type {\n",
       "        vertical-align: middle;\n",
       "    }\n",
       "\n",
       "    .dataframe tbody tr th {\n",
       "        vertical-align: top;\n",
       "    }\n",
       "\n",
       "    .dataframe thead th {\n",
       "        text-align: right;\n",
       "    }\n",
       "</style>\n",
       "<table border=\"1\" class=\"dataframe\">\n",
       "  <thead>\n",
       "    <tr style=\"text-align: right;\">\n",
       "      <th></th>\n",
       "      <th>Period</th>\n",
       "      <th>TotalCasesNY</th>\n",
       "      <th>TotalDeathsNY</th>\n",
       "      <th>DeathRateNY</th>\n",
       "      <th>TotalCasesLA</th>\n",
       "      <th>TotalDeathsLA</th>\n",
       "      <th>DeathRateLA</th>\n",
       "      <th>JailPpltNY</th>\n",
       "      <th>JailPpltLA</th>\n",
       "      <th>EduEmplNY</th>\n",
       "      <th>EduEmplLA</th>\n",
       "      <th>CrimeNY</th>\n",
       "      <th>CrimeLA</th>\n",
       "    </tr>\n",
       "  </thead>\n",
       "  <tbody>\n",
       "    <tr>\n",
       "      <th>0</th>\n",
       "      <td>2020-01-31</td>\n",
       "      <td>0.0</td>\n",
       "      <td>0.0</td>\n",
       "      <td>0.000000</td>\n",
       "      <td>0</td>\n",
       "      <td>0</td>\n",
       "      <td>0.000000</td>\n",
       "      <td>5544.0</td>\n",
       "      <td>6035.0</td>\n",
       "      <td>246.3</td>\n",
       "      <td>173.6</td>\n",
       "      <td>38066.0</td>\n",
       "      <td>15991</td>\n",
       "    </tr>\n",
       "    <tr>\n",
       "      <th>1</th>\n",
       "      <td>2020-02-29</td>\n",
       "      <td>1.0</td>\n",
       "      <td>0.0</td>\n",
       "      <td>0.000000</td>\n",
       "      <td>147</td>\n",
       "      <td>0</td>\n",
       "      <td>0.000000</td>\n",
       "      <td>5356.0</td>\n",
       "      <td>5960.0</td>\n",
       "      <td>260.7</td>\n",
       "      <td>182.1</td>\n",
       "      <td>34961.0</td>\n",
       "      <td>16483</td>\n",
       "    </tr>\n",
       "    <tr>\n",
       "      <th>2</th>\n",
       "      <td>2020-03-31</td>\n",
       "      <td>65213.0</td>\n",
       "      <td>2193.0</td>\n",
       "      <td>0.033628</td>\n",
       "      <td>6473</td>\n",
       "      <td>94</td>\n",
       "      <td>0.014522</td>\n",
       "      <td>5195.0</td>\n",
       "      <td>6015.0</td>\n",
       "      <td>260.2</td>\n",
       "      <td>179.5</td>\n",
       "      <td>31794.0</td>\n",
       "      <td>15540</td>\n",
       "    </tr>\n",
       "    <tr>\n",
       "      <th>3</th>\n",
       "      <td>2020-04-30</td>\n",
       "      <td>109384.0</td>\n",
       "      <td>12742.0</td>\n",
       "      <td>0.116489</td>\n",
       "      <td>22006</td>\n",
       "      <td>1109</td>\n",
       "      <td>0.050395</td>\n",
       "      <td>3973.0</td>\n",
       "      <td>5798.0</td>\n",
       "      <td>226.7</td>\n",
       "      <td>166.8</td>\n",
       "      <td>24280.0</td>\n",
       "      <td>15166</td>\n",
       "    </tr>\n",
       "    <tr>\n",
       "      <th>4</th>\n",
       "      <td>2020-05-31</td>\n",
       "      <td>28481.0</td>\n",
       "      <td>2834.0</td>\n",
       "      <td>0.099505</td>\n",
       "      <td>29891</td>\n",
       "      <td>1229</td>\n",
       "      <td>0.041116</td>\n",
       "      <td>3859.0</td>\n",
       "      <td>5758.0</td>\n",
       "      <td>221.8</td>\n",
       "      <td>162.7</td>\n",
       "      <td>31233.0</td>\n",
       "      <td>16314</td>\n",
       "    </tr>\n",
       "    <tr>\n",
       "      <th>5</th>\n",
       "      <td>2020-06-30</td>\n",
       "      <td>10865.0</td>\n",
       "      <td>767.0</td>\n",
       "      <td>0.070594</td>\n",
       "      <td>52419</td>\n",
       "      <td>985</td>\n",
       "      <td>0.018791</td>\n",
       "      <td>3878.0</td>\n",
       "      <td>5620.0</td>\n",
       "      <td>212.4</td>\n",
       "      <td>157.3</td>\n",
       "      <td>29846.0</td>\n",
       "      <td>16969</td>\n",
       "    </tr>\n",
       "    <tr>\n",
       "      <th>6</th>\n",
       "      <td>2020-07-31</td>\n",
       "      <td>9783.0</td>\n",
       "      <td>356.0</td>\n",
       "      <td>0.036390</td>\n",
       "      <td>79730</td>\n",
       "      <td>1199</td>\n",
       "      <td>0.015038</td>\n",
       "      <td>3843.0</td>\n",
       "      <td>5223.0</td>\n",
       "      <td>208.9</td>\n",
       "      <td>147.9</td>\n",
       "      <td>NaN</td>\n",
       "      <td>16913</td>\n",
       "    </tr>\n",
       "    <tr>\n",
       "      <th>7</th>\n",
       "      <td>2020-08-31</td>\n",
       "      <td>7366.0</td>\n",
       "      <td>150.0</td>\n",
       "      <td>0.020364</td>\n",
       "      <td>41435</td>\n",
       "      <td>1083</td>\n",
       "      <td>0.026137</td>\n",
       "      <td>3972.0</td>\n",
       "      <td>5053.0</td>\n",
       "      <td>208.4</td>\n",
       "      <td>148.4</td>\n",
       "      <td>NaN</td>\n",
       "      <td>16573</td>\n",
       "    </tr>\n",
       "    <tr>\n",
       "      <th>8</th>\n",
       "      <td>2020-09-30</td>\n",
       "      <td>9902.0</td>\n",
       "      <td>124.0</td>\n",
       "      <td>0.012523</td>\n",
       "      <td>26308</td>\n",
       "      <td>563</td>\n",
       "      <td>0.021400</td>\n",
       "      <td>NaN</td>\n",
       "      <td>4916.0</td>\n",
       "      <td>NaN</td>\n",
       "      <td>NaN</td>\n",
       "      <td>NaN</td>\n",
       "      <td>14230</td>\n",
       "    </tr>\n",
       "  </tbody>\n",
       "</table>\n",
       "</div>"
      ],
      "text/plain": [
       "      Period  TotalCasesNY  TotalDeathsNY  DeathRateNY  TotalCasesLA  \\\n",
       "0 2020-01-31           0.0            0.0     0.000000             0   \n",
       "1 2020-02-29           1.0            0.0     0.000000           147   \n",
       "2 2020-03-31       65213.0         2193.0     0.033628          6473   \n",
       "3 2020-04-30      109384.0        12742.0     0.116489         22006   \n",
       "4 2020-05-31       28481.0         2834.0     0.099505         29891   \n",
       "5 2020-06-30       10865.0          767.0     0.070594         52419   \n",
       "6 2020-07-31        9783.0          356.0     0.036390         79730   \n",
       "7 2020-08-31        7366.0          150.0     0.020364         41435   \n",
       "8 2020-09-30        9902.0          124.0     0.012523         26308   \n",
       "\n",
       "   TotalDeathsLA  DeathRateLA  JailPpltNY  JailPpltLA  EduEmplNY  EduEmplLA  \\\n",
       "0              0     0.000000      5544.0      6035.0      246.3      173.6   \n",
       "1              0     0.000000      5356.0      5960.0      260.7      182.1   \n",
       "2             94     0.014522      5195.0      6015.0      260.2      179.5   \n",
       "3           1109     0.050395      3973.0      5798.0      226.7      166.8   \n",
       "4           1229     0.041116      3859.0      5758.0      221.8      162.7   \n",
       "5            985     0.018791      3878.0      5620.0      212.4      157.3   \n",
       "6           1199     0.015038      3843.0      5223.0      208.9      147.9   \n",
       "7           1083     0.026137      3972.0      5053.0      208.4      148.4   \n",
       "8            563     0.021400         NaN      4916.0        NaN        NaN   \n",
       "\n",
       "   CrimeNY  CrimeLA  \n",
       "0  38066.0    15991  \n",
       "1  34961.0    16483  \n",
       "2  31794.0    15540  \n",
       "3  24280.0    15166  \n",
       "4  31233.0    16314  \n",
       "5  29846.0    16969  \n",
       "6      NaN    16913  \n",
       "7      NaN    16573  \n",
       "8      NaN    14230  "
      ]
     },
     "execution_count": 261,
     "metadata": {},
     "output_type": "execute_result"
    }
   ],
   "source": [
    "final_data[\"CrimeLA\"] = pd.Series(crimeLA_sum['Date Rptd'].tolist())\n"
   ]
  },
  {
   "cell_type": "code",
   "execution_count": null,
   "metadata": {},
   "outputs": [],
   "source": []
  },
  {
   "cell_type": "code",
   "execution_count": null,
   "metadata": {},
   "outputs": [],
   "source": []
  },
  {
   "cell_type": "markdown",
   "metadata": {},
   "source": [
    "**nyc_crime**: Create a separate dataset for NYC crime during from January to September, more variables from the orginal \"NYPD Complaint Data Current (Year To Date).csv\" dataset would be included for exploratory analysis."
   ]
  },
  {
   "cell_type": "code",
   "execution_count": 393,
   "metadata": {},
   "outputs": [
    {
     "data": {
      "text/html": [
       "<div>\n",
       "<style scoped>\n",
       "    .dataframe tbody tr th:only-of-type {\n",
       "        vertical-align: middle;\n",
       "    }\n",
       "\n",
       "    .dataframe tbody tr th {\n",
       "        vertical-align: top;\n",
       "    }\n",
       "\n",
       "    .dataframe thead th {\n",
       "        text-align: right;\n",
       "    }\n",
       "</style>\n",
       "<table border=\"1\" class=\"dataframe\">\n",
       "  <thead>\n",
       "    <tr style=\"text-align: right;\">\n",
       "      <th></th>\n",
       "      <th>CMPLNT_FR_DT</th>\n",
       "      <th>OFNS_DESC</th>\n",
       "      <th>SUSP_AGE_GROUP</th>\n",
       "      <th>SUSP_RACE</th>\n",
       "      <th>SUSP_SEX</th>\n",
       "      <th>VIC_AGE_GROUP</th>\n",
       "      <th>VIC_RACE</th>\n",
       "      <th>VIC_SEX</th>\n",
       "    </tr>\n",
       "  </thead>\n",
       "  <tbody>\n",
       "    <tr>\n",
       "      <th>0</th>\n",
       "      <td>6/29/20</td>\n",
       "      <td>MURDER &amp; NON-NEGL. MANSLAUGHTER</td>\n",
       "      <td>NaN</td>\n",
       "      <td>NaN</td>\n",
       "      <td>NaN</td>\n",
       "      <td>18-24</td>\n",
       "      <td>BLACK</td>\n",
       "      <td>M</td>\n",
       "    </tr>\n",
       "    <tr>\n",
       "      <th>1</th>\n",
       "      <td>6/20/20</td>\n",
       "      <td>MURDER &amp; NON-NEGL. MANSLAUGHTER</td>\n",
       "      <td>NaN</td>\n",
       "      <td>NaN</td>\n",
       "      <td>NaN</td>\n",
       "      <td>&lt;18</td>\n",
       "      <td>BLACK</td>\n",
       "      <td>M</td>\n",
       "    </tr>\n",
       "    <tr>\n",
       "      <th>2</th>\n",
       "      <td>6/12/20</td>\n",
       "      <td>MURDER &amp; NON-NEGL. MANSLAUGHTER</td>\n",
       "      <td>NaN</td>\n",
       "      <td>NaN</td>\n",
       "      <td>NaN</td>\n",
       "      <td>18-24</td>\n",
       "      <td>BLACK</td>\n",
       "      <td>F</td>\n",
       "    </tr>\n",
       "    <tr>\n",
       "      <th>3</th>\n",
       "      <td>6/5/20</td>\n",
       "      <td>MURDER &amp; NON-NEGL. MANSLAUGHTER</td>\n",
       "      <td>18-24</td>\n",
       "      <td>BLACK</td>\n",
       "      <td>M</td>\n",
       "      <td>25-44</td>\n",
       "      <td>BLACK</td>\n",
       "      <td>M</td>\n",
       "    </tr>\n",
       "    <tr>\n",
       "      <th>4</th>\n",
       "      <td>6/5/20</td>\n",
       "      <td>MURDER &amp; NON-NEGL. MANSLAUGHTER</td>\n",
       "      <td>NaN</td>\n",
       "      <td>NaN</td>\n",
       "      <td>NaN</td>\n",
       "      <td>25-44</td>\n",
       "      <td>BLACK</td>\n",
       "      <td>M</td>\n",
       "    </tr>\n",
       "  </tbody>\n",
       "</table>\n",
       "</div>"
      ],
      "text/plain": [
       "  CMPLNT_FR_DT                        OFNS_DESC SUSP_AGE_GROUP SUSP_RACE  \\\n",
       "0      6/29/20  MURDER & NON-NEGL. MANSLAUGHTER            NaN       NaN   \n",
       "1      6/20/20  MURDER & NON-NEGL. MANSLAUGHTER            NaN       NaN   \n",
       "2      6/12/20  MURDER & NON-NEGL. MANSLAUGHTER            NaN       NaN   \n",
       "3       6/5/20  MURDER & NON-NEGL. MANSLAUGHTER          18-24     BLACK   \n",
       "4       6/5/20  MURDER & NON-NEGL. MANSLAUGHTER            NaN       NaN   \n",
       "\n",
       "  SUSP_SEX VIC_AGE_GROUP VIC_RACE VIC_SEX  \n",
       "0      NaN         18-24    BLACK       M  \n",
       "1      NaN           <18    BLACK       M  \n",
       "2      NaN         18-24    BLACK       F  \n",
       "3        M         25-44    BLACK       M  \n",
       "4      NaN         25-44    BLACK       M  "
      ]
     },
     "execution_count": 393,
     "metadata": {},
     "output_type": "execute_result"
    }
   ],
   "source": [
    "nyc_crime=pd.read_csv('NYPD_Complaint_Data_Current__Year_To_Date_.csv')\n",
    "nyc_crime_new = nyc_crime[['CMPLNT_FR_DT','OFNS_DESC','SUSP_AGE_GROUP','SUSP_RACE','SUSP_SEX','VIC_AGE_GROUP','VIC_RACE','VIC_SEX']].copy()\n",
    "nyc_crime_new.head()"
   ]
  },
  {
   "cell_type": "code",
   "execution_count": 394,
   "metadata": {},
   "outputs": [],
   "source": [
    "nyc_crime_new['CMPLNT_FR_DT'] = pd.to_datetime(nyc_crime_new['CMPLNT_FR_DT'],errors='coerce')\n",
    "# obtain month and day data to help locate obtaining month rows\n",
    "nyc_crime_new = nyc_crime_new.dropna(subset=['CMPLNT_FR_DT'])\n",
    "# Drop rows with unrecognizable dates (like: 1010-5-2020)\n",
    "nyc_crime_new['months'] = nyc_crime_new['CMPLNT_FR_DT'].dt.strftime('%m')\n",
    "nyc_crime_new['year']=nyc_crime_new['CMPLNT_FR_DT'].dt.strftime('%y')"
   ]
  },
  {
   "cell_type": "code",
   "execution_count": 395,
   "metadata": {},
   "outputs": [
    {
     "data": {
      "text/plain": [
       "array(['20', '19', '94', '01', '18', '10', '13', '17', '02', '16', '92',\n",
       "       '08', '11', '97', '14', '15', '70', '04', '12', '05', '09', '60',\n",
       "       '07', '00', '06', '86', '99', '95', '03', '87', '90', '80', '96',\n",
       "       '69', '91', '85', '89', '82', '79', '74'], dtype=object)"
      ]
     },
     "execution_count": 395,
     "metadata": {},
     "output_type": "execute_result"
    }
   ],
   "source": [
    "#NYC_crime_sum = nyc_crime_new.groupby('months')\n",
    "nyc_crime_new.head()\n",
    "nyc_crime_new['year'].unique()"
   ]
  },
  {
   "cell_type": "markdown",
   "metadata": {},
   "source": [
    "From here we can see, there are year instances that date way back to '1969'. For the analysis of impacvt of covid-19, we choose 5 years: 2015 to 2020."
   ]
  },
  {
   "cell_type": "code",
   "execution_count": 396,
   "metadata": {},
   "outputs": [
    {
     "data": {
      "text/plain": [
       "array(['20', '19', '18', '17', '16', '15'], dtype=object)"
      ]
     },
     "execution_count": 396,
     "metadata": {},
     "output_type": "execute_result"
    }
   ],
   "source": [
    "#surveys_df[(surveys_df.year >= 1980) & (surveys_df.year <= 1985)]\n",
    "nyc_crime_new= nyc_crime_new[(nyc_crime_new.year == '15') |(nyc_crime_new.year == '16')| (nyc_crime_new.year == '17')|(nyc_crime_new.year == '18')|(nyc_crime_new.year == '19')|(nyc_crime_new.year == '20')] \n",
    "\n",
    "nyc_crime_new['year'].unique()\n"
   ]
  },
  {
   "cell_type": "code",
   "execution_count": 397,
   "metadata": {},
   "outputs": [
    {
     "data": {
      "text/html": [
       "<div>\n",
       "<style scoped>\n",
       "    .dataframe tbody tr th:only-of-type {\n",
       "        vertical-align: middle;\n",
       "    }\n",
       "\n",
       "    .dataframe tbody tr th {\n",
       "        vertical-align: top;\n",
       "    }\n",
       "\n",
       "    .dataframe thead th {\n",
       "        text-align: right;\n",
       "    }\n",
       "</style>\n",
       "<table border=\"1\" class=\"dataframe\">\n",
       "  <thead>\n",
       "    <tr style=\"text-align: right;\">\n",
       "      <th></th>\n",
       "      <th>CMPLNT_FR_DT</th>\n",
       "      <th>OFNS_DESC</th>\n",
       "      <th>SUSP_AGE_GROUP</th>\n",
       "      <th>SUSP_RACE</th>\n",
       "      <th>SUSP_SEX</th>\n",
       "      <th>VIC_AGE_GROUP</th>\n",
       "      <th>VIC_RACE</th>\n",
       "      <th>VIC_SEX</th>\n",
       "      <th>months</th>\n",
       "      <th>year</th>\n",
       "    </tr>\n",
       "  </thead>\n",
       "  <tbody>\n",
       "    <tr>\n",
       "      <th>0</th>\n",
       "      <td>2020-06-29</td>\n",
       "      <td>MURDER &amp; NON-NEGL. MANSLAUGHTER</td>\n",
       "      <td>NaN</td>\n",
       "      <td>NaN</td>\n",
       "      <td>NaN</td>\n",
       "      <td>18-24</td>\n",
       "      <td>BLACK</td>\n",
       "      <td>M</td>\n",
       "      <td>06</td>\n",
       "      <td>20</td>\n",
       "    </tr>\n",
       "    <tr>\n",
       "      <th>1</th>\n",
       "      <td>2020-06-20</td>\n",
       "      <td>MURDER &amp; NON-NEGL. MANSLAUGHTER</td>\n",
       "      <td>NaN</td>\n",
       "      <td>NaN</td>\n",
       "      <td>NaN</td>\n",
       "      <td>&lt;18</td>\n",
       "      <td>BLACK</td>\n",
       "      <td>M</td>\n",
       "      <td>06</td>\n",
       "      <td>20</td>\n",
       "    </tr>\n",
       "    <tr>\n",
       "      <th>2</th>\n",
       "      <td>2020-06-12</td>\n",
       "      <td>MURDER &amp; NON-NEGL. MANSLAUGHTER</td>\n",
       "      <td>NaN</td>\n",
       "      <td>NaN</td>\n",
       "      <td>NaN</td>\n",
       "      <td>18-24</td>\n",
       "      <td>BLACK</td>\n",
       "      <td>F</td>\n",
       "      <td>06</td>\n",
       "      <td>20</td>\n",
       "    </tr>\n",
       "    <tr>\n",
       "      <th>3</th>\n",
       "      <td>2020-06-05</td>\n",
       "      <td>MURDER &amp; NON-NEGL. MANSLAUGHTER</td>\n",
       "      <td>18-24</td>\n",
       "      <td>BLACK</td>\n",
       "      <td>M</td>\n",
       "      <td>25-44</td>\n",
       "      <td>BLACK</td>\n",
       "      <td>M</td>\n",
       "      <td>06</td>\n",
       "      <td>20</td>\n",
       "    </tr>\n",
       "    <tr>\n",
       "      <th>4</th>\n",
       "      <td>2020-06-05</td>\n",
       "      <td>MURDER &amp; NON-NEGL. MANSLAUGHTER</td>\n",
       "      <td>NaN</td>\n",
       "      <td>NaN</td>\n",
       "      <td>NaN</td>\n",
       "      <td>25-44</td>\n",
       "      <td>BLACK</td>\n",
       "      <td>M</td>\n",
       "      <td>06</td>\n",
       "      <td>20</td>\n",
       "    </tr>\n",
       "  </tbody>\n",
       "</table>\n",
       "</div>"
      ],
      "text/plain": [
       "  CMPLNT_FR_DT                        OFNS_DESC SUSP_AGE_GROUP SUSP_RACE  \\\n",
       "0   2020-06-29  MURDER & NON-NEGL. MANSLAUGHTER            NaN       NaN   \n",
       "1   2020-06-20  MURDER & NON-NEGL. MANSLAUGHTER            NaN       NaN   \n",
       "2   2020-06-12  MURDER & NON-NEGL. MANSLAUGHTER            NaN       NaN   \n",
       "3   2020-06-05  MURDER & NON-NEGL. MANSLAUGHTER          18-24     BLACK   \n",
       "4   2020-06-05  MURDER & NON-NEGL. MANSLAUGHTER            NaN       NaN   \n",
       "\n",
       "  SUSP_SEX VIC_AGE_GROUP VIC_RACE VIC_SEX months year  \n",
       "0      NaN         18-24    BLACK       M     06   20  \n",
       "1      NaN           <18    BLACK       M     06   20  \n",
       "2      NaN         18-24    BLACK       F     06   20  \n",
       "3        M         25-44    BLACK       M     06   20  \n",
       "4      NaN         25-44    BLACK       M     06   20  "
      ]
     },
     "execution_count": 397,
     "metadata": {},
     "output_type": "execute_result"
    }
   ],
   "source": [
    "nyc_crime_new.head()"
   ]
  },
  {
   "cell_type": "code",
   "execution_count": 398,
   "metadata": {},
   "outputs": [
    {
     "data": {
      "text/html": [
       "<div>\n",
       "<style scoped>\n",
       "    .dataframe tbody tr th:only-of-type {\n",
       "        vertical-align: middle;\n",
       "    }\n",
       "\n",
       "    .dataframe tbody tr th {\n",
       "        vertical-align: top;\n",
       "    }\n",
       "\n",
       "    .dataframe thead th {\n",
       "        text-align: right;\n",
       "    }\n",
       "</style>\n",
       "<table border=\"1\" class=\"dataframe\">\n",
       "  <thead>\n",
       "    <tr style=\"text-align: right;\">\n",
       "      <th></th>\n",
       "      <th>CMPLNT_FR_DT</th>\n",
       "      <th>OFNS_DESC</th>\n",
       "      <th>SUSP_AGE_GROUP</th>\n",
       "      <th>SUSP_RACE</th>\n",
       "      <th>SUSP_SEX</th>\n",
       "      <th>VIC_AGE_GROUP</th>\n",
       "      <th>VIC_RACE</th>\n",
       "      <th>VIC_SEX</th>\n",
       "      <th>months</th>\n",
       "    </tr>\n",
       "    <tr>\n",
       "      <th>year</th>\n",
       "      <th></th>\n",
       "      <th></th>\n",
       "      <th></th>\n",
       "      <th></th>\n",
       "      <th></th>\n",
       "      <th></th>\n",
       "      <th></th>\n",
       "      <th></th>\n",
       "      <th></th>\n",
       "    </tr>\n",
       "  </thead>\n",
       "  <tbody>\n",
       "    <tr>\n",
       "      <th>15</th>\n",
       "      <td>66</td>\n",
       "      <td>66</td>\n",
       "      <td>45</td>\n",
       "      <td>45</td>\n",
       "      <td>45</td>\n",
       "      <td>66</td>\n",
       "      <td>66</td>\n",
       "      <td>66</td>\n",
       "      <td>66</td>\n",
       "    </tr>\n",
       "    <tr>\n",
       "      <th>16</th>\n",
       "      <td>75</td>\n",
       "      <td>75</td>\n",
       "      <td>57</td>\n",
       "      <td>57</td>\n",
       "      <td>57</td>\n",
       "      <td>75</td>\n",
       "      <td>75</td>\n",
       "      <td>75</td>\n",
       "      <td>75</td>\n",
       "    </tr>\n",
       "    <tr>\n",
       "      <th>17</th>\n",
       "      <td>142</td>\n",
       "      <td>142</td>\n",
       "      <td>97</td>\n",
       "      <td>97</td>\n",
       "      <td>97</td>\n",
       "      <td>142</td>\n",
       "      <td>142</td>\n",
       "      <td>142</td>\n",
       "      <td>142</td>\n",
       "    </tr>\n",
       "    <tr>\n",
       "      <th>18</th>\n",
       "      <td>354</td>\n",
       "      <td>354</td>\n",
       "      <td>241</td>\n",
       "      <td>241</td>\n",
       "      <td>241</td>\n",
       "      <td>354</td>\n",
       "      <td>354</td>\n",
       "      <td>354</td>\n",
       "      <td>354</td>\n",
       "    </tr>\n",
       "    <tr>\n",
       "      <th>19</th>\n",
       "      <td>5695</td>\n",
       "      <td>5695</td>\n",
       "      <td>3676</td>\n",
       "      <td>3676</td>\n",
       "      <td>3676</td>\n",
       "      <td>5695</td>\n",
       "      <td>5695</td>\n",
       "      <td>5695</td>\n",
       "      <td>5695</td>\n",
       "    </tr>\n",
       "    <tr>\n",
       "      <th>20</th>\n",
       "      <td>190181</td>\n",
       "      <td>190180</td>\n",
       "      <td>145658</td>\n",
       "      <td>145658</td>\n",
       "      <td>145658</td>\n",
       "      <td>190180</td>\n",
       "      <td>190180</td>\n",
       "      <td>190180</td>\n",
       "      <td>190181</td>\n",
       "    </tr>\n",
       "  </tbody>\n",
       "</table>\n",
       "</div>"
      ],
      "text/plain": [
       "      CMPLNT_FR_DT  OFNS_DESC  SUSP_AGE_GROUP  SUSP_RACE  SUSP_SEX  \\\n",
       "year                                                                 \n",
       "15              66         66              45         45        45   \n",
       "16              75         75              57         57        57   \n",
       "17             142        142              97         97        97   \n",
       "18             354        354             241        241       241   \n",
       "19            5695       5695            3676       3676      3676   \n",
       "20          190181     190180          145658     145658    145658   \n",
       "\n",
       "      VIC_AGE_GROUP  VIC_RACE  VIC_SEX  months  \n",
       "year                                            \n",
       "15               66        66       66      66  \n",
       "16               75        75       75      75  \n",
       "17              142       142      142     142  \n",
       "18              354       354      354     354  \n",
       "19             5695      5695     5695    5695  \n",
       "20           190180    190180   190180  190181  "
      ]
     },
     "execution_count": 398,
     "metadata": {},
     "output_type": "execute_result"
    }
   ],
   "source": [
    "nyc_crime_new.groupby(['year']).count()"
   ]
  },
  {
   "cell_type": "markdown",
   "metadata": {},
   "source": [
    "As the result showed, the records before 2020 may not be complete, so we decided to look at the trend in 2020 only."
   ]
  },
  {
   "cell_type": "code",
   "execution_count": 404,
   "metadata": {
    "scrolled": true
   },
   "outputs": [],
   "source": [
    "nyc_crime_new = nyc_crime_new[(nyc_crime_new.year == '20')]   \n",
    "counts = nyc_crime_new.groupby(['months']).count()\n"
   ]
  },
  {
   "cell_type": "code",
   "execution_count": 405,
   "metadata": {},
   "outputs": [
    {
     "data": {
      "text/html": [
       "<div>\n",
       "<style scoped>\n",
       "    .dataframe tbody tr th:only-of-type {\n",
       "        vertical-align: middle;\n",
       "    }\n",
       "\n",
       "    .dataframe tbody tr th {\n",
       "        vertical-align: top;\n",
       "    }\n",
       "\n",
       "    .dataframe thead th {\n",
       "        text-align: right;\n",
       "    }\n",
       "</style>\n",
       "<table border=\"1\" class=\"dataframe\">\n",
       "  <thead>\n",
       "    <tr style=\"text-align: right;\">\n",
       "      <th></th>\n",
       "      <th>Date Rptd</th>\n",
       "      <th>Crm Cd Desc</th>\n",
       "    </tr>\n",
       "    <tr>\n",
       "      <th>months</th>\n",
       "      <th></th>\n",
       "      <th></th>\n",
       "    </tr>\n",
       "  </thead>\n",
       "  <tbody>\n",
       "    <tr>\n",
       "      <th>01</th>\n",
       "      <td>15991</td>\n",
       "      <td>15991</td>\n",
       "    </tr>\n",
       "    <tr>\n",
       "      <th>02</th>\n",
       "      <td>16483</td>\n",
       "      <td>16483</td>\n",
       "    </tr>\n",
       "    <tr>\n",
       "      <th>03</th>\n",
       "      <td>15540</td>\n",
       "      <td>15540</td>\n",
       "    </tr>\n",
       "    <tr>\n",
       "      <th>04</th>\n",
       "      <td>15166</td>\n",
       "      <td>15166</td>\n",
       "    </tr>\n",
       "    <tr>\n",
       "      <th>05</th>\n",
       "      <td>16314</td>\n",
       "      <td>16314</td>\n",
       "    </tr>\n",
       "    <tr>\n",
       "      <th>06</th>\n",
       "      <td>16969</td>\n",
       "      <td>16969</td>\n",
       "    </tr>\n",
       "    <tr>\n",
       "      <th>07</th>\n",
       "      <td>16913</td>\n",
       "      <td>16913</td>\n",
       "    </tr>\n",
       "    <tr>\n",
       "      <th>08</th>\n",
       "      <td>16573</td>\n",
       "      <td>16573</td>\n",
       "    </tr>\n",
       "    <tr>\n",
       "      <th>09</th>\n",
       "      <td>14230</td>\n",
       "      <td>14230</td>\n",
       "    </tr>\n",
       "  </tbody>\n",
       "</table>\n",
       "</div>"
      ],
      "text/plain": [
       "        Date Rptd  Crm Cd Desc\n",
       "months                        \n",
       "01          15991        15991\n",
       "02          16483        16483\n",
       "03          15540        15540\n",
       "04          15166        15166\n",
       "05          16314        16314\n",
       "06          16969        16969\n",
       "07          16913        16913\n",
       "08          16573        16573\n",
       "09          14230        14230"
      ]
     },
     "execution_count": 405,
     "metadata": {},
     "output_type": "execute_result"
    }
   ],
   "source": [
    "months = []\n",
    "for m in range(7):\n",
    "    if m !=0:\n",
    "        months.append(m)\n",
    "\n",
    "totalCompl=[]\n",
    "for i in counts['CMPLNT_FR_DT']:\n",
    "    #idx=counts.index[counts['CMPLNT_FR_DT']==m]\n",
    "    if i >1:\n",
    "        #remove the instance of month '12', error input\n",
    "        totalCompl.append(i)\n",
    "\n",
    "crime_sum = pd.DataFrame()\n",
    "crime_sum['months']=months\n",
    "crime_sum['totalCompl_NYC'] = totalCompl\n",
    "\n",
    "crimeLA_sum\n",
    "# Add totalCompl_la to the crime_sum, for comparison, we'll only include month 1-6.\n",
    "\n"
   ]
  },
  {
   "cell_type": "code",
   "execution_count": 414,
   "metadata": {},
   "outputs": [
    {
     "data": {
      "text/html": [
       "<div>\n",
       "<style scoped>\n",
       "    .dataframe tbody tr th:only-of-type {\n",
       "        vertical-align: middle;\n",
       "    }\n",
       "\n",
       "    .dataframe tbody tr th {\n",
       "        vertical-align: top;\n",
       "    }\n",
       "\n",
       "    .dataframe thead th {\n",
       "        text-align: right;\n",
       "    }\n",
       "</style>\n",
       "<table border=\"1\" class=\"dataframe\">\n",
       "  <thead>\n",
       "    <tr style=\"text-align: right;\">\n",
       "      <th></th>\n",
       "      <th>Cases</th>\n",
       "    </tr>\n",
       "    <tr>\n",
       "      <th>SuspRace</th>\n",
       "      <th></th>\n",
       "    </tr>\n",
       "  </thead>\n",
       "  <tbody>\n",
       "    <tr>\n",
       "      <th>BLACK</th>\n",
       "      <td>53787</td>\n",
       "    </tr>\n",
       "    <tr>\n",
       "      <th>UNKNOWN</th>\n",
       "      <td>40903</td>\n",
       "    </tr>\n",
       "    <tr>\n",
       "      <th>WHITE HISPANIC</th>\n",
       "      <td>24545</td>\n",
       "    </tr>\n",
       "    <tr>\n",
       "      <th>WHITE</th>\n",
       "      <td>13507</td>\n",
       "    </tr>\n",
       "    <tr>\n",
       "      <th>BLACK HISPANIC</th>\n",
       "      <td>7620</td>\n",
       "    </tr>\n",
       "    <tr>\n",
       "      <th>ASIAN / PACIFIC ISLANDER</th>\n",
       "      <td>4982</td>\n",
       "    </tr>\n",
       "    <tr>\n",
       "      <th>AMERICAN INDIAN/ALASKAN NATIVE</th>\n",
       "      <td>314</td>\n",
       "    </tr>\n",
       "  </tbody>\n",
       "</table>\n",
       "</div>"
      ],
      "text/plain": [
       "                                Cases\n",
       "SuspRace                             \n",
       "BLACK                           53787\n",
       "UNKNOWN                         40903\n",
       "WHITE HISPANIC                  24545\n",
       "WHITE                           13507\n",
       "BLACK HISPANIC                   7620\n",
       "ASIAN / PACIFIC ISLANDER         4982\n",
       "AMERICAN INDIAN/ALASKAN NATIVE    314"
      ]
     },
     "execution_count": 414,
     "metadata": {},
     "output_type": "execute_result"
    }
   ],
   "source": [
    "nyc_suspRace = nyc_crime_new['SUSP_RACE'].value_counts()\n",
    "suspRace = nyc_suspRace.index.tolist()\n",
    "suspRaceCount = nyc_suspRace.tolist()\n",
    "NYC_SuspRace = pd.DataFrame()\n",
    "NYC_SuspRace['SuspRace']=suspRace\n",
    "NYC_SuspRace['Cases']=suspRaceCount\n",
    "NYC_SuspRace=NYC_SuspRace.set_index('SuspRace')\n",
    "NYC_SuspRace"
   ]
  },
  {
   "cell_type": "code",
   "execution_count": 423,
   "metadata": {},
   "outputs": [
    {
     "data": {
      "image/png": "[encoded data removed]",
      "text/plain": [
       "<Figure size 360x360 with 1 Axes>"
      ]
     },
     "metadata": {},
     "output_type": "display_data"
    }
   ],
   "source": [
    "plot = NYC_SuspRace.plot.pie(y='Cases', figsize=(5, 5))"
   ]
  },
  {
   "cell_type": "markdown",
   "metadata": {},
   "source": [
    "### FINAL DATASET ###"
   ]
  },
  {
   "cell_type": "code",
   "execution_count": null,
   "metadata": {},
   "outputs": [],
   "source": []
  },
  {
   "cell_type": "code",
   "execution_count": 288,
   "metadata": {},
   "outputs": [
    {
     "data": {
      "text/html": [
       "<div>\n",
       "<style scoped>\n",
       "    .dataframe tbody tr th:only-of-type {\n",
       "        vertical-align: middle;\n",
       "    }\n",
       "\n",
       "    .dataframe tbody tr th {\n",
       "        vertical-align: top;\n",
       "    }\n",
       "\n",
       "    .dataframe thead th {\n",
       "        text-align: right;\n",
       "    }\n",
       "</style>\n",
       "<table border=\"1\" class=\"dataframe\">\n",
       "  <thead>\n",
       "    <tr style=\"text-align: right;\">\n",
       "      <th></th>\n",
       "      <th>Period</th>\n",
       "      <th>TotalCasesNY</th>\n",
       "      <th>TotalDeathsNY</th>\n",
       "      <th>DeathRateNY</th>\n",
       "      <th>TotalCasesLA</th>\n",
       "      <th>TotalDeathsLA</th>\n",
       "      <th>DeathRateLA</th>\n",
       "      <th>JailPpltNY</th>\n",
       "      <th>JailPpltLA</th>\n",
       "      <th>EduEmplNY</th>\n",
       "      <th>EduEmplLA</th>\n",
       "      <th>CrimeNY</th>\n",
       "      <th>CrimeLA</th>\n",
       "    </tr>\n",
       "  </thead>\n",
       "  <tbody>\n",
       "    <tr>\n",
       "      <th>0</th>\n",
       "      <td>2020-01-31</td>\n",
       "      <td>0.0</td>\n",
       "      <td>0.0</td>\n",
       "      <td>0.000000</td>\n",
       "      <td>0</td>\n",
       "      <td>0</td>\n",
       "      <td>0.000000</td>\n",
       "      <td>5544.0</td>\n",
       "      <td>6035.0</td>\n",
       "      <td>246.3</td>\n",
       "      <td>173.6</td>\n",
       "      <td>38066.0</td>\n",
       "      <td>15991</td>\n",
       "    </tr>\n",
       "    <tr>\n",
       "      <th>1</th>\n",
       "      <td>2020-02-29</td>\n",
       "      <td>1.0</td>\n",
       "      <td>0.0</td>\n",
       "      <td>0.000000</td>\n",
       "      <td>147</td>\n",
       "      <td>0</td>\n",
       "      <td>0.000000</td>\n",
       "      <td>5356.0</td>\n",
       "      <td>5960.0</td>\n",
       "      <td>260.7</td>\n",
       "      <td>182.1</td>\n",
       "      <td>34961.0</td>\n",
       "      <td>16483</td>\n",
       "    </tr>\n",
       "    <tr>\n",
       "      <th>2</th>\n",
       "      <td>2020-03-31</td>\n",
       "      <td>65213.0</td>\n",
       "      <td>2193.0</td>\n",
       "      <td>0.033628</td>\n",
       "      <td>6473</td>\n",
       "      <td>94</td>\n",
       "      <td>0.014522</td>\n",
       "      <td>5195.0</td>\n",
       "      <td>6015.0</td>\n",
       "      <td>260.2</td>\n",
       "      <td>179.5</td>\n",
       "      <td>31794.0</td>\n",
       "      <td>15540</td>\n",
       "    </tr>\n",
       "    <tr>\n",
       "      <th>3</th>\n",
       "      <td>2020-04-30</td>\n",
       "      <td>109384.0</td>\n",
       "      <td>12742.0</td>\n",
       "      <td>0.116489</td>\n",
       "      <td>22006</td>\n",
       "      <td>1109</td>\n",
       "      <td>0.050395</td>\n",
       "      <td>3973.0</td>\n",
       "      <td>5798.0</td>\n",
       "      <td>226.7</td>\n",
       "      <td>166.8</td>\n",
       "      <td>24280.0</td>\n",
       "      <td>15166</td>\n",
       "    </tr>\n",
       "    <tr>\n",
       "      <th>4</th>\n",
       "      <td>2020-05-31</td>\n",
       "      <td>28481.0</td>\n",
       "      <td>2834.0</td>\n",
       "      <td>0.099505</td>\n",
       "      <td>29891</td>\n",
       "      <td>1229</td>\n",
       "      <td>0.041116</td>\n",
       "      <td>3859.0</td>\n",
       "      <td>5758.0</td>\n",
       "      <td>221.8</td>\n",
       "      <td>162.7</td>\n",
       "      <td>31233.0</td>\n",
       "      <td>16314</td>\n",
       "    </tr>\n",
       "    <tr>\n",
       "      <th>5</th>\n",
       "      <td>2020-06-30</td>\n",
       "      <td>10865.0</td>\n",
       "      <td>767.0</td>\n",
       "      <td>0.070594</td>\n",
       "      <td>52419</td>\n",
       "      <td>985</td>\n",
       "      <td>0.018791</td>\n",
       "      <td>3878.0</td>\n",
       "      <td>5620.0</td>\n",
       "      <td>212.4</td>\n",
       "      <td>157.3</td>\n",
       "      <td>29846.0</td>\n",
       "      <td>16969</td>\n",
       "    </tr>\n",
       "    <tr>\n",
       "      <th>6</th>\n",
       "      <td>2020-07-31</td>\n",
       "      <td>9783.0</td>\n",
       "      <td>356.0</td>\n",
       "      <td>0.036390</td>\n",
       "      <td>79730</td>\n",
       "      <td>1199</td>\n",
       "      <td>0.015038</td>\n",
       "      <td>3843.0</td>\n",
       "      <td>5223.0</td>\n",
       "      <td>208.9</td>\n",
       "      <td>147.9</td>\n",
       "      <td>NaN</td>\n",
       "      <td>16913</td>\n",
       "    </tr>\n",
       "    <tr>\n",
       "      <th>7</th>\n",
       "      <td>2020-08-31</td>\n",
       "      <td>7366.0</td>\n",
       "      <td>150.0</td>\n",
       "      <td>0.020364</td>\n",
       "      <td>41435</td>\n",
       "      <td>1083</td>\n",
       "      <td>0.026137</td>\n",
       "      <td>3972.0</td>\n",
       "      <td>5053.0</td>\n",
       "      <td>208.4</td>\n",
       "      <td>148.4</td>\n",
       "      <td>NaN</td>\n",
       "      <td>16573</td>\n",
       "    </tr>\n",
       "    <tr>\n",
       "      <th>8</th>\n",
       "      <td>2020-09-30</td>\n",
       "      <td>9902.0</td>\n",
       "      <td>124.0</td>\n",
       "      <td>0.012523</td>\n",
       "      <td>26308</td>\n",
       "      <td>563</td>\n",
       "      <td>0.021400</td>\n",
       "      <td>NaN</td>\n",
       "      <td>4916.0</td>\n",
       "      <td>NaN</td>\n",
       "      <td>NaN</td>\n",
       "      <td>NaN</td>\n",
       "      <td>14230</td>\n",
       "    </tr>\n",
       "  </tbody>\n",
       "</table>\n",
       "</div>"
      ],
      "text/plain": [
       "      Period  TotalCasesNY  TotalDeathsNY  DeathRateNY  TotalCasesLA  \\\n",
       "0 2020-01-31           0.0            0.0     0.000000             0   \n",
       "1 2020-02-29           1.0            0.0     0.000000           147   \n",
       "2 2020-03-31       65213.0         2193.0     0.033628          6473   \n",
       "3 2020-04-30      109384.0        12742.0     0.116489         22006   \n",
       "4 2020-05-31       28481.0         2834.0     0.099505         29891   \n",
       "5 2020-06-30       10865.0          767.0     0.070594         52419   \n",
       "6 2020-07-31        9783.0          356.0     0.036390         79730   \n",
       "7 2020-08-31        7366.0          150.0     0.020364         41435   \n",
       "8 2020-09-30        9902.0          124.0     0.012523         26308   \n",
       "\n",
       "   TotalDeathsLA  DeathRateLA  JailPpltNY  JailPpltLA  EduEmplNY  EduEmplLA  \\\n",
       "0              0     0.000000      5544.0      6035.0      246.3      173.6   \n",
       "1              0     0.000000      5356.0      5960.0      260.7      182.1   \n",
       "2             94     0.014522      5195.0      6015.0      260.2      179.5   \n",
       "3           1109     0.050395      3973.0      5798.0      226.7      166.8   \n",
       "4           1229     0.041116      3859.0      5758.0      221.8      162.7   \n",
       "5            985     0.018791      3878.0      5620.0      212.4      157.3   \n",
       "6           1199     0.015038      3843.0      5223.0      208.9      147.9   \n",
       "7           1083     0.026137      3972.0      5053.0      208.4      148.4   \n",
       "8            563     0.021400         NaN      4916.0        NaN        NaN   \n",
       "\n",
       "   CrimeNY  CrimeLA  \n",
       "0  38066.0    15991  \n",
       "1  34961.0    16483  \n",
       "2  31794.0    15540  \n",
       "3  24280.0    15166  \n",
       "4  31233.0    16314  \n",
       "5  29846.0    16969  \n",
       "6      NaN    16913  \n",
       "7      NaN    16573  \n",
       "8      NaN    14230  "
      ]
     },
     "execution_count": 288,
     "metadata": {},
     "output_type": "execute_result"
    }
   ],
   "source": [
    "final_data"
   ]
  },
  {
   "cell_type": "markdown",
   "metadata": {},
   "source": [
    "## 3. Data description ## \n",
    "Have an initial draft of your ​data description​ section.\n",
    "Your data description should be about your analysis-ready data. <br/>\n"
   ]
  },
  {
   "cell_type": "markdown",
   "metadata": {},
   "source": [
    "### Crime ###\n",
    "\n",
    "**1.Where can your raw source data be found, if applicable? Provide a link to the raw data (hosted in a C​ ornell Google Drive​ or ​Cornell Box)​ .**<br />\n",
    "- **Original Data**: The original dataset \"NYPD Complaint Data Current (Year To Date)\" is **downloaded** from \"NYC OpenData\" (website:https://data.cityofnewyork.us/Public-Safety/NYPD-Complaint-Data-Current-Year-To-Date-/5uac-w243, file: https://drive.google.com/file/d/1kFxoHkdf2S4APJQJUQzv9-lIAPo9OQmU/view?usp=sharing), which includes all valid felony, misdemeanor, and violation crimes reported to the New York City Police Department (NYPD) for all complete quarters so far (Latest Updat：Sept 30，2020） from creation (according to data analysis result, the earliest record appears to be 1969).It has 36 columns including: _The Address of reported occurance, the Level and Description of offense, the Juridistiction responsible, the information of the Victim and Suspect,etc._ Columns with less relevancy are thus excluded.\n",
    "\n",
    "**2.Columns:** <br />\n",
    "CMPLNT_FR_DT: Exact date of occurrence for the reported event (Date & Time) <br />\n",
    "OFNS_DESC: Description of offense corresponding with key code (Text) <br />\n",
    "SUSP_AGE_GROUP:\tSuspect’s Age Group (Text) <br />\n",
    "SUSP_RACE: Suspect’s Race Description (Text) <br />\n",
    "SUSP_SEX: Suspect’s Sex Description (Text) <br />\n",
    "VIC_AGE_GROUP: Victim’s Age Group (Text) <br />\n",
    "VIC_RACE: Victim’s Race Description (Text) <br />\n",
    "VIC_SEX: Victim’s Sex Description (Text) \n",
    "\n",
    "\n",
    "### Jail ###\n",
    "- **Original Data**: The original dataset is the \"Jail Population in New York State\" Average Daily Census Month data set from the Divison of Criminal Justie Servies, which have seperate tables for \"All Jail Facilities in NYS\" \"All Jail Facilities in NYC\" and by jail facilities in each Counties. Here,we only need the \"All Jail Facilities in NYC\" table.The totaal jail population is \"Census\", and breaks down into \"Boarded out\" \"Boarded in\", and \"In House\".For here, the division in residency in facilities is not our focus, so we temporarily just extrated the census number. \n",
    "(Website:https://www.criminaljustice.ny.gov/crimnet/ojsa/jail_population.pdf; File: https://drive.google.com/file/d/1tlWobcxq3Ul4PJDMArlXauVLpkLSaKyi/view?usp=sharing)\n",
    "\n"
   ]
  },
  {
   "cell_type": "markdown",
   "metadata": {},
   "source": [
    "#### Final Draft Requirement ####\n",
    "This should be inspired by the format presented in https://arxiv.org/abs/1803.09010. \n",
    "Answer the following questions:\n",
    "- What are the observations (rows) and the attributes (columns)?\n",
    "     \n",
    "- Why was this dataset created?\n",
    "- Who funded the creation of the dataset?\n",
    "- What processes might have influenced what data was observed and recorded and what was not?\n",
    "- What preprocessing was done, and how did the data come to be in the form that you are using?\n",
    "- If people are involved, were they aware of the data collection and if so, what purpose did they expect the data to be used for?\n",
    "- Where can your raw source data be found, if applicable? Provide a link to the raw data (hosted in a C​ ornell Google Drive​ or ​Cornell Box)​ ."
   ]
  },
  {
   "cell_type": "markdown",
   "metadata": {},
   "source": [
    "There are mainly nine rows indicating the first nine months of 2020. There are many columns covering a variety of covariates that will contribute to the analysis between the two cities New York and Los Angeles:\n",
    "- COVID variables: \n",
    "- Criminal variables:\n",
    "    - CrimeNY: number of crime cases in NYC per month\n",
    "    - CrimeLA: number of crime cases in LAC per month\n",
    "- Economic variables：\n",
    "    - GovEmplNY: number of local government employees in thousands in NY per month\n",
    "- Demographic variables："
   ]
  },
  {
   "cell_type": "code",
   "execution_count": null,
   "metadata": {},
   "outputs": [],
   "source": []
  },
  {
   "cell_type": "code",
   "execution_count": null,
   "metadata": {},
   "outputs": [],
   "source": []
  },
  {
   "cell_type": "markdown",
   "metadata": {},
   "source": [
    "## 4. Data limitations ## \n",
    "Identify any potential problems with your dataset."
   ]
  },
  {
   "cell_type": "markdown",
   "metadata": {},
   "source": [
    "#### Final Draft Requirement ####\n",
    "\n",
    "- What are the limitations of your study? What are the biases in your data or assumptions of your analyses that specifically affect the conclusions you’re able to draw?"
   ]
  },
  {
   "cell_type": "markdown",
   "metadata": {},
   "source": [
    "1. Assumes the reliability/authenticity of data sources\n",
    "2. assume zero covid cases before dataentry due to lack of data"
   ]
  },
  {
   "cell_type": "code",
   "execution_count": null,
   "metadata": {},
   "outputs": [],
   "source": []
  },
  {
   "cell_type": "code",
   "execution_count": null,
   "metadata": {},
   "outputs": [],
   "source": []
  },
  {
   "cell_type": "markdown",
   "metadata": {},
   "source": [
    "## 5. Exploratory data analysis ## \n",
    "Perform an (initial) exploratory data analysis."
   ]
  },
  {
   "cell_type": "code",
   "execution_count": 340,
   "metadata": {},
   "outputs": [
    {
     "data": {
      "text/html": [
       "<div>\n",
       "<style scoped>\n",
       "    .dataframe tbody tr th:only-of-type {\n",
       "        vertical-align: middle;\n",
       "    }\n",
       "\n",
       "    .dataframe tbody tr th {\n",
       "        vertical-align: top;\n",
       "    }\n",
       "\n",
       "    .dataframe thead th {\n",
       "        text-align: right;\n",
       "    }\n",
       "</style>\n",
       "<table border=\"1\" class=\"dataframe\">\n",
       "  <thead>\n",
       "    <tr style=\"text-align: right;\">\n",
       "      <th></th>\n",
       "      <th>Period</th>\n",
       "      <th>CrimeNY</th>\n",
       "      <th>TotalCasesNY</th>\n",
       "      <th>CrimeLA</th>\n",
       "      <th>TotalCasesLA</th>\n",
       "    </tr>\n",
       "  </thead>\n",
       "  <tbody>\n",
       "    <tr>\n",
       "      <th>0</th>\n",
       "      <td>2020-01-31</td>\n",
       "      <td>38066.0</td>\n",
       "      <td>0.0</td>\n",
       "      <td>15991</td>\n",
       "      <td>0</td>\n",
       "    </tr>\n",
       "    <tr>\n",
       "      <th>1</th>\n",
       "      <td>2020-02-29</td>\n",
       "      <td>34961.0</td>\n",
       "      <td>1.0</td>\n",
       "      <td>16483</td>\n",
       "      <td>147</td>\n",
       "    </tr>\n",
       "    <tr>\n",
       "      <th>2</th>\n",
       "      <td>2020-03-31</td>\n",
       "      <td>31794.0</td>\n",
       "      <td>65213.0</td>\n",
       "      <td>15540</td>\n",
       "      <td>6473</td>\n",
       "    </tr>\n",
       "    <tr>\n",
       "      <th>3</th>\n",
       "      <td>2020-04-30</td>\n",
       "      <td>24280.0</td>\n",
       "      <td>109384.0</td>\n",
       "      <td>15166</td>\n",
       "      <td>22006</td>\n",
       "    </tr>\n",
       "    <tr>\n",
       "      <th>4</th>\n",
       "      <td>2020-05-31</td>\n",
       "      <td>31233.0</td>\n",
       "      <td>28481.0</td>\n",
       "      <td>16314</td>\n",
       "      <td>29891</td>\n",
       "    </tr>\n",
       "    <tr>\n",
       "      <th>5</th>\n",
       "      <td>2020-06-30</td>\n",
       "      <td>29846.0</td>\n",
       "      <td>10865.0</td>\n",
       "      <td>16969</td>\n",
       "      <td>52419</td>\n",
       "    </tr>\n",
       "    <tr>\n",
       "      <th>6</th>\n",
       "      <td>2020-07-31</td>\n",
       "      <td>NaN</td>\n",
       "      <td>9783.0</td>\n",
       "      <td>16913</td>\n",
       "      <td>79730</td>\n",
       "    </tr>\n",
       "    <tr>\n",
       "      <th>7</th>\n",
       "      <td>2020-08-31</td>\n",
       "      <td>NaN</td>\n",
       "      <td>7366.0</td>\n",
       "      <td>16573</td>\n",
       "      <td>41435</td>\n",
       "    </tr>\n",
       "    <tr>\n",
       "      <th>8</th>\n",
       "      <td>2020-09-30</td>\n",
       "      <td>NaN</td>\n",
       "      <td>9902.0</td>\n",
       "      <td>14230</td>\n",
       "      <td>26308</td>\n",
       "    </tr>\n",
       "  </tbody>\n",
       "</table>\n",
       "</div>"
      ],
      "text/plain": [
       "      Period  CrimeNY  TotalCasesNY  CrimeLA  TotalCasesLA\n",
       "0 2020-01-31  38066.0           0.0    15991             0\n",
       "1 2020-02-29  34961.0           1.0    16483           147\n",
       "2 2020-03-31  31794.0       65213.0    15540          6473\n",
       "3 2020-04-30  24280.0      109384.0    15166         22006\n",
       "4 2020-05-31  31233.0       28481.0    16314         29891\n",
       "5 2020-06-30  29846.0       10865.0    16969         52419\n",
       "6 2020-07-31      NaN        9783.0    16913         79730\n",
       "7 2020-08-31      NaN        7366.0    16573         41435\n",
       "8 2020-09-30      NaN        9902.0    14230         26308"
      ]
     },
     "execution_count": 340,
     "metadata": {},
     "output_type": "execute_result"
    }
   ],
   "source": [
    "crime_covid = pd.DataFrame()\n",
    "crime_covid = final_data[['Period','CrimeNY','TotalCasesNY','CrimeLA','TotalCasesLA']]\n",
    "crime_covid"
   ]
  },
  {
   "cell_type": "code",
   "execution_count": 341,
   "metadata": {},
   "outputs": [
    {
     "name": "stderr",
     "output_type": "stream",
     "text": [
      "/Users/aurorazhang/anaconda3/envs/info2950/lib/python3.7/site-packages/ipykernel_launcher.py:3: SettingWithCopyWarning: \n",
      "A value is trying to be set on a copy of a slice from a DataFrame.\n",
      "Try using .loc[row_indexer,col_indexer] = value instead\n",
      "\n",
      "See the caveats in the documentation: https://pandas.pydata.org/pandas-docs/stable/user_guide/indexing.html#returning-a-view-versus-a-copy\n",
      "  This is separate from the ipykernel package so we can avoid doing imports until\n"
     ]
    },
    {
     "data": {
      "image/png": "[encoded data removed]",
      "text/plain": [
       "<Figure size 432x288 with 1 Axes>"
      ]
     },
     "metadata": {
      "needs_background": "light"
     },
     "output_type": "display_data"
    }
   ],
   "source": [
    "import matplotlib.pyplot as plt\n",
    "# To shorten 'Period'\n",
    "crime_covid['Period'] = crime_covid['Period'].dt.strftime('%m-%d')\n",
    "\n",
    "plt.plot(crime_covid['Period'],crime_covid['CrimeNY'],label='NYC Complaint')\n",
    "plt.plot(crime_covid['Period'],crime_covid['CrimeLA'],label = 'LA Complaint')\n",
    "\n",
    "plt.title('Monthly Number of Complaints of NYC and LA,2020')\n",
    "plt.xlabel('Period-Month')\n",
    "plt.ylabel('Number of Complaints')\n",
    "plt.legend()\n",
    "plt.show()"
   ]
  },
  {
   "cell_type": "code",
   "execution_count": 347,
   "metadata": {},
   "outputs": [
    {
     "name": "stdout",
     "output_type": "stream",
     "text": [
      "The mean and median of complaints number  per month in NYC from January to June is 31697 and 31514.\n",
      "The mean number of complaints per month in LA from January to June is 16077 and 16152.\n",
      "The variance of monthly complaints nunber in NYC from month 1- 6 is 21976130.27.\n",
      "The variance of monthly complaints nunber in LA from month 1- 6 is 428470.97.\n"
     ]
    }
   ],
   "source": [
    "nyc=crime_sum['CrimeNY']\n",
    "la=crime_sum['CrimeLA']\n",
    "\n",
    "\n",
    "nyc_mean = nyc.mean()\n",
    "nyc_median = nyc.median()\n",
    "nyc_var = nyc.var()\n",
    "# We'll only calculate mean and median for month 1-6 for LA.\n",
    "la_sub = la.drop([6,7,8])\n",
    "la_mean = la_sub.mean()\n",
    "la_median = la_sub.median()\n",
    "la_var = la_sub.var()\n",
    "print('The mean and median of complaints number  per month in NYC from January to June is {:.0f} and {:.0f}.'.format(nyc_mean,nyc_median))\n",
    "print('The mean number of complaints per month in LA from January to June is {:.0f} and {:.0f}.'.format(la_mean,la_median))\n",
    "print('The variance of monthly complaints nunber in NYC from month 1- 6 is {:.2f}.'.format(nyc_var) )\n",
    "print('The variance of monthly complaints nunber in LA from month 1- 6 is {:.2f}.'.format(la_var) )\n",
    "\n",
    "\n",
    "\n",
    "\n"
   ]
  },
  {
   "cell_type": "markdown",
   "metadata": {},
   "source": [
    "**Observation:**\n",
    "Curve of number of compaints is generally pretty flat for LA, which contracdicts a lot with the curve of NYC. Which can also be seen from the comparison of NYC's variance with LA.The magnitude of NYC's mean and LA's mean would largely dependent on the size of city, and thus less helpful with the analysis here."
   ]
  },
  {
   "cell_type": "code",
   "execution_count": 361,
   "metadata": {},
   "outputs": [
    {
     "data": {
      "image/png": "[encoded data removed]",
      "text/plain": [
       "<Figure size 432x288 with 1 Axes>"
      ]
     },
     "metadata": {
      "needs_background": "light"
     },
     "output_type": "display_data"
    }
   ],
   "source": [
    "plt.plot(crime_covid['Period'],crime_covid['CrimeNY'],label='NYC Complaint')\n",
    "plt.plot(crime_covid['Period'],crime_covid['TotalCasesNY'],'--',label = 'NYC Cases')\n",
    "\n",
    "\n",
    "plt.title('Number of Crime Complaints and Covid Cases in NYC, 2020 ')\n",
    "plt.xlabel('Period-Month')\n",
    "plt.ylabel('Number of Complaints/Covid-19 Cases')\n",
    "plt.legend()\n",
    "plt.show()"
   ]
  },
  {
   "cell_type": "code",
   "execution_count": 348,
   "metadata": {},
   "outputs": [
    {
     "name": "stdout",
     "output_type": "stream",
     "text": [
      "The covariance between NYC crime complaints and confirmed covid cases is -167645437.47,\n",
      "The correlation between NYC crime complaints and confirmed covid cases is -0.82,\n"
     ]
    }
   ],
   "source": [
    "nyc_covid = crime_covid['TotalCasesNY']\n",
    "crime_cov_covid_nyc = nyc.cov(nyc_covid)\n",
    "crime_corr_covid_nyc = nyc.corr(nyc_covid)\n",
    "print('The covariance between NYC crime complaints and confirmed covid cases is {:.2f},'.format(crime_cov_covid_nyc))\n",
    "print('The correlation between NYC crime complaints and confirmed covid cases is {:.2f},'.format(crime_corr_covid_nyc))\n",
    "\n"
   ]
  },
  {
   "cell_type": "code",
   "execution_count": 362,
   "metadata": {},
   "outputs": [
    {
     "data": {
      "image/png": "[encoded data removed]",
      "text/plain": [
       "<Figure size 432x288 with 1 Axes>"
      ]
     },
     "metadata": {
      "needs_background": "light"
     },
     "output_type": "display_data"
    }
   ],
   "source": [
    "plt.plot(crime_covid['Period'],crime_covid['CrimeLA'],'g',label='LA Complaint')\n",
    "plt.plot(crime_covid['Period'],crime_covid['TotalCasesLA'],'c--',label = 'LA Cases')\n",
    "\n",
    "\n",
    "plt.title('Number of Crime Complaints and Covid Cases in LA, 2020')\n",
    "plt.xlabel('Period-Month')\n",
    "plt.ylabel('Number of Complaints/Covid-19 Cases')\n",
    "plt.legend()\n",
    "plt.show()"
   ]
  },
  {
   "cell_type": "code",
   "execution_count": 349,
   "metadata": {},
   "outputs": [
    {
     "name": "stdout",
     "output_type": "stream",
     "text": [
      "The covariance between LA crime complaints and confirmed covid cases is 10468914.89,\n",
      "The correlation between LA crime complaints and confirmed covid cases is 0.44,\n"
     ]
    }
   ],
   "source": [
    "la_covid = crime_covid['TotalCasesLA']\n",
    "crime_cov_covid_la = la.cov(la_covid)\n",
    "crime_corr_covid_la = la.corr(la_covid)\n",
    "print('The covariance between LA crime complaints and confirmed covid cases is {:.2f},'.format(crime_cov_covid_la))\n",
    "print('The correlation between LA crime complaints and confirmed covid cases is {:.2f},'.format(crime_corr_covid_la))\n",
    "\n"
   ]
  },
  {
   "cell_type": "markdown",
   "metadata": {},
   "source": [
    "**Observation:**\n",
    "NYC crime complaints and covid cases apeear to be negatively correlated, and the relationship is strong.The high correlation score approves the pattern of change in this two variables is very close to each other.<br/>\n",
    "**On the other hand**, the correlation betwwen crime complaints and covid cases seem to be weak; And the covariance is positive, meaning that the direction of change is the same, producing an anti-intuitive observation:that as covid-cases rise, the crime rate in LA increases on average?"
   ]
  },
  {
   "cell_type": "markdown",
   "metadata": {},
   "source": [
    "**Explore Crime,Jail and Covid **"
   ]
  },
  {
   "cell_type": "code",
   "execution_count": 369,
   "metadata": {},
   "outputs": [
    {
     "name": "stderr",
     "output_type": "stream",
     "text": [
      "/Users/aurorazhang/anaconda3/envs/info2950/lib/python3.7/site-packages/ipykernel_launcher.py:5: SettingWithCopyWarning: \n",
      "A value is trying to be set on a copy of a slice from a DataFrame.\n",
      "Try using .loc[row_indexer,col_indexer] = value instead\n",
      "\n",
      "See the caveats in the documentation: https://pandas.pydata.org/pandas-docs/stable/user_guide/indexing.html#returning-a-view-versus-a-copy\n",
      "  \"\"\"\n"
     ]
    },
    {
     "data": {
      "text/html": [
       "<div>\n",
       "<style scoped>\n",
       "    .dataframe tbody tr th:only-of-type {\n",
       "        vertical-align: middle;\n",
       "    }\n",
       "\n",
       "    .dataframe tbody tr th {\n",
       "        vertical-align: top;\n",
       "    }\n",
       "\n",
       "    .dataframe thead th {\n",
       "        text-align: right;\n",
       "    }\n",
       "</style>\n",
       "<table border=\"1\" class=\"dataframe\">\n",
       "  <thead>\n",
       "    <tr style=\"text-align: right;\">\n",
       "      <th></th>\n",
       "      <th>Period</th>\n",
       "      <th>CrimeNY</th>\n",
       "      <th>JailPpltNY</th>\n",
       "      <th>TotalCasesNY</th>\n",
       "      <th>CrimeLA</th>\n",
       "      <th>JailPpltLA</th>\n",
       "      <th>TotalCasesLA</th>\n",
       "    </tr>\n",
       "  </thead>\n",
       "  <tbody>\n",
       "    <tr>\n",
       "      <th>0</th>\n",
       "      <td>01-31</td>\n",
       "      <td>38066.0</td>\n",
       "      <td>5544.0</td>\n",
       "      <td>0.0</td>\n",
       "      <td>15991</td>\n",
       "      <td>6035.0</td>\n",
       "      <td>0</td>\n",
       "    </tr>\n",
       "    <tr>\n",
       "      <th>1</th>\n",
       "      <td>02-29</td>\n",
       "      <td>34961.0</td>\n",
       "      <td>5356.0</td>\n",
       "      <td>1.0</td>\n",
       "      <td>16483</td>\n",
       "      <td>5960.0</td>\n",
       "      <td>147</td>\n",
       "    </tr>\n",
       "    <tr>\n",
       "      <th>2</th>\n",
       "      <td>03-31</td>\n",
       "      <td>31794.0</td>\n",
       "      <td>5195.0</td>\n",
       "      <td>65213.0</td>\n",
       "      <td>15540</td>\n",
       "      <td>6015.0</td>\n",
       "      <td>6473</td>\n",
       "    </tr>\n",
       "    <tr>\n",
       "      <th>3</th>\n",
       "      <td>04-30</td>\n",
       "      <td>24280.0</td>\n",
       "      <td>3973.0</td>\n",
       "      <td>109384.0</td>\n",
       "      <td>15166</td>\n",
       "      <td>5798.0</td>\n",
       "      <td>22006</td>\n",
       "    </tr>\n",
       "    <tr>\n",
       "      <th>4</th>\n",
       "      <td>05-31</td>\n",
       "      <td>31233.0</td>\n",
       "      <td>3859.0</td>\n",
       "      <td>28481.0</td>\n",
       "      <td>16314</td>\n",
       "      <td>5758.0</td>\n",
       "      <td>29891</td>\n",
       "    </tr>\n",
       "    <tr>\n",
       "      <th>5</th>\n",
       "      <td>06-30</td>\n",
       "      <td>29846.0</td>\n",
       "      <td>3878.0</td>\n",
       "      <td>10865.0</td>\n",
       "      <td>16969</td>\n",
       "      <td>5620.0</td>\n",
       "      <td>52419</td>\n",
       "    </tr>\n",
       "    <tr>\n",
       "      <th>6</th>\n",
       "      <td>07-31</td>\n",
       "      <td>NaN</td>\n",
       "      <td>3843.0</td>\n",
       "      <td>9783.0</td>\n",
       "      <td>16913</td>\n",
       "      <td>5223.0</td>\n",
       "      <td>79730</td>\n",
       "    </tr>\n",
       "    <tr>\n",
       "      <th>7</th>\n",
       "      <td>08-31</td>\n",
       "      <td>NaN</td>\n",
       "      <td>3972.0</td>\n",
       "      <td>7366.0</td>\n",
       "      <td>16573</td>\n",
       "      <td>5053.0</td>\n",
       "      <td>41435</td>\n",
       "    </tr>\n",
       "    <tr>\n",
       "      <th>8</th>\n",
       "      <td>09-30</td>\n",
       "      <td>NaN</td>\n",
       "      <td>NaN</td>\n",
       "      <td>9902.0</td>\n",
       "      <td>14230</td>\n",
       "      <td>4916.0</td>\n",
       "      <td>26308</td>\n",
       "    </tr>\n",
       "  </tbody>\n",
       "</table>\n",
       "</div>"
      ],
      "text/plain": [
       "  Period  CrimeNY  JailPpltNY  TotalCasesNY  CrimeLA  JailPpltLA  TotalCasesLA\n",
       "0  01-31  38066.0      5544.0           0.0    15991      6035.0             0\n",
       "1  02-29  34961.0      5356.0           1.0    16483      5960.0           147\n",
       "2  03-31  31794.0      5195.0       65213.0    15540      6015.0          6473\n",
       "3  04-30  24280.0      3973.0      109384.0    15166      5798.0         22006\n",
       "4  05-31  31233.0      3859.0       28481.0    16314      5758.0         29891\n",
       "5  06-30  29846.0      3878.0       10865.0    16969      5620.0         52419\n",
       "6  07-31      NaN      3843.0        9783.0    16913      5223.0         79730\n",
       "7  08-31      NaN      3972.0        7366.0    16573      5053.0         41435\n",
       "8  09-30      NaN         NaN        9902.0    14230      4916.0         26308"
      ]
     },
     "execution_count": 369,
     "metadata": {},
     "output_type": "execute_result"
    }
   ],
   "source": [
    "crime_jail_covid= pd.DataFrame()\n",
    "crime_jail_covid = final_data[['Period','CrimeNY','JailPpltNY','TotalCasesNY','CrimeLA','JailPpltLA','TotalCasesLA']]\n",
    "\n",
    "# To shorten 'Period'\n",
    "crime_jail_covid['Period'] = crime_jail_covid['Period'].dt.strftime('%m-%d')\n",
    "crime_jail_covid"
   ]
  },
  {
   "cell_type": "code",
   "execution_count": 370,
   "metadata": {},
   "outputs": [
    {
     "data": {
      "image/png": "[encoded data removed]",
      "text/plain": [
       "<Figure size 432x288 with 1 Axes>"
      ]
     },
     "metadata": {
      "needs_background": "light"
     },
     "output_type": "display_data"
    }
   ],
   "source": [
    "#plt.plot(crime_jail_covid['Period'],crime_jail_covid['CrimeNY'],'g',label='NYC Complaint')\n",
    "\n",
    "plt.plot(crime_jail_covid['Period'],crime_jail_covid['JailPpltNY'],'c--',label = 'NYC Jail Ppl')\n",
    "plt.plot(crime_jail_covid['Period'],crime_jail_covid['JailPpltLA'],'r--',label = 'LA Jail Ppl')\n",
    "\n",
    "plt.title('Jail Population: NYC & LA,2020')\n",
    "plt.xlabel('Period-Month')\n",
    "plt.ylabel('Jail Population')\n",
    "plt.legend()\n",
    "plt.show()"
   ]
  },
  {
   "cell_type": "code",
   "execution_count": 385,
   "metadata": {},
   "outputs": [
    {
     "data": {
      "image/png": "[encoded data removed]",
      "text/plain": [
       "<Figure size 432x288 with 1 Axes>"
      ]
     },
     "metadata": {
      "needs_background": "light"
     },
     "output_type": "display_data"
    }
   ],
   "source": [
    "# To see visually how similar/different the pattern of change of the two variables, \n",
    "# we chose to reduce the magnitude of NYcases\n",
    "case_NY_reduced = crime_jail_covid['TotalCasesNY']/25\n",
    "plt.plot(crime_jail_covid['Period'],crime_jail_covid['JailPpltNY'],'c--',label = 'NYC Jail Ppl')\n",
    "plt.plot(crime_jail_covid['Period'],case_NY_reduced,'y',label = 'NYC Cases')\n",
    "\n",
    "plt.title('Jail Population and Crime Complaints in NYC:2020')\n",
    "plt.xlabel('Period-Month')\n",
    "plt.ylabel('Jail Population*25 /Number of Crime Complaints')\n",
    "plt.legend()\n",
    "plt.show()"
   ]
  },
  {
   "cell_type": "code",
   "execution_count": 386,
   "metadata": {},
   "outputs": [
    {
     "data": {
      "image/png": "[encoded data removed]",
      "text/plain": [
       "<Figure size 432x288 with 1 Axes>"
      ]
     },
     "metadata": {
      "needs_background": "light"
     },
     "output_type": "display_data"
    }
   ],
   "source": [
    "case_LA_reduced = crime_jail_covid['TotalCasesLA']/25\n",
    "plt.plot(crime_jail_covid['Period'],crime_jail_covid['JailPpltLA'],'m--',label = 'LA Jail Ppl')\n",
    "plt.plot(crime_jail_covid['Period'],case_LA_reduced,'y',label = 'LA Cases')\n",
    "\n",
    "plt.title('Jail Population and Crime Complaints in Wiciconssin:2020')\n",
    "plt.xlabel('Period-Month')\n",
    "plt.ylabel('Jail Population*25 /Number of Crime Complaints')\n",
    "plt.legend()\n",
    "plt.show()"
   ]
  },
  {
   "cell_type": "markdown",
   "metadata": {},
   "source": [
    "#### Final Draft Requirement ####\n",
    "\n",
    "- Use summary functions like mean and standard deviation along with visual displays like scatterplots and histograms to describe data.\n",
    "- Provide at least one model showing patterns or relationships between variables that addresses your research question. This could be a regression or clustering, or something else that measures some property of the dataset."
   ]
  },
  {
   "cell_type": "code",
   "execution_count": null,
   "metadata": {},
   "outputs": [],
   "source": []
  },
  {
   "cell_type": "code",
   "execution_count": null,
   "metadata": {},
   "outputs": [],
   "source": []
  },
  {
   "cell_type": "code",
   "execution_count": null,
   "metadata": {},
   "outputs": [],
   "source": []
  },
  {
   "cell_type": "markdown",
   "metadata": {},
   "source": [
    "## 6. Questions for reviewers ## \n",
    "List specific questions for your peer reviewers and project mentor to answer in giving you feedback on this phase."
   ]
  },
  {
   "cell_type": "code",
   "execution_count": null,
   "metadata": {},
   "outputs": [],
   "source": []
  },
  {
   "cell_type": "code",
   "execution_count": null,
   "metadata": {},
   "outputs": [],
   "source": []
  },
  {
   "cell_type": "code",
   "execution_count": null,
   "metadata": {},
   "outputs": [],
   "source": []
  }
 ],
 "metadata": {
  "kernelspec": {
   "display_name": "Python 3",
   "language": "python",
   "name": "python3"
  },
  "language_info": {
   "codemirror_mode": {
    "name": "ipython",
    "version": 3
   },
   "file_extension": ".py",
   "mimetype": "text/x-python",
   "name": "python",
   "nbconvert_exporter": "python",
   "pygments_lexer": "ipython3",
   "version": "3.8.5"
  }
 },
 "nbformat": 4,
 "nbformat_minor": 4
}
