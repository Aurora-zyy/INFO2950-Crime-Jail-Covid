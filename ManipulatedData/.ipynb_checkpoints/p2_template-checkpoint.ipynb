{
 "cells": [
  {
   "cell_type": "markdown",
   "metadata": {},
   "source": [
    "- Team: Hangyu Zhou (hz477) , Evian Liu (yl2867) , YingYun Zhang (yz549) , Yang Zhao (yz563)\n",
    "- Github repository link: https://github.coecis.cornell.edu/yl2867/INFO2950_Project.git\n",
    "- Rubric: https://docs.google.com/document/d/1W3mPBOMhM9SD3oym2LG3NLyB78jG-Kmv9egM3B_EObg/edit"
   ]
  },
  {
   "cell_type": "markdown",
   "metadata": {},
   "source": [
    "# Phase IV:  #\n",
    "#### Due Nov 23. ####\n",
    "- Submit an executed Jupyter notebook (.ipynb) file​ on CMS, with all of the required elements,as detailed in the deliverables section above. Includea “Questions for reviewers” section at the end of your submission, listing specific questions for your peer reviewers and project mentor to answer in giving you feedback on this phase.\n",
    "- We often find that the moment we \"finish\" a project is also the time when we have the most ideas about how to continue it. The goal of this phase is to create a version of your project that could be complete, but with enough time remaining that you can revisit your analysis, fill in gaps, and continue logical extensions.\n",
    "- You will provide peer review for other groups' submissions."
   ]
  },
  {
   "cell_type": "markdown",
   "metadata": {},
   "source": [
    "## 1. Research question(s) ## \n",
    "State your research question (s) clearly."
   ]
  },
  {
   "cell_type": "markdown",
   "metadata": {},
   "source": [
    "By comparing the metropolitan cities of East and West Coast, observe how crime rate and employment changes of various industries behave in response to COVID pandemic intensity."
   ]
  },
  {
   "cell_type": "markdown",
   "metadata": {},
   "source": [
    "## 2. Data cleaning ## \n",
    "Have an initial draft of your data cleaning appendix.\n",
    "Document every step that takes your raw data file(s) and turns it into the analysis-ready data set that you would submit with your final project. \n",
    "All of your data cleaning code should be found in this section, and you may want to explain the steps of your data cleaning in words as well."
   ]
  },
  {
   "cell_type": "markdown",
   "metadata": {},
   "source": [
    "#### Final Draft Requirement ####\n",
    "\n",
    "- Data cleaning description. Submit an updated version of your data cleaning description from phase II that describes all data cleaning steps performed on your raw data to turn it into the analysis-read dataset submitted with your final project. The data cleaning description should be a separate Jupyter notebook with executed cells, and it should output the dataset you submit as part of your project (e.g. written as a .csv file)."
   ]
  },
  {
   "cell_type": "markdown",
   "metadata": {},
   "source": [
    "### IMPORT DATA ###"
   ]
  },
  {
   "cell_type": "code",
   "execution_count": 1,
   "metadata": {},
   "outputs": [],
   "source": [
    "# import packages\n",
    "import pandas as pd\n",
    "import numpy as np\n",
    "import datetime\n",
    "from matplotlib import pyplot as plt"
   ]
  },
  {
   "cell_type": "code",
   "execution_count": 2,
   "metadata": {},
   "outputs": [
    {
     "data": {
      "text/html": [
       "<div>\n",
       "<style scoped>\n",
       "    .dataframe tbody tr th:only-of-type {\n",
       "        vertical-align: middle;\n",
       "    }\n",
       "\n",
       "    .dataframe tbody tr th {\n",
       "        vertical-align: top;\n",
       "    }\n",
       "\n",
       "    .dataframe thead th {\n",
       "        text-align: right;\n",
       "    }\n",
       "</style>\n",
       "<table border=\"1\" class=\"dataframe\">\n",
       "  <thead>\n",
       "    <tr style=\"text-align: right;\">\n",
       "      <th></th>\n",
       "      <th>Period</th>\n",
       "    </tr>\n",
       "  </thead>\n",
       "  <tbody>\n",
       "    <tr>\n",
       "      <th>0</th>\n",
       "      <td>2020-01-31</td>\n",
       "    </tr>\n",
       "    <tr>\n",
       "      <th>1</th>\n",
       "      <td>2020-02-29</td>\n",
       "    </tr>\n",
       "    <tr>\n",
       "      <th>2</th>\n",
       "      <td>2020-03-31</td>\n",
       "    </tr>\n",
       "    <tr>\n",
       "      <th>3</th>\n",
       "      <td>2020-04-30</td>\n",
       "    </tr>\n",
       "    <tr>\n",
       "      <th>4</th>\n",
       "      <td>2020-05-31</td>\n",
       "    </tr>\n",
       "    <tr>\n",
       "      <th>5</th>\n",
       "      <td>2020-06-30</td>\n",
       "    </tr>\n",
       "    <tr>\n",
       "      <th>6</th>\n",
       "      <td>2020-07-31</td>\n",
       "    </tr>\n",
       "    <tr>\n",
       "      <th>7</th>\n",
       "      <td>2020-08-31</td>\n",
       "    </tr>\n",
       "    <tr>\n",
       "      <th>8</th>\n",
       "      <td>2020-09-30</td>\n",
       "    </tr>\n",
       "  </tbody>\n",
       "</table>\n",
       "</div>"
      ],
      "text/plain": [
       "      Period\n",
       "0 2020-01-31\n",
       "1 2020-02-29\n",
       "2 2020-03-31\n",
       "3 2020-04-30\n",
       "4 2020-05-31\n",
       "5 2020-06-30\n",
       "6 2020-07-31\n",
       "7 2020-08-31\n",
       "8 2020-09-30"
      ]
     },
     "execution_count": 2,
     "metadata": {},
     "output_type": "execute_result"
    }
   ],
   "source": [
    "# initialize final dataset\n",
    "final_data = pd.DataFrame() \n",
    "time_lst = pd.date_range(start='1/1/2020', periods=9, freq='M').tolist()\n",
    "final_data['Period'] = time_lst\n",
    "final_data"
   ]
  },
  {
   "cell_type": "code",
   "execution_count": 3,
   "metadata": {},
   "outputs": [],
   "source": [
    "# Data cleaning helper function\n",
    "def DataCleaning(dataname, colname):\n",
    "    \"\"\"\n",
    "    Requires dataname: a file have only 2 rows, columns from \"Jan\" to \"Dec\"\n",
    "    Returns: an updated version of final_data, with <colname>\n",
    "    \"\"\"\n",
    "    # import data\n",
    "    temp_data = pd.read_csv(dataname)\n",
    "    \n",
    "    # add subset total pplt only to combine data\n",
    "    final_data[colname] = pd.Series(temp_data.loc[1, \"Jan\":\"Sep\"].tolist())"
   ]
  },
  {
   "cell_type": "markdown",
   "metadata": {},
   "source": [
    "### a. Covid ###\n",
    "- imported datasets are manually edited to condense and format for further data cleaning, including:\n",
    "    - date colunm was manually formated to consistent date\n",
    "    - turn rest of columns datatype to numbers"
   ]
  },
  {
   "cell_type": "code",
   "execution_count": 4,
   "metadata": {},
   "outputs": [],
   "source": [
    "# import NY maniputed data\n",
    "covid_ny = pd.read_csv(\"NYC_covid.csv\")"
   ]
  },
  {
   "cell_type": "code",
   "execution_count": 5,
   "metadata": {},
   "outputs": [],
   "source": [
    "# reformate date types\n",
    "covid_ny['DATE_OF_INTEREST'] = covid_ny['DATE_OF_INTEREST'].apply(pd.to_datetime, utc=True)\n",
    "\n",
    "# obtain month and day data to help locate obtaining end-of-month rows\n",
    "covid_ny['months'] = covid_ny['DATE_OF_INTEREST'].dt.strftime('%m')"
   ]
  },
  {
   "cell_type": "code",
   "execution_count": 6,
   "metadata": {},
   "outputs": [],
   "source": [
    "# Obtain cumulative monthly data, and adjust rows for subset data\n",
    "covidNY_sum = covid_ny.groupby('months').sum()   # sum cases for cumulative monthly data\n",
    "\n",
    "new_row = pd.DataFrame({'CASE_COUNT':0, 'HOSPITALIZED_COUNT':0, 'DEATH_COUNT':0}, index =[0])\n",
    "covidNY_sum = pd.concat([new_row, covidNY_sum]).reset_index(drop = True)  # add Jan data\n",
    "covidNY_sum = covidNY_sum.loc[0:8]  # drop October incomplete data"
   ]
  },
  {
   "cell_type": "code",
   "execution_count": 7,
   "metadata": {},
   "outputs": [],
   "source": [
    "# add subset total counts to combine data\n",
    "final_data[\"TotalCasesNY\"] = covidNY_sum['CASE_COUNT']\n",
    "final_data[\"TotalDeathsNY\"] = covidNY_sum['DEATH_COUNT']\n",
    "final_data[\"DeathRateNY\"] = (final_data['TotalDeathsNY'] / final_data['TotalCasesNY']).fillna(0)"
   ]
  },
  {
   "cell_type": "markdown",
   "metadata": {},
   "source": [
    "  "
   ]
  },
  {
   "cell_type": "code",
   "execution_count": 8,
   "metadata": {
    "scrolled": true
   },
   "outputs": [],
   "source": [
    "# import LA maniputed data\n",
    "covid_la = pd.read_csv(\"LA_county_covid.csv\")"
   ]
  },
  {
   "cell_type": "code",
   "execution_count": 9,
   "metadata": {},
   "outputs": [],
   "source": [
    "# reformate date types\n",
    "covid_la['date_use'] = covid_la['date_use'].apply(pd.to_datetime, utc=True)\n",
    "\n",
    "# obtain month and day data to help locate obtaining end-of-month rows\n",
    "covid_la['months'] = covid_la['date_use'].dt.strftime('%m')"
   ]
  },
  {
   "cell_type": "code",
   "execution_count": 10,
   "metadata": {},
   "outputs": [],
   "source": [
    "# Obtain cumulative monthly data, and adjust rows for subset data\n",
    "covidLA_sum = covid_la.groupby('months').sum()   # sum cases for cumulative monthly data\n",
    "covidLA_sum = covidLA_sum[['new_case', 'new_deaths']]  \n",
    "\n",
    "feb_row = pd.DataFrame({'new_case':147, 'new_deaths':0}, index =[0])\n",
    "covidLA_sum = pd.concat([feb_row, covidLA_sum]).reset_index(drop = True)  # add Feb data\n",
    "jan_row = pd.DataFrame({'new_case':0, 'new_deaths':0}, index =[0])\n",
    "covidLA_sum = pd.concat([jan_row, covidLA_sum]).reset_index(drop = True)  # add Jan data\n",
    "covidLA_sum = covidLA_sum.loc[0:9]               # drop October incomplete data"
   ]
  },
  {
   "cell_type": "code",
   "execution_count": 11,
   "metadata": {},
   "outputs": [],
   "source": [
    "# add subset total counts to combine data\n",
    "final_data[\"TotalCasesLA\"] = covidLA_sum['new_case']\n",
    "final_data[\"TotalDeathsLA\"] = covidLA_sum['new_deaths']\n",
    "final_data[\"DeathRateLA\"] = (final_data['TotalDeathsLA'] / final_data['TotalCasesLA']).fillna(0)"
   ]
  },
  {
   "cell_type": "markdown",
   "metadata": {},
   "source": [
    "### b. Jail ###\n",
    "- imported datasets are manually edited to condense and format for further data cleaning, including:\n",
    "    - remove historical data prior to 2019\n",
    "    - remove analysis cells besides data records\n",
    "    - remove unnames columns\n",
    "    - turn datatype to numbers"
   ]
  },
  {
   "cell_type": "code",
   "execution_count": 12,
   "metadata": {},
   "outputs": [],
   "source": [
    "# import NY maniputed data\n",
    "jail_ny = pd.read_csv(\"NYC_jail_pplt.csv\")"
   ]
  },
  {
   "cell_type": "code",
   "execution_count": 13,
   "metadata": {},
   "outputs": [],
   "source": [
    "# add subset total pplt only to combine data\n",
    "final_data[\"JailPpltNY\"] = pd.Series(jail_ny.loc[0, \"20-Jan\":\"20-Aug\"].tolist())\n",
    "#final_data[\"JailMonthChgNY\"] = final_data[\"JailPpltNY\"].pct_change()"
   ]
  },
  {
   "cell_type": "markdown",
   "metadata": {},
   "source": [
    "  "
   ]
  },
  {
   "cell_type": "code",
   "execution_count": 14,
   "metadata": {},
   "outputs": [],
   "source": [
    "# import LA maniputed data\n",
    "jail_la = pd.read_csv(\"LAcounty_jail_pplt.csv\")"
   ]
  },
  {
   "cell_type": "code",
   "execution_count": 15,
   "metadata": {},
   "outputs": [],
   "source": [
    "# add subset total pplt only to combine data\n",
    "final_data[\"JailPpltLA\"] = jail_la.loc[4, \"January,2020\":\"Sept, 2020\"].tolist()\n",
    "#final_data[\"JailMonthChgLA\"] = final_data[\"JailPpltLA\"].pct_change()"
   ]
  },
  {
   "cell_type": "markdown",
   "metadata": {},
   "source": [
    "### c. Unemployment ###\n",
    "- to use helper function, the dataset is manipulated into specified format"
   ]
  },
  {
   "cell_type": "code",
   "execution_count": 16,
   "metadata": {
    "scrolled": true
   },
   "outputs": [],
   "source": [
    "# import and clean NY data by calling helper function\n",
    "DataCleaning(\"NYC_unemployment.csv\", \"UnemplNY\")"
   ]
  },
  {
   "cell_type": "code",
   "execution_count": 17,
   "metadata": {},
   "outputs": [],
   "source": [
    "# import and clean LA data by calling helper function\n",
    "DataCleaning(\"LA_unemployment.csv\", \"UnemplLA\")"
   ]
  },
  {
   "cell_type": "markdown",
   "metadata": {},
   "source": [
    "### d. Weekly working Hours ###\n",
    "- to use helper function, the dataset is manipulated into specified format"
   ]
  },
  {
   "cell_type": "code",
   "execution_count": 18,
   "metadata": {},
   "outputs": [],
   "source": [
    "# import and clean data by calling helper function\n",
    "DataCleaning(\"NYC_weekly_hours.csv\", \"WorkHrNY\")\n",
    "DataCleaning(\"LA_weekly_hours.csv\", \"WorkHrLA\")"
   ]
  },
  {
   "cell_type": "markdown",
   "metadata": {},
   "source": [
    "### e. Computer services employee ###\n",
    "- to use helper function, the dataset is manipulated into specified format"
   ]
  },
  {
   "cell_type": "code",
   "execution_count": 19,
   "metadata": {},
   "outputs": [],
   "source": [
    "# import and clean data by calling helper function\n",
    "DataCleaning(\"NYC_computer.csv\", \"CompEmplNY\")\n",
    "DataCleaning(\"LA_computer.csv\", \"CompEmplLA\")"
   ]
  },
  {
   "cell_type": "markdown",
   "metadata": {},
   "source": [
    "### f. Local government employee ###\n",
    "- to use helper function, the dataset is manipulated into specified format"
   ]
  },
  {
   "cell_type": "code",
   "execution_count": 20,
   "metadata": {},
   "outputs": [],
   "source": [
    "# import and clean data by calling helper function\n",
    "DataCleaning(\"NYC_localgovernment.csv\", \"GovEmplNY\")\n",
    "DataCleaning(\"LA_localgovernment.csv\", \"GovEmplLA\")"
   ]
  },
  {
   "cell_type": "markdown",
   "metadata": {},
   "source": [
    "### g. Hospital employee ###\n",
    "- to use helper function, the dataset is manipulated into specified format"
   ]
  },
  {
   "cell_type": "code",
   "execution_count": 21,
   "metadata": {},
   "outputs": [],
   "source": [
    "# import and clean data by calling helper function\n",
    "DataCleaning(\"NYC_hospitals.csv\", \"HospEmplNY\")\n",
    "DataCleaning(\"LA_hospitals.csv\", \"HospEmplLA\")"
   ]
  },
  {
   "cell_type": "markdown",
   "metadata": {},
   "source": [
    "### h. Financial activities employee ###\n",
    "- to use helper function, the dataset is manipulated into specified format"
   ]
  },
  {
   "cell_type": "code",
   "execution_count": 22,
   "metadata": {},
   "outputs": [],
   "source": [
    "# import and clean data by calling helper function\n",
    "DataCleaning(\"NYC_financialactivities.csv\", \"FinEmplNY\")\n",
    "DataCleaning(\"LA_financialactivities.csv\", \"FinEmplLA\")"
   ]
  },
  {
   "cell_type": "markdown",
   "metadata": {},
   "source": [
    "### i. Educational services employee ###\n",
    "- to use helper function, the dataset is manipulated into specified format"
   ]
  },
  {
   "cell_type": "code",
   "execution_count": 23,
   "metadata": {},
   "outputs": [],
   "source": [
    "# import and clean data by calling helper function\n",
    "DataCleaning(\"NYC_educationalservices.csv\", \"EduEmplNY\")\n",
    "DataCleaning(\"LA_educationalservices.csv\", \"EduEmplLA\")"
   ]
  },
  {
   "cell_type": "markdown",
   "metadata": {},
   "source": [
    "### j. Crime ###\n",
    "- imported datasets are manually edited to condense and format for further data cleaning, including:\n",
    "    - data is shrinked by unused rows and columns to reduce file size\n",
    "    - manipulate datatype to be consistent"
   ]
  },
  {
   "cell_type": "code",
   "execution_count": 24,
   "metadata": {},
   "outputs": [],
   "source": [
    "crime_ny = pd.read_csv(\"NYC_crime.csv\")"
   ]
  },
  {
   "cell_type": "code",
   "execution_count": 25,
   "metadata": {},
   "outputs": [],
   "source": [
    "# reformate date types\n",
    "crime_ny['CMPLNT_FR_DT'] = crime_ny['CMPLNT_FR_DT'].apply(pd.to_datetime, utc=True)\n",
    "\n",
    "# obtain month and day data to help locate obtaining month rows\n",
    "crime_ny['months'] = crime_ny['CMPLNT_FR_DT'].dt.strftime('%m')"
   ]
  },
  {
   "cell_type": "code",
   "execution_count": 26,
   "metadata": {},
   "outputs": [],
   "source": [
    "# obtain monthly counts\n",
    "crimeNY_sum = crime_ny.groupby('months').count()\n",
    "crimeNY_sum = crimeNY_sum['CMPLNT_FR_DT']\n",
    "\n",
    "final_data[\"CrimeNY\"] = pd.Series(crimeNY_sum.tolist())"
   ]
  },
  {
   "cell_type": "markdown",
   "metadata": {},
   "source": [
    "   "
   ]
  },
  {
   "cell_type": "code",
   "execution_count": 27,
   "metadata": {},
   "outputs": [],
   "source": [
    "crime_la = pd.read_csv(\"LA_crime.csv\")"
   ]
  },
  {
   "cell_type": "code",
   "execution_count": 28,
   "metadata": {},
   "outputs": [],
   "source": [
    "# reformate date types\n",
    "crime_la['Date Rptd'] = crime_la['Date Rptd'].apply(pd.to_datetime, utc=True)\n",
    "\n",
    "# obtain month and day data to help locate obtaining month rows\n",
    "crime_la['months'] = crime_la['Date Rptd'].dt.strftime('%m')"
   ]
  },
  {
   "cell_type": "code",
   "execution_count": 29,
   "metadata": {},
   "outputs": [],
   "source": [
    "# obtain monthly counts\n",
    "crimeLA_sum = crime_la.groupby('months').count()\n",
    "final_data[\"CrimeLA\"] = pd.Series(crimeLA_sum['Date Rptd'].tolist())"
   ]
  },
  {
   "cell_type": "code",
   "execution_count": null,
   "metadata": {},
   "outputs": [],
   "source": [
    "crime_covid.head()"
   ]
  },
  {
   "cell_type": "markdown",
   "metadata": {},
   "source": [
    "### FINAL DATASET ###"
   ]
  },
  {
   "cell_type": "code",
   "execution_count": 30,
   "metadata": {
    "scrolled": true
   },
   "outputs": [
    {
     "data": {
      "text/html": [
       "<div>\n",
       "<style scoped>\n",
       "    .dataframe tbody tr th:only-of-type {\n",
       "        vertical-align: middle;\n",
       "    }\n",
       "\n",
       "    .dataframe tbody tr th {\n",
       "        vertical-align: top;\n",
       "    }\n",
       "\n",
       "    .dataframe thead th {\n",
       "        text-align: right;\n",
       "    }\n",
       "</style>\n",
       "<table border=\"1\" class=\"dataframe\">\n",
       "  <thead>\n",
       "    <tr style=\"text-align: right;\">\n",
       "      <th></th>\n",
       "      <th>Period</th>\n",
       "      <th>TotalCasesNY</th>\n",
       "      <th>TotalDeathsNY</th>\n",
       "      <th>DeathRateNY</th>\n",
       "      <th>TotalCasesLA</th>\n",
       "      <th>TotalDeathsLA</th>\n",
       "      <th>DeathRateLA</th>\n",
       "      <th>JailPpltNY</th>\n",
       "      <th>JailPpltLA</th>\n",
       "      <th>UnemplNY</th>\n",
       "      <th>...</th>\n",
       "      <th>GovEmplNY</th>\n",
       "      <th>GovEmplLA</th>\n",
       "      <th>HospEmplNY</th>\n",
       "      <th>HospEmplLA</th>\n",
       "      <th>FinEmplNY</th>\n",
       "      <th>FinEmplLA</th>\n",
       "      <th>EduEmplNY</th>\n",
       "      <th>EduEmplLA</th>\n",
       "      <th>CrimeNY</th>\n",
       "      <th>CrimeLA</th>\n",
       "    </tr>\n",
       "  </thead>\n",
       "  <tbody>\n",
       "    <tr>\n",
       "      <th>0</th>\n",
       "      <td>2020-01-31</td>\n",
       "      <td>0.0</td>\n",
       "      <td>0.0</td>\n",
       "      <td>0.000000</td>\n",
       "      <td>0</td>\n",
       "      <td>0</td>\n",
       "      <td>0.000000</td>\n",
       "      <td>5544.0</td>\n",
       "      <td>6035.0</td>\n",
       "      <td>3.5</td>\n",
       "      <td>...</td>\n",
       "      <td>489.6</td>\n",
       "      <td>578.0</td>\n",
       "      <td>168.4</td>\n",
       "      <td>152.3</td>\n",
       "      <td>475.3</td>\n",
       "      <td>342.8</td>\n",
       "      <td>246.3</td>\n",
       "      <td>173.6</td>\n",
       "      <td>38758</td>\n",
       "      <td>15991</td>\n",
       "    </tr>\n",
       "    <tr>\n",
       "      <th>1</th>\n",
       "      <td>2020-02-29</td>\n",
       "      <td>1.0</td>\n",
       "      <td>0.0</td>\n",
       "      <td>0.000000</td>\n",
       "      <td>147</td>\n",
       "      <td>0</td>\n",
       "      <td>0.000000</td>\n",
       "      <td>5356.0</td>\n",
       "      <td>5960.0</td>\n",
       "      <td>3.4</td>\n",
       "      <td>...</td>\n",
       "      <td>499.3</td>\n",
       "      <td>588.6</td>\n",
       "      <td>168.2</td>\n",
       "      <td>152.6</td>\n",
       "      <td>477.7</td>\n",
       "      <td>345.8</td>\n",
       "      <td>260.7</td>\n",
       "      <td>182.1</td>\n",
       "      <td>35354</td>\n",
       "      <td>16483</td>\n",
       "    </tr>\n",
       "    <tr>\n",
       "      <th>2</th>\n",
       "      <td>2020-03-31</td>\n",
       "      <td>65213.0</td>\n",
       "      <td>2193.0</td>\n",
       "      <td>0.033628</td>\n",
       "      <td>6478</td>\n",
       "      <td>95</td>\n",
       "      <td>0.014665</td>\n",
       "      <td>5195.0</td>\n",
       "      <td>6015.0</td>\n",
       "      <td>4.1</td>\n",
       "      <td>...</td>\n",
       "      <td>503.8</td>\n",
       "      <td>593.6</td>\n",
       "      <td>167.7</td>\n",
       "      <td>153.5</td>\n",
       "      <td>462.0</td>\n",
       "      <td>346.9</td>\n",
       "      <td>260.2</td>\n",
       "      <td>179.5</td>\n",
       "      <td>32419</td>\n",
       "      <td>15540</td>\n",
       "    </tr>\n",
       "    <tr>\n",
       "      <th>3</th>\n",
       "      <td>2020-04-30</td>\n",
       "      <td>109384.0</td>\n",
       "      <td>12742.0</td>\n",
       "      <td>0.116489</td>\n",
       "      <td>22023</td>\n",
       "      <td>1107</td>\n",
       "      <td>0.050266</td>\n",
       "      <td>3973.0</td>\n",
       "      <td>5798.0</td>\n",
       "      <td>15.0</td>\n",
       "      <td>...</td>\n",
       "      <td>486.4</td>\n",
       "      <td>572.5</td>\n",
       "      <td>165.5</td>\n",
       "      <td>155.8</td>\n",
       "      <td>455.6</td>\n",
       "      <td>329.5</td>\n",
       "      <td>226.7</td>\n",
       "      <td>166.8</td>\n",
       "      <td>24840</td>\n",
       "      <td>15166</td>\n",
       "    </tr>\n",
       "    <tr>\n",
       "      <th>4</th>\n",
       "      <td>2020-05-31</td>\n",
       "      <td>28481.0</td>\n",
       "      <td>2834.0</td>\n",
       "      <td>0.099505</td>\n",
       "      <td>30158</td>\n",
       "      <td>1235</td>\n",
       "      <td>0.040951</td>\n",
       "      <td>3859.0</td>\n",
       "      <td>5758.0</td>\n",
       "      <td>18.3</td>\n",
       "      <td>...</td>\n",
       "      <td>477.7</td>\n",
       "      <td>558.6</td>\n",
       "      <td>164.1</td>\n",
       "      <td>154.9</td>\n",
       "      <td>453.8</td>\n",
       "      <td>330.1</td>\n",
       "      <td>221.8</td>\n",
       "      <td>162.7</td>\n",
       "      <td>32038</td>\n",
       "      <td>16314</td>\n",
       "    </tr>\n",
       "    <tr>\n",
       "      <th>5</th>\n",
       "      <td>2020-06-30</td>\n",
       "      <td>10865.0</td>\n",
       "      <td>767.0</td>\n",
       "      <td>0.070594</td>\n",
       "      <td>52148</td>\n",
       "      <td>983</td>\n",
       "      <td>0.018850</td>\n",
       "      <td>3878.0</td>\n",
       "      <td>5620.0</td>\n",
       "      <td>20.3</td>\n",
       "      <td>...</td>\n",
       "      <td>472.8</td>\n",
       "      <td>555.0</td>\n",
       "      <td>165.3</td>\n",
       "      <td>155.1</td>\n",
       "      <td>453.9</td>\n",
       "      <td>331.4</td>\n",
       "      <td>212.4</td>\n",
       "      <td>157.3</td>\n",
       "      <td>32512</td>\n",
       "      <td>16969</td>\n",
       "    </tr>\n",
       "    <tr>\n",
       "      <th>6</th>\n",
       "      <td>2020-07-31</td>\n",
       "      <td>9783.0</td>\n",
       "      <td>356.0</td>\n",
       "      <td>0.036390</td>\n",
       "      <td>79700</td>\n",
       "      <td>1192</td>\n",
       "      <td>0.014956</td>\n",
       "      <td>3843.0</td>\n",
       "      <td>5223.0</td>\n",
       "      <td>19.9</td>\n",
       "      <td>...</td>\n",
       "      <td>419.9</td>\n",
       "      <td>501.9</td>\n",
       "      <td>166.1</td>\n",
       "      <td>154.1</td>\n",
       "      <td>456.1</td>\n",
       "      <td>337.4</td>\n",
       "      <td>208.9</td>\n",
       "      <td>147.9</td>\n",
       "      <td>35331</td>\n",
       "      <td>16913</td>\n",
       "    </tr>\n",
       "    <tr>\n",
       "      <th>7</th>\n",
       "      <td>2020-08-31</td>\n",
       "      <td>7366.0</td>\n",
       "      <td>150.0</td>\n",
       "      <td>0.020364</td>\n",
       "      <td>41481</td>\n",
       "      <td>1080</td>\n",
       "      <td>0.026036</td>\n",
       "      <td>3972.0</td>\n",
       "      <td>5053.0</td>\n",
       "      <td>16.0</td>\n",
       "      <td>...</td>\n",
       "      <td>447.8</td>\n",
       "      <td>502.0</td>\n",
       "      <td>165.5</td>\n",
       "      <td>154.1</td>\n",
       "      <td>460.8</td>\n",
       "      <td>335.8</td>\n",
       "      <td>208.0</td>\n",
       "      <td>148.1</td>\n",
       "      <td>36862</td>\n",
       "      <td>16573</td>\n",
       "    </tr>\n",
       "    <tr>\n",
       "      <th>8</th>\n",
       "      <td>2020-09-30</td>\n",
       "      <td>9902.0</td>\n",
       "      <td>124.0</td>\n",
       "      <td>0.012523</td>\n",
       "      <td>27127</td>\n",
       "      <td>618</td>\n",
       "      <td>0.022782</td>\n",
       "      <td>NaN</td>\n",
       "      <td>4916.0</td>\n",
       "      <td>13.9</td>\n",
       "      <td>...</td>\n",
       "      <td>492.5</td>\n",
       "      <td>544.3</td>\n",
       "      <td>165.6</td>\n",
       "      <td>153.4</td>\n",
       "      <td>456.4</td>\n",
       "      <td>332.6</td>\n",
       "      <td>209.4</td>\n",
       "      <td>151.3</td>\n",
       "      <td>33660</td>\n",
       "      <td>14230</td>\n",
       "    </tr>\n",
       "  </tbody>\n",
       "</table>\n",
       "<p>9 rows × 25 columns</p>\n",
       "</div>"
      ],
      "text/plain": [
       "      Period  TotalCasesNY  TotalDeathsNY  DeathRateNY  TotalCasesLA  \\\n",
       "0 2020-01-31           0.0            0.0     0.000000             0   \n",
       "1 2020-02-29           1.0            0.0     0.000000           147   \n",
       "2 2020-03-31       65213.0         2193.0     0.033628          6478   \n",
       "3 2020-04-30      109384.0        12742.0     0.116489         22023   \n",
       "4 2020-05-31       28481.0         2834.0     0.099505         30158   \n",
       "5 2020-06-30       10865.0          767.0     0.070594         52148   \n",
       "6 2020-07-31        9783.0          356.0     0.036390         79700   \n",
       "7 2020-08-31        7366.0          150.0     0.020364         41481   \n",
       "8 2020-09-30        9902.0          124.0     0.012523         27127   \n",
       "\n",
       "   TotalDeathsLA  DeathRateLA  JailPpltNY  JailPpltLA  UnemplNY  ...  \\\n",
       "0              0     0.000000      5544.0      6035.0       3.5  ...   \n",
       "1              0     0.000000      5356.0      5960.0       3.4  ...   \n",
       "2             95     0.014665      5195.0      6015.0       4.1  ...   \n",
       "3           1107     0.050266      3973.0      5798.0      15.0  ...   \n",
       "4           1235     0.040951      3859.0      5758.0      18.3  ...   \n",
       "5            983     0.018850      3878.0      5620.0      20.3  ...   \n",
       "6           1192     0.014956      3843.0      5223.0      19.9  ...   \n",
       "7           1080     0.026036      3972.0      5053.0      16.0  ...   \n",
       "8            618     0.022782         NaN      4916.0      13.9  ...   \n",
       "\n",
       "   GovEmplNY  GovEmplLA  HospEmplNY  HospEmplLA  FinEmplNY  FinEmplLA  \\\n",
       "0      489.6      578.0       168.4       152.3      475.3      342.8   \n",
       "1      499.3      588.6       168.2       152.6      477.7      345.8   \n",
       "2      503.8      593.6       167.7       153.5      462.0      346.9   \n",
       "3      486.4      572.5       165.5       155.8      455.6      329.5   \n",
       "4      477.7      558.6       164.1       154.9      453.8      330.1   \n",
       "5      472.8      555.0       165.3       155.1      453.9      331.4   \n",
       "6      419.9      501.9       166.1       154.1      456.1      337.4   \n",
       "7      447.8      502.0       165.5       154.1      460.8      335.8   \n",
       "8      492.5      544.3       165.6       153.4      456.4      332.6   \n",
       "\n",
       "   EduEmplNY  EduEmplLA  CrimeNY  CrimeLA  \n",
       "0      246.3      173.6    38758    15991  \n",
       "1      260.7      182.1    35354    16483  \n",
       "2      260.2      179.5    32419    15540  \n",
       "3      226.7      166.8    24840    15166  \n",
       "4      221.8      162.7    32038    16314  \n",
       "5      212.4      157.3    32512    16969  \n",
       "6      208.9      147.9    35331    16913  \n",
       "7      208.0      148.1    36862    16573  \n",
       "8      209.4      151.3    33660    14230  \n",
       "\n",
       "[9 rows x 25 columns]"
      ]
     },
     "execution_count": 30,
     "metadata": {},
     "output_type": "execute_result"
    }
   ],
   "source": [
    "final_data"
   ]
  },
  {
   "cell_type": "code",
   "execution_count": 31,
   "metadata": {},
   "outputs": [],
   "source": [
    "# final_data.to_csv(\"finaldata.csv\", sep=\",\")"
   ]
  },
  {
   "cell_type": "markdown",
   "metadata": {},
   "source": [
    "## 3. Data description ## \n",
    "Have an initial draft of your ​data description​ section.\n",
    "Your data description should be about your analysis-ready data.\n"
   ]
  },
  {
   "cell_type": "markdown",
   "metadata": {},
   "source": [
    "#### Final Draft Requirement ####\n",
    "This should be inspired by the format presented in https://arxiv.org/abs/1803.09010. \n",
    "Answer the following questions:\n",
    "- What are the observations (rows) and the attributes (columns)?\n",
    "     \n",
    "- Why was this dataset created?\n",
    "- Who funded the creation of the dataset?\n",
    "- What processes might have influenced what data was observed and recorded and what was not?\n",
    "- What preprocessing was done, and how did the data come to be in the form that you are using?\n",
    "- If people are involved, were they aware of the data collection and if so, what purpose did they expect the data to be used for?\n",
    "- Where can your raw source data be found, if applicable? Provide a link to the raw data (hosted in a C​ ornell Google Drive​ or ​Cornell Box)​ ."
   ]
  },
  {
   "cell_type": "markdown",
   "metadata": {},
   "source": [
    "There are mainly nine rows indicating the first nine months of 2020. There are many columns covering a variety of covariates that will contribute to the analysis between the two cities New York and Los Angeles:\n",
    "- COVID variables: \n",
    "- Criminal variables:\n",
    "    - CrimeNY: number of crime cases in NYC per month\n",
    "    - CrimeLA: number of crime cases in LAC per month\n",
    "- Economic variables：\n",
    "    - GovEmplNY: number of local government employees in thousands in NY per month\n",
    "- Demographic variables："
   ]
  },
  {
   "cell_type": "code",
   "execution_count": null,
   "metadata": {},
   "outputs": [],
   "source": []
  },
  {
   "cell_type": "code",
   "execution_count": null,
   "metadata": {},
   "outputs": [],
   "source": []
  },
  {
   "cell_type": "markdown",
   "metadata": {},
   "source": [
    "## 4. Data limitations ## \n",
    "Identify any potential problems with your dataset."
   ]
  },
  {
   "cell_type": "markdown",
   "metadata": {},
   "source": [
    "#### Final Draft Requirement ####\n",
    "\n",
    "- What are the limitations of your study? What are the biases in your data or assumptions of your analyses that specifically affect the conclusions you’re able to draw?"
   ]
  },
  {
   "cell_type": "markdown",
   "metadata": {},
   "source": [
    "1. Assumes the reliability/authenticity of data sources\n",
    "2. assume zero covid cases before dataentry due to lack of data"
   ]
  },
  {
   "cell_type": "code",
   "execution_count": null,
   "metadata": {},
   "outputs": [],
   "source": []
  },
  {
   "cell_type": "code",
   "execution_count": null,
   "metadata": {},
   "outputs": [],
   "source": []
  },
  {
   "cell_type": "markdown",
   "metadata": {},
   "source": [
    "## 5. Exploratory data analysis ## \n",
    "Perform an (initial) exploratory data analysis."
   ]
  },
  {
   "cell_type": "markdown",
   "metadata": {},
   "source": [
    "#### Final Draft Requirement ####\n",
    "\n",
    "- Use summary functions like mean and standard deviation along with visual displays like scatterplots and histograms to describe data.\n",
    "- Provide at least one model showing patterns or relationships between variables that addresses your research question. This could be a regression or clustering, or something else that measures some property of the dataset."
   ]
  },
  {
   "cell_type": "code",
   "execution_count": null,
   "metadata": {},
   "outputs": [],
   "source": []
  },
  {
   "cell_type": "code",
   "execution_count": null,
   "metadata": {},
   "outputs": [],
   "source": []
  },
  {
   "cell_type": "code",
   "execution_count": null,
   "metadata": {},
   "outputs": [],
   "source": []
  },
  {
   "cell_type": "markdown",
   "metadata": {},
   "source": [
    "## 6. Questions for reviewers ## \n",
    "List specific questions for your peer reviewers and project mentor to answer in giving you feedback on this phase."
   ]
  },
  {
   "cell_type": "code",
   "execution_count": null,
   "metadata": {},
   "outputs": [],
   "source": []
  },
  {
   "cell_type": "code",
   "execution_count": null,
   "metadata": {},
   "outputs": [],
   "source": []
  },
  {
   "cell_type": "code",
   "execution_count": null,
   "metadata": {},
   "outputs": [],
   "source": []
  }
 ],
 "metadata": {
  "kernelspec": {
   "display_name": "Python 3",
   "language": "python",
   "name": "python3"
  },
  "language_info": {
   "codemirror_mode": {
    "name": "ipython",
    "version": 3
   },
   "file_extension": ".py",
   "mimetype": "text/x-python",
   "name": "python",
   "nbconvert_exporter": "python",
   "pygments_lexer": "ipython3",
   "version": "3.8.5"
  }
 },
 "nbformat": 4,
 "nbformat_minor": 4
}
