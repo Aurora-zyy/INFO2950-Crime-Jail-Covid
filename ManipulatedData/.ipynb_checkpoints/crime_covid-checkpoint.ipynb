{
 "cells": [
  {
   "cell_type": "markdown",
   "metadata": {},
   "source": [
    "- Team: Hangyu Zhou (hz477) , Evian Liu (yl2867) , YingYun Zhang (yz549) , Yang Zhao (yz563)\n",
    "- Github repository link: https://github.coecis.cornell.edu/yl2867/INFO2950_Project.git\n",
    "- Rubric: https://docs.google.com/document/d/1W3mPBOMhM9SD3oym2LG3NLyB78jG-Kmv9egM3B_EObg/edit"
   ]
  },
  {
   "cell_type": "markdown",
   "metadata": {},
   "source": [
    "# Phase II:  #\n",
    "#### Data collection and exploratory data analysis. Due Oct 6. ####\n",
    "- Settle on a single idea and state your research question(s) clearly.\n",
    "- Carry out most of your data collection.\n",
    "- Compute some relevant summary statistics, and show some plots of your data, as applicable to your research question(s). Use this exploratory data analysis to:\n",
    "    - update your research question(s), if applicable;\n",
    "    - update your data description, if applicable (e.g. if you collect additional data)."
   ]
  },
  {
   "cell_type": "markdown",
   "metadata": {},
   "source": [
    "### A dataset of moderate size and complexity. ###\n",
    "- It should be large enough to have interesting complexity, but not so big as to be unwieldy. As a rough guideline, your dataset should be longer than you could print on a single page in standard spreadsheet format, but smaller than 20 MB.\n",
    "- You may use existing datasets, combine data from APIs, or create entirely new data through instruments or surveys.\n",
    "- The dataset you turn in does not have to be the dataset that you initially collected. For example, you might download 50 MB of raw logs, but use filtering and aggregation to reduce the dataset to 100 kB for your actual analysis. We want you to submit your analysis-ready data, but you should describe your full data-collection protocol and any preprocessing done in the data description section of your final report (see below). All source code use for data collection and preprocessing should also be linked to in the source code section of your final report.\n",
    "- If your final, curated dataset is larger than 10MB, share a copy in Cornell Box and include a link to it in your final report."
   ]
  },
  {
   "cell_type": "markdown",
   "metadata": {},
   "source": [
    "## 1. Research question(s) ## \n",
    "State your research question (s) clearly."
   ]
  },
  {
   "cell_type": "code",
   "execution_count": null,
   "metadata": {},
   "outputs": [],
   "source": []
  },
  {
   "cell_type": "markdown",
   "metadata": {},
   "source": [
    "## 2. Data cleaning ## \n",
    "Have an initial draft of your data cleaning appendix.\n",
    "Document every step that takes your raw data file(s) and turns it into the analysis-ready data set that you would submit with your final project. \n",
    "All of your data cleaning code should be found in this section, and you may want to explain the steps of your data cleaning in words as well."
   ]
  },
  {
   "cell_type": "markdown",
   "metadata": {},
   "source": [
    "#### Final Draft Requirement ####\n",
    "\n",
    "- Data cleaning description. Submit an updated version of your data cleaning description from phase II that describes all data cleaning steps performed on your raw data to turn it into the analysis-read dataset submitted with your final project. The data cleaning description should be a separate Jupyter notebook with executed cells, and it should output the dataset you submit as part of your project (e.g. written as a .csv file)."
   ]
  },
  {
   "cell_type": "code",
   "execution_count": 1,
   "metadata": {},
   "outputs": [],
   "source": [
    "# import packages\n",
    "import pandas as pd\n",
    "import numpy as np\n",
    "from matplotlib import pyplot as plt"
   ]
  },
  {
   "cell_type": "markdown",
   "metadata": {},
   "source": [
    "### Crime ###\n",
    "- As of 09/26/20\n",
    "- NY: https://compstat.nypdonline.org/2e5c3f4b-85c1-4635-83c6-22b27fe7c75c/view/89\n",
    "- LA: http://lapd-assets.lapdonline.org/assets/pdf/cityprof.pdf"
   ]
  },
  {
   "cell_type": "code",
   "execution_count": 2,
   "metadata": {},
   "outputs": [],
   "source": [
    "# copy raw data from source\n",
    "crime_raw = {'Homicide20YTD': [337, 228], 'Homicide19YTD': [241, 199], \n",
    "             'Rape20YTD': [1057, 966], 'Rape19YTD': [1371, 1260], \n",
    "             'Robbery20YTD': [9362, 5902], 'Robbery19YTD': [9478, 7731], \n",
    "             'FelonyAssult20YTD': [15209, 13254], 'FelonyAssult19YTD': [15687, 12895], \n",
    "             'Burglary20YTD': [11107, 10043], 'Burglary19YTD': [7835, 11633], \n",
    "            }\n",
    "crimedata = pd.DataFrame(data=crime_raw)\n",
    "crimedata.index = ['NY','LA']"
   ]
  },
  {
   "cell_type": "code",
   "execution_count": 3,
   "metadata": {},
   "outputs": [
    {
     "data": {
      "text/html": [
       "<div>\n",
       "<style scoped>\n",
       "    .dataframe tbody tr th:only-of-type {\n",
       "        vertical-align: middle;\n",
       "    }\n",
       "\n",
       "    .dataframe tbody tr th {\n",
       "        vertical-align: top;\n",
       "    }\n",
       "\n",
       "    .dataframe thead th {\n",
       "        text-align: right;\n",
       "    }\n",
       "</style>\n",
       "<table border=\"1\" class=\"dataframe\">\n",
       "  <thead>\n",
       "    <tr style=\"text-align: right;\">\n",
       "      <th></th>\n",
       "      <th>Homicide20YTD</th>\n",
       "      <th>Homicide19YTD</th>\n",
       "      <th>Rape20YTD</th>\n",
       "      <th>Rape19YTD</th>\n",
       "      <th>Robbery20YTD</th>\n",
       "      <th>Robbery19YTD</th>\n",
       "      <th>FelonyAssult20YTD</th>\n",
       "      <th>FelonyAssult19YTD</th>\n",
       "      <th>Burglary20YTD</th>\n",
       "      <th>Burglary19YTD</th>\n",
       "      <th>...</th>\n",
       "      <th>Rape%Chg</th>\n",
       "      <th>Robbery%Chg</th>\n",
       "      <th>FelonyAssult%Chg</th>\n",
       "      <th>Burlary%Chg</th>\n",
       "      <th>TotalViolent20YTD</th>\n",
       "      <th>TotalViolent19YTD</th>\n",
       "      <th>TotalViolent%Chg</th>\n",
       "      <th>TotalCrime20YTD</th>\n",
       "      <th>TotalCrime19YTD</th>\n",
       "      <th>TotalCrime%Chg</th>\n",
       "    </tr>\n",
       "  </thead>\n",
       "  <tbody>\n",
       "    <tr>\n",
       "      <th>NY</th>\n",
       "      <td>337</td>\n",
       "      <td>241</td>\n",
       "      <td>1057</td>\n",
       "      <td>1371</td>\n",
       "      <td>9362</td>\n",
       "      <td>9478</td>\n",
       "      <td>15209</td>\n",
       "      <td>15687</td>\n",
       "      <td>11107</td>\n",
       "      <td>7835</td>\n",
       "      <td>...</td>\n",
       "      <td>-0.229030</td>\n",
       "      <td>-0.012239</td>\n",
       "      <td>-0.030471</td>\n",
       "      <td>0.417613</td>\n",
       "      <td>25965</td>\n",
       "      <td>26777</td>\n",
       "      <td>-0.030325</td>\n",
       "      <td>37072</td>\n",
       "      <td>34612</td>\n",
       "      <td>0.071074</td>\n",
       "    </tr>\n",
       "    <tr>\n",
       "      <th>LA</th>\n",
       "      <td>228</td>\n",
       "      <td>199</td>\n",
       "      <td>966</td>\n",
       "      <td>1260</td>\n",
       "      <td>5902</td>\n",
       "      <td>7731</td>\n",
       "      <td>13254</td>\n",
       "      <td>12895</td>\n",
       "      <td>10043</td>\n",
       "      <td>11633</td>\n",
       "      <td>...</td>\n",
       "      <td>-0.233333</td>\n",
       "      <td>-0.236580</td>\n",
       "      <td>0.027840</td>\n",
       "      <td>-0.136680</td>\n",
       "      <td>20350</td>\n",
       "      <td>22085</td>\n",
       "      <td>-0.078560</td>\n",
       "      <td>30393</td>\n",
       "      <td>33718</td>\n",
       "      <td>-0.098612</td>\n",
       "    </tr>\n",
       "  </tbody>\n",
       "</table>\n",
       "<p>2 rows × 21 columns</p>\n",
       "</div>"
      ],
      "text/plain": [
       "    Homicide20YTD  Homicide19YTD  Rape20YTD  Rape19YTD  Robbery20YTD  \\\n",
       "NY            337            241       1057       1371          9362   \n",
       "LA            228            199        966       1260          5902   \n",
       "\n",
       "    Robbery19YTD  FelonyAssult20YTD  FelonyAssult19YTD  Burglary20YTD  \\\n",
       "NY          9478              15209              15687          11107   \n",
       "LA          7731              13254              12895          10043   \n",
       "\n",
       "    Burglary19YTD  ...  Rape%Chg  Robbery%Chg  FelonyAssult%Chg  Burlary%Chg  \\\n",
       "NY           7835  ... -0.229030    -0.012239         -0.030471     0.417613   \n",
       "LA          11633  ... -0.233333    -0.236580          0.027840    -0.136680   \n",
       "\n",
       "    TotalViolent20YTD  TotalViolent19YTD  TotalViolent%Chg  TotalCrime20YTD  \\\n",
       "NY              25965              26777         -0.030325            37072   \n",
       "LA              20350              22085         -0.078560            30393   \n",
       "\n",
       "    TotalCrime19YTD  TotalCrime%Chg  \n",
       "NY            34612        0.071074  \n",
       "LA            33718       -0.098612  \n",
       "\n",
       "[2 rows x 21 columns]"
      ]
     },
     "execution_count": 3,
     "metadata": {},
     "output_type": "execute_result"
    }
   ],
   "source": [
    "# calculate new columns\n",
    "crimedata['Homicide%Chg'] = (crimedata['Homicide20YTD']-crimedata['Homicide19YTD']) / crimedata['Homicide19YTD']\n",
    "crimedata['Rape%Chg'] = (crimedata['Rape20YTD']-crimedata['Rape19YTD']) / crimedata['Rape19YTD']\n",
    "crimedata['Robbery%Chg'] = (crimedata['Robbery20YTD']-crimedata['Robbery19YTD']) / crimedata['Robbery19YTD']\n",
    "crimedata['FelonyAssult%Chg'] = (crimedata['FelonyAssult20YTD']-crimedata['FelonyAssult19YTD']) / crimedata['FelonyAssult19YTD']\n",
    "crimedata['Burlary%Chg'] = (crimedata['Burglary20YTD']-crimedata['Burglary19YTD']) / crimedata['Burglary19YTD']\n",
    "crimedata['TotalViolent20YTD'] = crimedata['Homicide20YTD'] + crimedata['Rape20YTD'] + crimedata['Robbery20YTD'] + crimedata['FelonyAssult20YTD']\n",
    "crimedata['TotalViolent19YTD'] = crimedata['Homicide19YTD'] + crimedata['Rape19YTD'] + crimedata['Robbery19YTD'] + crimedata['FelonyAssult19YTD']\n",
    "crimedata['TotalViolent%Chg'] = (crimedata['TotalViolent20YTD']-crimedata['TotalViolent19YTD']) / crimedata['TotalViolent19YTD']\n",
    "crimedata['TotalCrime20YTD'] = crimedata['TotalViolent20YTD'] + crimedata['Burglary20YTD']\n",
    "crimedata['TotalCrime19YTD'] = crimedata['TotalViolent19YTD'] + crimedata['Burglary19YTD']\n",
    "crimedata['TotalCrime%Chg'] = (crimedata['TotalCrime20YTD']-crimedata['TotalCrime19YTD']) / crimedata['TotalCrime19YTD']\n",
    "crimedata"
   ]
  },
  {
   "cell_type": "markdown",
   "metadata": {},
   "source": [
    "### Covid ###\n",
    "- As of 10/03/20\n",
    "- NY: https://www1.nyc.gov/site/doh/covid/covid-19-data.page; https://covid19tracker.health.ny.gov/views/NYS-COVID19-Tracker/NYSDOHCOVID-19Tracker-Fatalities?%3Aembed=yes&%3Atoolbar=no&%3Atabs=n\n",
    "- LA: https://corona-virus.la/data; http://publichealth.lacounty.gov/media/coronavirus/locations.htm; http://dashboard.publichealth.lacounty.gov/covid19_surveillance_dashboard/"
   ]
  },
  {
   "cell_type": "code",
   "execution_count": 4,
   "metadata": {},
   "outputs": [],
   "source": [
    "# copy raw data from source\n",
    "ny_Hospitalizations = 59345\n",
    "covid_raw = {'Cases': [240873, 111292], 'Deaths': [19207, 2806], }\n",
    "coviddata = pd.DataFrame(data=covid_raw)\n",
    "coviddata.index = ['NY','LA']"
   ]
  },
  {
   "cell_type": "code",
   "execution_count": 5,
   "metadata": {
    "scrolled": true
   },
   "outputs": [
    {
     "data": {
      "text/html": [
       "<div>\n",
       "<style scoped>\n",
       "    .dataframe tbody tr th:only-of-type {\n",
       "        vertical-align: middle;\n",
       "    }\n",
       "\n",
       "    .dataframe tbody tr th {\n",
       "        vertical-align: top;\n",
       "    }\n",
       "\n",
       "    .dataframe thead th {\n",
       "        text-align: right;\n",
       "    }\n",
       "</style>\n",
       "<table border=\"1\" class=\"dataframe\">\n",
       "  <thead>\n",
       "    <tr style=\"text-align: right;\">\n",
       "      <th></th>\n",
       "      <th>Cases</th>\n",
       "      <th>Deaths</th>\n",
       "      <th>DeathRate</th>\n",
       "    </tr>\n",
       "  </thead>\n",
       "  <tbody>\n",
       "    <tr>\n",
       "      <th>NY</th>\n",
       "      <td>240873</td>\n",
       "      <td>19207</td>\n",
       "      <td>0.079739</td>\n",
       "    </tr>\n",
       "    <tr>\n",
       "      <th>LA</th>\n",
       "      <td>111292</td>\n",
       "      <td>2806</td>\n",
       "      <td>0.025213</td>\n",
       "    </tr>\n",
       "  </tbody>\n",
       "</table>\n",
       "</div>"
      ],
      "text/plain": [
       "     Cases  Deaths  DeathRate\n",
       "NY  240873   19207   0.079739\n",
       "LA  111292    2806   0.025213"
      ]
     },
     "execution_count": 5,
     "metadata": {},
     "output_type": "execute_result"
    }
   ],
   "source": [
    "# calculate new columns\n",
    "coviddata[\"DeathRate\"] = coviddata[\"Deaths\"] / coviddata[\"Cases\"]\n",
    "coviddata"
   ]
  },
  {
   "cell_type": "markdown",
   "metadata": {},
   "source": [
    "### Combine All ###"
   ]
  },
  {
   "cell_type": "code",
   "execution_count": 6,
   "metadata": {},
   "outputs": [
    {
     "data": {
      "text/html": [
       "<div>\n",
       "<style scoped>\n",
       "    .dataframe tbody tr th:only-of-type {\n",
       "        vertical-align: middle;\n",
       "    }\n",
       "\n",
       "    .dataframe tbody tr th {\n",
       "        vertical-align: top;\n",
       "    }\n",
       "\n",
       "    .dataframe thead th {\n",
       "        text-align: right;\n",
       "    }\n",
       "</style>\n",
       "<table border=\"1\" class=\"dataframe\">\n",
       "  <thead>\n",
       "    <tr style=\"text-align: right;\">\n",
       "      <th></th>\n",
       "      <th>Homicide%Chg</th>\n",
       "      <th>Rape%Chg</th>\n",
       "      <th>Robbery%Chg</th>\n",
       "      <th>FelonyAssult%Chg</th>\n",
       "      <th>TotalViolent%Chg</th>\n",
       "      <th>Burlary%Chg</th>\n",
       "      <th>TotalCrime%Chg</th>\n",
       "      <th>Cases</th>\n",
       "      <th>Deaths</th>\n",
       "      <th>DeathRate</th>\n",
       "    </tr>\n",
       "  </thead>\n",
       "  <tbody>\n",
       "    <tr>\n",
       "      <th>NY</th>\n",
       "      <td>0.398340</td>\n",
       "      <td>-0.229030</td>\n",
       "      <td>-0.012239</td>\n",
       "      <td>-0.030471</td>\n",
       "      <td>-0.030325</td>\n",
       "      <td>0.417613</td>\n",
       "      <td>0.071074</td>\n",
       "      <td>240873</td>\n",
       "      <td>19207</td>\n",
       "      <td>0.079739</td>\n",
       "    </tr>\n",
       "    <tr>\n",
       "      <th>LA</th>\n",
       "      <td>0.145729</td>\n",
       "      <td>-0.233333</td>\n",
       "      <td>-0.236580</td>\n",
       "      <td>0.027840</td>\n",
       "      <td>-0.078560</td>\n",
       "      <td>-0.136680</td>\n",
       "      <td>-0.098612</td>\n",
       "      <td>111292</td>\n",
       "      <td>2806</td>\n",
       "      <td>0.025213</td>\n",
       "    </tr>\n",
       "  </tbody>\n",
       "</table>\n",
       "</div>"
      ],
      "text/plain": [
       "    Homicide%Chg  Rape%Chg  Robbery%Chg  FelonyAssult%Chg  TotalViolent%Chg  \\\n",
       "NY      0.398340 -0.229030    -0.012239         -0.030471         -0.030325   \n",
       "LA      0.145729 -0.233333    -0.236580          0.027840         -0.078560   \n",
       "\n",
       "    Burlary%Chg  TotalCrime%Chg   Cases  Deaths  DeathRate  \n",
       "NY     0.417613        0.071074  240873   19207   0.079739  \n",
       "LA    -0.136680       -0.098612  111292    2806   0.025213  "
      ]
     },
     "execution_count": 6,
     "metadata": {},
     "output_type": "execute_result"
    }
   ],
   "source": [
    "crime_subset = crimedata[ ['Homicide%Chg', 'Rape%Chg', 'Robbery%Chg', 'FelonyAssult%Chg', 'TotalViolent%Chg', 'Burlary%Chg', 'TotalCrime%Chg'] ]\n",
    "data = pd.concat([crime_subset, coviddata], axis=1)\n",
    "data"
   ]
  },
  {
   "cell_type": "markdown",
   "metadata": {},
   "source": [
    "## 3. Data description ## \n",
    "Have an initial draft of your ​data description​ section.\n",
    "Your data description should be about your analysis-ready data.\n"
   ]
  },
  {
   "cell_type": "markdown",
   "metadata": {},
   "source": [
    "#### Final Draft Requirement ####\n",
    "This should be inspired by the format presented in https://arxiv.org/abs/1803.09010. \n",
    "Answer the following questions:\n",
    "- What are the observations (rows) and the attributes (columns)?\n",
    "     \n",
    "- Why was this dataset created?\n",
    "- Who funded the creation of the dataset?\n",
    "- What processes might have influenced what data was observed and recorded and what was not?\n",
    "- What preprocessing was done, and how did the data come to be in the form that you are using?\n",
    "- If people are involved, were they aware of the data collection and if so, what purpose did they expect the data to be used for?\n",
    "- Where can your raw source data be found, if applicable? Provide a link to the raw data (hosted in a C​ ornell Google Drive​ or ​Cornell Box)​ ."
   ]
  },
  {
   "cell_type": "markdown",
   "metadata": {},
   "source": [
    "There are mainly two rows indicating the two cities that are the focus of this project. There are many columns covering a variety of covariates that will contribute to the analysis between the two cities:\n",
    "- COVID variables: \n",
    "    - Cases = number of positive cases\n",
    "    - Deaths = number of deaths\n",
    "    - DeathRate = Cases/Deaths\n",
    "- Criminal variables:\n",
    "    - Homicide%Chg  = 2019/20 year-to-date percent change of homicide\n",
    "    - Rape%Chg = 2019/20 year-to-date percent change of rape\n",
    "    - Robbery%Chg = 2019/20 year-to-date percent change of robbery\n",
    "    - FelonyAssult%Chg = 2019/20 year-to-date percent change of felony assult\n",
    "    - TotalViolent%Chg = 2019/20 year-to-date percent change of total violent crimes(first four crimes listed)\n",
    "    - Burlary%Chg = 2019/20 year-to-date percent change of burlary\n",
    "    - TotalCrime%Chg = 2019/20 year-to-date percent change of total crimes\n",
    "- Demographic variables\n",
    "- Economic variables"
   ]
  },
  {
   "cell_type": "code",
   "execution_count": null,
   "metadata": {},
   "outputs": [],
   "source": []
  },
  {
   "cell_type": "code",
   "execution_count": null,
   "metadata": {},
   "outputs": [],
   "source": []
  },
  {
   "cell_type": "markdown",
   "metadata": {},
   "source": [
    "## 4. Data limitations ## \n",
    "Identify any potential problems with your dataset."
   ]
  },
  {
   "cell_type": "markdown",
   "metadata": {},
   "source": [
    "#### Final Draft Requirement ####\n",
    "\n",
    "- What are the limitations of your study? What are the biases in your data or assumptions of your analyses that specifically affect the conclusions you’re able to draw?"
   ]
  },
  {
   "cell_type": "markdown",
   "metadata": {},
   "source": [
    "1. Assumes the reliability/authenticity of data sources"
   ]
  },
  {
   "cell_type": "code",
   "execution_count": null,
   "metadata": {},
   "outputs": [],
   "source": []
  },
  {
   "cell_type": "code",
   "execution_count": null,
   "metadata": {},
   "outputs": [],
   "source": []
  },
  {
   "cell_type": "markdown",
   "metadata": {},
   "source": [
    "## 5. Exploratory data analysis ## \n",
    "Perform an (initial) exploratory data analysis."
   ]
  },
  {
   "cell_type": "markdown",
   "metadata": {},
   "source": [
    "#### Final Draft Requirement ####\n",
    "\n",
    "- Use summary functions like mean and standard deviation along with visual displays like scatterplots and histograms to describe data.\n",
    "- Provide at least one model showing patterns or relationships between variables that addresses your research question. This could be a regression or clustering, or something else that measures some property of the dataset."
   ]
  },
  {
   "cell_type": "markdown",
   "metadata": {},
   "source": [
    "### Crime statistics for all cities ###"
   ]
  },
  {
   "cell_type": "code",
   "execution_count": 7,
   "metadata": {},
   "outputs": [
    {
     "ename": "FileNotFoundError",
     "evalue": "[Errno 2] No such file or directory: 'CrimeStatistics.csv'",
     "output_type": "error",
     "traceback": [
      "\u001b[0;31m---------------------------------------------------------------------------\u001b[0m",
      "\u001b[0;31mFileNotFoundError\u001b[0m                         Traceback (most recent call last)",
      "\u001b[0;32m<ipython-input-7-b524080d9ebb>\u001b[0m in \u001b[0;36m<module>\u001b[0;34m\u001b[0m\n\u001b[0;32m----> 1\u001b[0;31m \u001b[0mcrimestats\u001b[0m \u001b[0;34m=\u001b[0m \u001b[0mpd\u001b[0m\u001b[0;34m.\u001b[0m\u001b[0mread_csv\u001b[0m\u001b[0;34m(\u001b[0m\u001b[0;34m\"CrimeStatistics.csv\"\u001b[0m\u001b[0;34m,\u001b[0m \u001b[0mindex_col\u001b[0m\u001b[0;34m=\u001b[0m\u001b[0;34m'City'\u001b[0m\u001b[0;34m)\u001b[0m\u001b[0;34m\u001b[0m\u001b[0;34m\u001b[0m\u001b[0m\n\u001b[0m\u001b[1;32m      2\u001b[0m \u001b[0mcrimestats\u001b[0m\u001b[0;34m\u001b[0m\u001b[0;34m\u001b[0m\u001b[0m\n",
      "\u001b[0;32m/Applications/anaconda3/envs/INFO2950/lib/python3.8/site-packages/pandas/io/parsers.py\u001b[0m in \u001b[0;36mread_csv\u001b[0;34m(filepath_or_buffer, sep, delimiter, header, names, index_col, usecols, squeeze, prefix, mangle_dupe_cols, dtype, engine, converters, true_values, false_values, skipinitialspace, skiprows, skipfooter, nrows, na_values, keep_default_na, na_filter, verbose, skip_blank_lines, parse_dates, infer_datetime_format, keep_date_col, date_parser, dayfirst, cache_dates, iterator, chunksize, compression, thousands, decimal, lineterminator, quotechar, quoting, doublequote, escapechar, comment, encoding, dialect, error_bad_lines, warn_bad_lines, delim_whitespace, low_memory, memory_map, float_precision)\u001b[0m\n\u001b[1;32m    684\u001b[0m     )\n\u001b[1;32m    685\u001b[0m \u001b[0;34m\u001b[0m\u001b[0m\n\u001b[0;32m--> 686\u001b[0;31m     \u001b[0;32mreturn\u001b[0m \u001b[0m_read\u001b[0m\u001b[0;34m(\u001b[0m\u001b[0mfilepath_or_buffer\u001b[0m\u001b[0;34m,\u001b[0m \u001b[0mkwds\u001b[0m\u001b[0;34m)\u001b[0m\u001b[0;34m\u001b[0m\u001b[0;34m\u001b[0m\u001b[0m\n\u001b[0m\u001b[1;32m    687\u001b[0m \u001b[0;34m\u001b[0m\u001b[0m\n\u001b[1;32m    688\u001b[0m \u001b[0;34m\u001b[0m\u001b[0m\n",
      "\u001b[0;32m/Applications/anaconda3/envs/INFO2950/lib/python3.8/site-packages/pandas/io/parsers.py\u001b[0m in \u001b[0;36m_read\u001b[0;34m(filepath_or_buffer, kwds)\u001b[0m\n\u001b[1;32m    450\u001b[0m \u001b[0;34m\u001b[0m\u001b[0m\n\u001b[1;32m    451\u001b[0m     \u001b[0;31m# Create the parser.\u001b[0m\u001b[0;34m\u001b[0m\u001b[0;34m\u001b[0m\u001b[0;34m\u001b[0m\u001b[0m\n\u001b[0;32m--> 452\u001b[0;31m     \u001b[0mparser\u001b[0m \u001b[0;34m=\u001b[0m \u001b[0mTextFileReader\u001b[0m\u001b[0;34m(\u001b[0m\u001b[0mfp_or_buf\u001b[0m\u001b[0;34m,\u001b[0m \u001b[0;34m**\u001b[0m\u001b[0mkwds\u001b[0m\u001b[0;34m)\u001b[0m\u001b[0;34m\u001b[0m\u001b[0;34m\u001b[0m\u001b[0m\n\u001b[0m\u001b[1;32m    453\u001b[0m \u001b[0;34m\u001b[0m\u001b[0m\n\u001b[1;32m    454\u001b[0m     \u001b[0;32mif\u001b[0m \u001b[0mchunksize\u001b[0m \u001b[0;32mor\u001b[0m \u001b[0miterator\u001b[0m\u001b[0;34m:\u001b[0m\u001b[0;34m\u001b[0m\u001b[0;34m\u001b[0m\u001b[0m\n",
      "\u001b[0;32m/Applications/anaconda3/envs/INFO2950/lib/python3.8/site-packages/pandas/io/parsers.py\u001b[0m in \u001b[0;36m__init__\u001b[0;34m(self, f, engine, **kwds)\u001b[0m\n\u001b[1;32m    934\u001b[0m             \u001b[0mself\u001b[0m\u001b[0;34m.\u001b[0m\u001b[0moptions\u001b[0m\u001b[0;34m[\u001b[0m\u001b[0;34m\"has_index_names\"\u001b[0m\u001b[0;34m]\u001b[0m \u001b[0;34m=\u001b[0m \u001b[0mkwds\u001b[0m\u001b[0;34m[\u001b[0m\u001b[0;34m\"has_index_names\"\u001b[0m\u001b[0;34m]\u001b[0m\u001b[0;34m\u001b[0m\u001b[0;34m\u001b[0m\u001b[0m\n\u001b[1;32m    935\u001b[0m \u001b[0;34m\u001b[0m\u001b[0m\n\u001b[0;32m--> 936\u001b[0;31m         \u001b[0mself\u001b[0m\u001b[0;34m.\u001b[0m\u001b[0m_make_engine\u001b[0m\u001b[0;34m(\u001b[0m\u001b[0mself\u001b[0m\u001b[0;34m.\u001b[0m\u001b[0mengine\u001b[0m\u001b[0;34m)\u001b[0m\u001b[0;34m\u001b[0m\u001b[0;34m\u001b[0m\u001b[0m\n\u001b[0m\u001b[1;32m    937\u001b[0m \u001b[0;34m\u001b[0m\u001b[0m\n\u001b[1;32m    938\u001b[0m     \u001b[0;32mdef\u001b[0m \u001b[0mclose\u001b[0m\u001b[0;34m(\u001b[0m\u001b[0mself\u001b[0m\u001b[0;34m)\u001b[0m\u001b[0;34m:\u001b[0m\u001b[0;34m\u001b[0m\u001b[0;34m\u001b[0m\u001b[0m\n",
      "\u001b[0;32m/Applications/anaconda3/envs/INFO2950/lib/python3.8/site-packages/pandas/io/parsers.py\u001b[0m in \u001b[0;36m_make_engine\u001b[0;34m(self, engine)\u001b[0m\n\u001b[1;32m   1166\u001b[0m     \u001b[0;32mdef\u001b[0m \u001b[0m_make_engine\u001b[0m\u001b[0;34m(\u001b[0m\u001b[0mself\u001b[0m\u001b[0;34m,\u001b[0m \u001b[0mengine\u001b[0m\u001b[0;34m=\u001b[0m\u001b[0;34m\"c\"\u001b[0m\u001b[0;34m)\u001b[0m\u001b[0;34m:\u001b[0m\u001b[0;34m\u001b[0m\u001b[0;34m\u001b[0m\u001b[0m\n\u001b[1;32m   1167\u001b[0m         \u001b[0;32mif\u001b[0m \u001b[0mengine\u001b[0m \u001b[0;34m==\u001b[0m \u001b[0;34m\"c\"\u001b[0m\u001b[0;34m:\u001b[0m\u001b[0;34m\u001b[0m\u001b[0;34m\u001b[0m\u001b[0m\n\u001b[0;32m-> 1168\u001b[0;31m             \u001b[0mself\u001b[0m\u001b[0;34m.\u001b[0m\u001b[0m_engine\u001b[0m \u001b[0;34m=\u001b[0m \u001b[0mCParserWrapper\u001b[0m\u001b[0;34m(\u001b[0m\u001b[0mself\u001b[0m\u001b[0;34m.\u001b[0m\u001b[0mf\u001b[0m\u001b[0;34m,\u001b[0m \u001b[0;34m**\u001b[0m\u001b[0mself\u001b[0m\u001b[0;34m.\u001b[0m\u001b[0moptions\u001b[0m\u001b[0;34m)\u001b[0m\u001b[0;34m\u001b[0m\u001b[0;34m\u001b[0m\u001b[0m\n\u001b[0m\u001b[1;32m   1169\u001b[0m         \u001b[0;32melse\u001b[0m\u001b[0;34m:\u001b[0m\u001b[0;34m\u001b[0m\u001b[0;34m\u001b[0m\u001b[0m\n\u001b[1;32m   1170\u001b[0m             \u001b[0;32mif\u001b[0m \u001b[0mengine\u001b[0m \u001b[0;34m==\u001b[0m \u001b[0;34m\"python\"\u001b[0m\u001b[0;34m:\u001b[0m\u001b[0;34m\u001b[0m\u001b[0;34m\u001b[0m\u001b[0m\n",
      "\u001b[0;32m/Applications/anaconda3/envs/INFO2950/lib/python3.8/site-packages/pandas/io/parsers.py\u001b[0m in \u001b[0;36m__init__\u001b[0;34m(self, src, **kwds)\u001b[0m\n\u001b[1;32m   1996\u001b[0m         \u001b[0mkwds\u001b[0m\u001b[0;34m[\u001b[0m\u001b[0;34m\"usecols\"\u001b[0m\u001b[0;34m]\u001b[0m \u001b[0;34m=\u001b[0m \u001b[0mself\u001b[0m\u001b[0;34m.\u001b[0m\u001b[0musecols\u001b[0m\u001b[0;34m\u001b[0m\u001b[0;34m\u001b[0m\u001b[0m\n\u001b[1;32m   1997\u001b[0m \u001b[0;34m\u001b[0m\u001b[0m\n\u001b[0;32m-> 1998\u001b[0;31m         \u001b[0mself\u001b[0m\u001b[0;34m.\u001b[0m\u001b[0m_reader\u001b[0m \u001b[0;34m=\u001b[0m \u001b[0mparsers\u001b[0m\u001b[0;34m.\u001b[0m\u001b[0mTextReader\u001b[0m\u001b[0;34m(\u001b[0m\u001b[0msrc\u001b[0m\u001b[0;34m,\u001b[0m \u001b[0;34m**\u001b[0m\u001b[0mkwds\u001b[0m\u001b[0;34m)\u001b[0m\u001b[0;34m\u001b[0m\u001b[0;34m\u001b[0m\u001b[0m\n\u001b[0m\u001b[1;32m   1999\u001b[0m         \u001b[0mself\u001b[0m\u001b[0;34m.\u001b[0m\u001b[0munnamed_cols\u001b[0m \u001b[0;34m=\u001b[0m \u001b[0mself\u001b[0m\u001b[0;34m.\u001b[0m\u001b[0m_reader\u001b[0m\u001b[0;34m.\u001b[0m\u001b[0munnamed_cols\u001b[0m\u001b[0;34m\u001b[0m\u001b[0;34m\u001b[0m\u001b[0m\n\u001b[1;32m   2000\u001b[0m \u001b[0;34m\u001b[0m\u001b[0m\n",
      "\u001b[0;32mpandas/_libs/parsers.pyx\u001b[0m in \u001b[0;36mpandas._libs.parsers.TextReader.__cinit__\u001b[0;34m()\u001b[0m\n",
      "\u001b[0;32mpandas/_libs/parsers.pyx\u001b[0m in \u001b[0;36mpandas._libs.parsers.TextReader._setup_parser_source\u001b[0;34m()\u001b[0m\n",
      "\u001b[0;31mFileNotFoundError\u001b[0m: [Errno 2] No such file or directory: 'CrimeStatistics.csv'"
     ]
    }
   ],
   "source": [
    "crimestats = pd.read_csv(\"CrimeStatistics.csv\", index_col='City')\n",
    "crimestats"
   ]
  },
  {
   "cell_type": "code",
   "execution_count": null,
   "metadata": {},
   "outputs": [],
   "source": [
    "crimestats.dtypes"
   ]
  },
  {
   "cell_type": "code",
   "execution_count": null,
   "metadata": {},
   "outputs": [],
   "source": [
    "crimestats.loc['New Orleans':'Portland','YTD Murder':'2019 YTD Murder'].plot.bar()"
   ]
  },
  {
   "cell_type": "code",
   "execution_count": null,
   "metadata": {},
   "outputs": [],
   "source": [
    "crimestats.loc['New Orleans':'Portland','YTD Violent':'2019 YTD Violent'].plot.bar()"
   ]
  },
  {
   "cell_type": "code",
   "execution_count": null,
   "metadata": {},
   "outputs": [],
   "source": [
    "crimestats.loc['New Orleans':'Portland','YTD Property':'2019 YTD Property'].plot.bar()"
   ]
  },
  {
   "cell_type": "code",
   "execution_count": null,
   "metadata": {},
   "outputs": [],
   "source": [
    "crimestats.loc['New Orleans':'Portland','YTD Total':'2019 YTD Total'].plot.bar()"
   ]
  },
  {
   "cell_type": "markdown",
   "metadata": {},
   "source": [
    "### Crime statistics for NY and LA ###"
   ]
  },
  {
   "cell_type": "code",
   "execution_count": null,
   "metadata": {},
   "outputs": [],
   "source": [
    "crimedata.loc['NY','Homicide20YTD':'Burglary19YTD'].plot.bar(color=['green', 'orange'])"
   ]
  },
  {
   "cell_type": "code",
   "execution_count": null,
   "metadata": {},
   "outputs": [],
   "source": [
    "crimedata.loc['LA','Homicide20YTD':'Burglary19YTD'].plot.bar(color=['green', 'orange'])"
   ]
  },
  {
   "cell_type": "code",
   "execution_count": null,
   "metadata": {},
   "outputs": [],
   "source": [
    "coviddata.loc[:,'Cases':'Deaths'].plot.bar()"
   ]
  },
  {
   "cell_type": "code",
   "execution_count": null,
   "metadata": {},
   "outputs": [],
   "source": []
  },
  {
   "cell_type": "markdown",
   "metadata": {},
   "source": [
    "## 6. Questions for reviewers ## \n",
    "List specific questions for your peer reviewers and project mentor to answer in giving you feedback on this phase."
   ]
  },
  {
   "cell_type": "code",
   "execution_count": null,
   "metadata": {},
   "outputs": [],
   "source": []
  },
  {
   "cell_type": "code",
   "execution_count": null,
   "metadata": {},
   "outputs": [],
   "source": []
  },
  {
   "cell_type": "code",
   "execution_count": null,
   "metadata": {},
   "outputs": [],
   "source": []
  }
 ],
 "metadata": {
  "kernelspec": {
   "display_name": "Python 3",
   "language": "python",
   "name": "python3"
  },
  "language_info": {
   "codemirror_mode": {
    "name": "ipython",
    "version": 3
   },
   "file_extension": ".py",
   "mimetype": "text/x-python",
   "name": "python",
   "nbconvert_exporter": "python",
   "pygments_lexer": "ipython3",
   "version": "3.8.5"
  }
 },
 "nbformat": 4,
 "nbformat_minor": 4
}
